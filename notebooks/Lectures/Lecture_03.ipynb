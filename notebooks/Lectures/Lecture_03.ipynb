{
 "cells": [
  {
   "metadata": {},
   "cell_type": "markdown",
   "source": [
    "# Lecture 3: Multi-Layer Perceptrons\n",
    "\n",
    "In this lecture, we will introduce Multi-Layer Perceptrons (MLP).\n",
    "\n",
    "We will reproduce the following paper [A Neural Probabilistic Language Model](https://jmlr.org/papers/volume3/bengio03a/bengio03a.pdf)"
   ],
   "id": "284bed26807861ab"
  },
  {
   "metadata": {},
   "cell_type": "markdown",
   "source": [
    "## Curse of Dimensionality\n",
    "\n",
    "For a character-level language model, the input vector is a one-hot vector of size 27 (26 characters + 1 space).\n",
    "\n",
    "If the model is not a character-level language model, (e.g., word-level language model), the input vector size is the size of the vocabulary which is usually very large (e.g., 20,000).\n",
    "\n",
    "This leads to the curse of dimensionality.\n",
    "\n",
    "**Solution**: Use a lower-dimensional representation of the input vector.\n",
    "\n",
    "The hypothesis is that similar words will have similar representations (e.g., dog and cat). Let's find a way to embed words into a lower-dimensional space.\n",
    "\n",
    "**Example**\n",
    "- The cat is walking in the bedroom. (Train data)\n",
    "- A dog was running in a room. (Train data)\n",
    "- The cat was running in a room. (Train data)\n",
    "- A dog is walking in a bedroom. (Train data)\n",
    "- A cat was running in a <?> (Test data)\n",
    "\n",
    "The model should be able to predict the word \"room\"(or the similar words) in the test data."
   ],
   "id": "1df5ff9bcc4a9e24"
  },
  {
   "metadata": {},
   "cell_type": "markdown",
   "source": [
    "## MLP\n",
    "\n",
    "In the previous lecture, we have successfully implemented Bigram language model. \n",
    "In this lecture, we will implement a Multi-Layer Perceptron (MLP) language model.\n",
    "\n",
    "For practical reasons, let's use a character-level language model.\n",
    "\n",
    "![MLP](../images/MLP.png)"
   ],
   "id": "3091db96691073c9"
  },
  {
   "metadata": {},
   "cell_type": "markdown",
   "source": "### Importing Libraries",
   "id": "8708acc13f08c1a2"
  },
  {
   "metadata": {
    "ExecuteTime": {
     "end_time": "2025-02-08T04:20:35.325790Z",
     "start_time": "2025-02-08T04:20:33.718092Z"
    }
   },
   "cell_type": "code",
   "source": [
    "import os\n",
    "import matplotlib.pyplot as plt\n",
    "import torch\n",
    "from torch.nn import functional as F\n",
    "from dataclasses import dataclass\n",
    "from src.utils import load_text, set_seed\n",
    "%matplotlib inline"
   ],
   "id": "37a60786dfb334e7",
   "outputs": [],
   "execution_count": 1
  },
  {
   "metadata": {},
   "cell_type": "markdown",
   "source": "### Configuration",
   "id": "a5ecfeadcb656ced"
  },
  {
   "metadata": {
    "ExecuteTime": {
     "end_time": "2025-02-08T04:20:35.330542Z",
     "start_time": "2025-02-08T04:20:35.327009Z"
    }
   },
   "cell_type": "code",
   "source": [
    "@dataclass\n",
    "class MLPConfig:\n",
    "    root_dir: str = os.getcwd() + \"/../../\"\n",
    "    dataset_path: str = \"data/raw/names.txt\"\n",
    "\n",
    "    # Tokenizer\n",
    "    vocab_size: int = 0  # Set later\n",
    "    \n",
    "    # Model\n",
    "    context_size: int = 3\n",
    "    d_embed: int = 16\n",
    "    d_hidden: int = 64\n",
    "    \n",
    "    # Training\n",
    "    batch_size: int = 32\n",
    "    lr: float = 2e-4\n",
    "    max_steps: int = 10000\n",
    "\n",
    "    seed: int = 101"
   ],
   "id": "initial_id",
   "outputs": [],
   "execution_count": 2
  },
  {
   "metadata": {},
   "cell_type": "markdown",
   "source": "### Reproducibility",
   "id": "5e753e3f451b6b46"
  },
  {
   "metadata": {
    "ExecuteTime": {
     "end_time": "2025-02-08T04:20:35.367942Z",
     "start_time": "2025-02-08T04:20:35.331370Z"
    }
   },
   "cell_type": "code",
   "source": [
    "set_seed(MLPConfig.seed)\n",
    "generator = torch.Generator().manual_seed(MLPConfig.seed)"
   ],
   "id": "95b8b6a2b1a7d33b",
   "outputs": [
    {
     "name": "stdout",
     "output_type": "stream",
     "text": [
      "Random seed set to 101\n"
     ]
    }
   ],
   "execution_count": 3
  },
  {
   "metadata": {},
   "cell_type": "markdown",
   "source": "### Dataset",
   "id": "d949a0c1c1439c98"
  },
  {
   "metadata": {
    "ExecuteTime": {
     "end_time": "2025-02-08T04:20:35.376981Z",
     "start_time": "2025-02-08T04:20:35.368851Z"
    }
   },
   "cell_type": "code",
   "source": [
    "# Load text and split by lines\n",
    "names = load_text(MLPConfig.root_dir + MLPConfig.dataset_path).splitlines()"
   ],
   "id": "631634a0a4e5f9dc",
   "outputs": [
    {
     "name": "stdout",
     "output_type": "stream",
     "text": [
      "Loaded text data from /mnt/c/Users/cheir/GitHub/LLM101/notebooks/Lectures/../../data/raw/names.txt (length: 228145 characters).\n"
     ]
    }
   ],
   "execution_count": 4
  },
  {
   "metadata": {},
   "cell_type": "markdown",
   "source": "### Tokenizer",
   "id": "d4e7c1b4ba601a75"
  },
  {
   "metadata": {
    "ExecuteTime": {
     "end_time": "2025-02-08T04:20:35.395100Z",
     "start_time": "2025-02-08T04:20:35.378141Z"
    }
   },
   "cell_type": "code",
   "source": [
    "chars = [chr(i) for i in range(97, 123)]  # all alphabet characters\n",
    "chars.insert(0, \".\")  # Add special token\n",
    "MLPConfig.vocab_size = len(chars)\n",
    "str2idx = {char: idx for idx, char in enumerate(chars)}\n",
    "idx2str = {idx: char for char, idx in str2idx.items()}"
   ],
   "id": "dd74c6d04eef45f4",
   "outputs": [],
   "execution_count": 5
  },
  {
   "metadata": {},
   "cell_type": "markdown",
   "source": [
    "### Preprocessing\n",
    "\n",
    "We need to create a dataset of (Input, Target) pairs.\n",
    "- Input: current 3 characters\n",
    "- Output: next 1 character"
   ],
   "id": "3963012859d3b3ad"
  },
  {
   "metadata": {
    "ExecuteTime": {
     "end_time": "2025-02-08T04:20:35.408142Z",
     "start_time": "2025-02-08T04:20:35.396264Z"
    }
   },
   "cell_type": "code",
   "source": [
    "def get_dataloader(names):\n",
    "    context_size = MLPConfig.context_size  # How many characters do we take to predict the next character\n",
    "    xs, ys = [], []\n",
    "\n",
    "    for name in names:\n",
    "        #print(name)\n",
    "        context = [0] * context_size\n",
    "        \n",
    "        for char in name + \".\":\n",
    "            idx = str2idx[char]\n",
    "            xs.append(context)\n",
    "            ys.append(idx)\n",
    "            #print(''.join(idx2str[i] for i in context), '--->', idx2str[idx])\n",
    "            context = context[1:] + [idx]  # Shift the context by 1 character\n",
    "        \n",
    "        #print(\"=\"*10)\n",
    "\n",
    "    xs = torch.tensor(xs)\n",
    "    ys = torch.tensor(ys)\n",
    "    \n",
    "    return xs, ys"
   ],
   "id": "6cfe842b0b31e4b6",
   "outputs": [],
   "execution_count": 6
  },
  {
   "metadata": {
    "ExecuteTime": {
     "end_time": "2025-02-08T04:20:35.419235Z",
     "start_time": "2025-02-08T04:20:35.409219Z"
    }
   },
   "cell_type": "code",
   "source": [
    "xs_3, ys_3 = get_dataloader(names[:3])\n",
    "\n",
    "print(f\"Input shape: {xs_3.shape}, Output shape: {ys_3.shape}\")"
   ],
   "id": "48a2ba95dca9476c",
   "outputs": [
    {
     "name": "stdout",
     "output_type": "stream",
     "text": [
      "Input shape: torch.Size([16, 3]), Output shape: torch.Size([16])\n"
     ]
    }
   ],
   "execution_count": 7
  },
  {
   "metadata": {
    "ExecuteTime": {
     "end_time": "2025-02-08T04:20:35.773455Z",
     "start_time": "2025-02-08T04:20:35.420379Z"
    }
   },
   "cell_type": "code",
   "source": [
    "xs, ys = get_dataloader(names)\n",
    "\n",
    "print(f\"Input shape: {xs.shape}, Output shape: {ys.shape}\")\n",
    "print(f\"Input: {xs[0]}, Output: {ys[0]}\")"
   ],
   "id": "8e016a8a62095eb5",
   "outputs": [
    {
     "name": "stdout",
     "output_type": "stream",
     "text": [
      "Input shape: torch.Size([228146, 3]), Output shape: torch.Size([228146])\n",
      "Input: tensor([0, 0, 0]), Output: 5\n"
     ]
    }
   ],
   "execution_count": 8
  },
  {
   "metadata": {},
   "cell_type": "markdown",
   "source": "### Model",
   "id": "7262c9fc27cdc08a"
  },
  {
   "metadata": {
    "ExecuteTime": {
     "end_time": "2025-02-08T04:20:35.777092Z",
     "start_time": "2025-02-08T04:20:35.774612Z"
    }
   },
   "cell_type": "code",
   "source": "C = torch.randn(27, 2)",
   "id": "85c27cc98404dd9f",
   "outputs": [],
   "execution_count": 9
  },
  {
   "metadata": {
    "ExecuteTime": {
     "end_time": "2025-02-08T04:20:35.798264Z",
     "start_time": "2025-02-08T04:20:35.778039Z"
    }
   },
   "cell_type": "code",
   "source": "C.shape",
   "id": "7a0a714157c115a7",
   "outputs": [
    {
     "data": {
      "text/plain": [
       "torch.Size([27, 2])"
      ]
     },
     "execution_count": 10,
     "metadata": {},
     "output_type": "execute_result"
    }
   ],
   "execution_count": 10
  },
  {
   "metadata": {
    "ExecuteTime": {
     "end_time": "2025-02-08T04:20:35.812607Z",
     "start_time": "2025-02-08T04:20:35.799501Z"
    }
   },
   "cell_type": "code",
   "source": [
    "# Embedding example\n",
    "# a: [1, :]\n",
    "a_embed = C[1, :]\n",
    "print(f\"Embedding of 'a': {a_embed}\")"
   ],
   "id": "17c51b98f3982eac",
   "outputs": [
    {
     "name": "stdout",
     "output_type": "stream",
     "text": [
      "Embedding of 'a': tensor([-0.4323,  1.8811])\n"
     ]
    }
   ],
   "execution_count": 11
  },
  {
   "metadata": {},
   "cell_type": "markdown",
   "source": [
    "How Forward Pass works in MLP:\n",
    "1. Embed the input characters.\n",
    "2. Concatenate the embeddings.\n",
    "3. Pass the concatenated embeddings through a hidden layer.\n",
    "4. Pass the hidden layer output through an output layer.\n",
    "5. Get the output of shape (vocab_size=27).\n",
    "\n",
    "\n",
    "Don't know how to concatenate? PyTorch provides concatenation functionality. [PyTorch Documentation](https://pytorch.org/docs/stable/generated/torch.cat.html)"
   ],
   "id": "2d2b658e69d919a8"
  },
  {
   "metadata": {
    "ExecuteTime": {
     "end_time": "2025-02-08T04:20:35.823451Z",
     "start_time": "2025-02-08T04:20:35.813645Z"
    }
   },
   "cell_type": "code",
   "source": [
    "# Example forward pass\n",
    "# Input: \"emm\"\n",
    "e_embed = C[5]  # e: (embedding_size=2)\n",
    "m_embed = C[12]\n",
    "m_embed2 = C[12]\n",
    "\n",
    "# Concatenate\n",
    "# ------------------\n",
    "# Write your implementation here.\n",
    "x = torch.cat([e_embed, m_embed, m_embed2])  # (embedding_size*context_size=6)\n",
    "# ------------------\n",
    "\n",
    "# Hidden layer\n",
    "# ------------------\n",
    "# Write your implementation here.\n",
    "W1 = torch.randn(6, 4)  # (6, hidden_size=4)\n",
    "h = F.tanh(x @ W1)  # (hidden_size=4)\n",
    "# ------------------\n",
    "\n",
    "# Output layer\n",
    "# ------------------\n",
    "# Write your implementation here.\n",
    "W2 = torch.randn(4, 27)  # (hidden_size=4, vocab_size=27)\n",
    "y = F.softmax(h @ W2, dim=-1)  # (vocab_size=27)\n",
    "# ------------------\n",
    "\n",
    "print(f\"Output shape: {y.shape}\")\n",
    "print(f\"Output: {y}\")"
   ],
   "id": "408d9c150ee5c42b",
   "outputs": [
    {
     "name": "stdout",
     "output_type": "stream",
     "text": [
      "Output shape: torch.Size([27])\n",
      "Output: tensor([0.1801, 0.0544, 0.0071, 0.0016, 0.2292, 0.0032, 0.0016, 0.0955, 0.0666,\n",
      "        0.0019, 0.0169, 0.0164, 0.0696, 0.0032, 0.0114, 0.0086, 0.0209, 0.0091,\n",
      "        0.0010, 0.0071, 0.0336, 0.0057, 0.0936, 0.0059, 0.0071, 0.0474, 0.0015])\n"
     ]
    }
   ],
   "execution_count": 12
  },
  {
   "metadata": {},
   "cell_type": "markdown",
   "source": [
    "Let's refactor the code\n",
    "\n",
    "- Input:\n",
    "    - Shape: (batch_size, context_size)\n",
    "    - Example: [[5, 12, 12], [12, 12, 5]]  # \"emm\", \"mme\"\n",
    "\n",
    "- Parameters:\n",
    "    - Embedding:\n",
    "        - Shape: (vocab_size, d_embed)\n",
    "    - W1:\n",
    "        - Shape: (d_embed * context_size, d_hidden)\n",
    "    - W2:\n",
    "        - Shape: (d_hidden, vocab_size)\n",
    "\n",
    "- Output:\n",
    "    - Shape: (batch_size, vocab_size)\n",
    "    - Example: [[0.04, 0.03, ..., 0.02], [0.02, 0.03, ..., 0.04]]"
   ],
   "id": "7e3ed6aef1236744"
  },
  {
   "metadata": {
    "ExecuteTime": {
     "end_time": "2025-02-08T04:20:35.841023Z",
     "start_time": "2025-02-08T04:20:35.824627Z"
    }
   },
   "cell_type": "code",
   "source": [
    "# Initialize parameters\n",
    "vocab_size = MLPConfig.vocab_size\n",
    "context_size = MLPConfig.context_size\n",
    "d_embed = MLPConfig.d_embed\n",
    "d_hidden = MLPConfig.d_hidden\n",
    "C = torch.randn(vocab_size, d_embed, generator=generator)\n",
    "W1 = torch.randn(d_embed * context_size, d_hidden, generator=generator)\n",
    "b1 = torch.randn(d_hidden, generator=generator)\n",
    "W2 = torch.randn(d_hidden, vocab_size, generator=generator)\n",
    "b2 = torch.randn(vocab_size, generator=generator)\n",
    "\n",
    "parameters = [C, W1, b1, W2, b2]\n",
    "for params in parameters:\n",
    "    params.requires_grad = True\n",
    "print(f\"Number of parameters: {sum(p.numel() for p in parameters)}\")"
   ],
   "id": "fadace327323382",
   "outputs": [
    {
     "name": "stdout",
     "output_type": "stream",
     "text": [
      "Number of parameters: 5323\n"
     ]
    }
   ],
   "execution_count": 13
  },
  {
   "metadata": {},
   "cell_type": "markdown",
   "source": [
    "### Training\n",
    "\n",
    "PyTorch provides a CrossEntropyLoss function. [PyTorch Documentation](https://pytorch.org/docs/stable/generated/torch.nn.CrossEntropyLoss.html)\n",
    "\n",
    "**Note**: Softmax is already included in the CrossEntropyLoss function.\n",
    "\n",
    "Change the learning rate so that the loss graph looks as following\n",
    "\n",
    "![Loss](../images/loss.png)"
   ],
   "id": "bbc57ec6f727432b"
  },
  {
   "metadata": {
    "ExecuteTime": {
     "end_time": "2025-02-08T04:20:38.957224Z",
     "start_time": "2025-02-08T04:20:35.842564Z"
    }
   },
   "cell_type": "code",
   "source": [
    "batch_size = MLPConfig.batch_size  # Do not change\n",
    "max_steps = MLPConfig.max_steps  # Do not change\n",
    "lr = MLPConfig.lr  # Change learning rate\n",
    "steps = []\n",
    "losses = []\n",
    "\n",
    "\n",
    "for i in range(max_steps):\n",
    "    # Mini-batch\n",
    "    idx = torch.randint(0, len(xs), (batch_size,))\n",
    "    x = xs[idx]  # (batch_size, context_size)\n",
    "    y = ys[idx]  # (batch_size)\n",
    "    if i == 0:\n",
    "        print(f\"x: {x}\")\n",
    "        print(f\"y: {y}\")\n",
    "    \n",
    "    # Forward pass\n",
    "    # ------------------\n",
    "    # Write your implementation here.\n",
    "    ## Embedding\n",
    "    x_embed = C[x]  # (batch_size, context_size, d_embed)\n",
    "    ## Concatenate\n",
    "    x = x_embed.view(batch_size, -1)  # (batch_size, d_embed*context_size)\n",
    "    ## Hidden layer\n",
    "    h = F.tanh(x @ W1 + b1)  # (batch_size, d_hidden)\n",
    "    ## Output layer\n",
    "    logits = h @ W2 + b2  # (batch_size, vocab_size)\n",
    "    # ----------------\n",
    "    loss = F.cross_entropy(logits, y)\n",
    "    \n",
    "    # Backward pass\n",
    "    for param in parameters:\n",
    "        param.grad = None\n",
    "    loss.backward()\n",
    "    \n",
    "    # Update parameters\n",
    "    for param in parameters:\n",
    "        param.data += -lr * param.grad\n",
    "    \n",
    "    # Track loss\n",
    "    steps.append(i)\n",
    "    losses.append(loss.log10().item())\n",
    "    \n",
    "# Plot loss\n",
    "plt.plot(steps, losses)\n",
    "plt.xlabel(\"Steps\")\n",
    "plt.ylabel(\"Loss\")\n",
    "plt.show()"
   ],
   "id": "e836179adeea5de1",
   "outputs": [
    {
     "name": "stdout",
     "output_type": "stream",
     "text": [
      "x: tensor([[ 0,  0, 10],\n",
      "        [ 0,  1, 18],\n",
      "        [ 0,  0,  1],\n",
      "        [ 9, 19,  8],\n",
      "        [ 9, 18, 15],\n",
      "        [ 9, 12, 15],\n",
      "        [ 0,  0, 12],\n",
      "        [ 0,  0, 26],\n",
      "        [ 5, 25, 18],\n",
      "        [ 5, 13,  1],\n",
      "        [23,  1,  1],\n",
      "        [ 0,  0, 20],\n",
      "        [ 9, 12, 25],\n",
      "        [ 1, 25, 12],\n",
      "        [13,  1, 26],\n",
      "        [ 0,  0,  0],\n",
      "        [ 0,  1,  9],\n",
      "        [ 0,  0,  1],\n",
      "        [ 0,  0, 12],\n",
      "        [ 0,  0,  0],\n",
      "        [ 0, 20,  5],\n",
      "        [ 0,  2, 18],\n",
      "        [ 9, 19,  8],\n",
      "        [ 0,  0, 13],\n",
      "        [ 0,  0,  6],\n",
      "        [26,  1, 14],\n",
      "        [20,  5, 19],\n",
      "        [ 8,  1, 18],\n",
      "        [ 0,  4, 18],\n",
      "        [18,  1,  8],\n",
      "        [26,  9,  5],\n",
      "        [ 0, 20,  1]])\n",
      "y: tensor([21,  9, 16,  0,  0,  0, 12,  5,  0, 18, 12,  1,  5,  1, 25, 10, 11, 26,\n",
      "         1, 10,  1,  9,  1,  1, 18,  5,  0, 20,  9,  0, 12, 13])\n"
     ]
    },
    {
     "data": {
      "text/plain": [
       "<Figure size 640x480 with 1 Axes>"
      ],
      "image/png": "[encoded data removed]"
     },
     "metadata": {},
     "output_type": "display_data"
    }
   ],
   "execution_count": 14
  },
  {
   "metadata": {
    "ExecuteTime": {
     "end_time": "2025-02-08T04:20:39.036175Z",
     "start_time": "2025-02-08T04:20:38.958383Z"
    }
   },
   "cell_type": "code",
   "source": [
    "# Visualization of the embedding matrix\n",
    "plt.figure(figsize=(10, 10))\n",
    "plt.scatter(C[:,0].data, C[:,1].data, s=200)  # dimensions of 0 and 1\n",
    "for i in range(C.shape[0]):\n",
    "    plt.text(C[i,0].item(), C[i,1].item(), idx2str[i], ha=\"center\", va=\"center\", color='white')\n",
    "plt.grid('minor')"
   ],
   "id": "df72a0dca624d881",
   "outputs": [
    {
     "data": {
      "text/plain": [
       "<Figure size 1000x1000 with 1 Axes>"
      ],
      "image/png": "[encoded data removed]"
     },
     "metadata": {},
     "output_type": "display_data"
    }
   ],
   "execution_count": 15
  },
  {
   "metadata": {},
   "cell_type": "markdown",
   "source": "### Inference",
   "id": "dfcd744c7b998412"
  },
  {
   "metadata": {
    "ExecuteTime": {
     "end_time": "2025-02-08T04:20:39.040213Z",
     "start_time": "2025-02-08T04:20:39.037260Z"
    }
   },
   "cell_type": "code",
   "source": [
    "def generate_name():\n",
    "    new_name = []\n",
    "    context = [0] * MLPConfig.context_size\n",
    "    \n",
    "    while True:\n",
    "        # forward pass\n",
    "        x = torch.tensor(context)\n",
    "        x_embed = C[x]\n",
    "        x = x_embed.view(1, -1)\n",
    "        h = F.tanh(x @ W1 + b1)\n",
    "        logits = h @ W2 + b2\n",
    "        \n",
    "        # sample\n",
    "        probs = F.softmax(logits, dim=-1)\n",
    "        idx = torch.multinomial(probs, num_samples=1).item()\n",
    "        \n",
    "        # update context\n",
    "        new_name.append(idx2str[idx])\n",
    "        context = context[1:] + [idx]\n",
    "        \n",
    "        # break if \".\"\n",
    "        if idx == 0:\n",
    "            break\n",
    "        \n",
    "    return \"\".join(new_name)"
   ],
   "id": "abda449e10e08b5d",
   "outputs": [],
   "execution_count": 16
  },
  {
   "metadata": {
    "ExecuteTime": {
     "end_time": "2025-02-08T04:20:39.057470Z",
     "start_time": "2025-02-08T04:20:39.041462Z"
    }
   },
   "cell_type": "code",
   "source": [
    "for _ in range(5):\n",
    "    print(generate_name())"
   ],
   "id": "f6f087858302e637",
   "outputs": [
    {
     "name": "stdout",
     "output_type": "stream",
     "text": [
      "ffokogxgxcxbcoaxg.\n",
      "wnrufgnj.\n",
      "qxidokigkcxzbrkfgacuhb.\n",
      "qaudrovgqixouixhcbfzasrwkqib.\n",
      "qnoegknrkfgacgabutgkdxbuigkcxzbpgbpkhxzaictfflkgickfutgkcxauixhcbfzasrwvfokgrrsfbkymo.\n"
     ]
    }
   ],
   "execution_count": 17
  }
 ],
 "metadata": {
  "kernelspec": {
   "display_name": "Python 3",
   "language": "python",
   "name": "python3"
  },
  "language_info": {
   "codemirror_mode": {
    "name": "ipython",
    "version": 2
   },
   "file_extension": ".py",
   "mimetype": "text/x-python",
   "name": "python",
   "nbconvert_exporter": "python",
   "pygments_lexer": "ipython2",
   "version": "2.7.6"
  }
 },
 "nbformat": 4,
 "nbformat_minor": 5
}
