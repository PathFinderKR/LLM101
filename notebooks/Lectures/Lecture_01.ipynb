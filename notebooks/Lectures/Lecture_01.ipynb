{
 "cells": [
  {
   "metadata": {},
   "cell_type": "markdown",
   "source": [
    "# Lecture 1: Introduction to Machine Learning\n",
    "\n",
    "In this lecture, we will introduce the basics of machine learning.\n",
    "\n",
    "Let's start by exploring what neural network training looks like under the hood."
   ],
   "id": "32ac1a934eac9271"
  },
  {
   "metadata": {},
   "cell_type": "markdown",
   "source": [
    "## Part 1: Backpropagation\n",
    "\n",
    "Backpropagation algorithm is the cornerstone of training neural networks. (used in all neural nets) It is a method to calculate the gradient of the loss function with respect to the weights of the network.\n",
    "\n",
    "**The main problem is... how do computers compute the gradient?**\n",
    "\n",
    "Humans get the gradient by calculating the derivative, then plug in the values.\n",
    "\n",
    "Computers can't do that:\n",
    "1. Derivatives are hard to calculate\n",
    "2. Neural networks are huge\n",
    "\n",
    "Let's build our own backpropagation algorithm from scratch step by step.\n",
    "\n"
   ],
   "id": "82b8f28897d2765a"
  },
  {
   "metadata": {
    "ExecuteTime": {
     "end_time": "2025-02-06T08:19:35.384583Z",
     "start_time": "2025-02-06T08:19:35.027820Z"
    }
   },
   "cell_type": "code",
   "source": [
    "import math\n",
    "import random\n",
    "import numpy as np\n",
    "import matplotlib.pyplot as plt"
   ],
   "id": "afdaf122c0a24b14",
   "outputs": [],
   "execution_count": 1
  },
  {
   "metadata": {},
   "cell_type": "markdown",
   "source": "### Manual Gradient Calculation",
   "id": "f8b173bdbbdff33b"
  },
  {
   "metadata": {
    "ExecuteTime": {
     "end_time": "2025-02-06T08:19:35.390582Z",
     "start_time": "2025-02-06T08:19:35.388644Z"
    }
   },
   "cell_type": "code",
   "source": [
    "# Define a random function\n",
    "# f(x) = 3x^2 - 4x + 5\n",
    "# ------------------\n",
    "# Write your implementation here.\n",
    "def f(x):\n",
    "    return 3 * x ** 2 - 4 * x + 5\n",
    "# ------------------"
   ],
   "id": "79bd41eabcac06c0",
   "outputs": [],
   "execution_count": 2
  },
  {
   "metadata": {
    "ExecuteTime": {
     "end_time": "2025-02-06T08:19:35.433736Z",
     "start_time": "2025-02-06T08:19:35.429935Z"
    }
   },
   "cell_type": "code",
   "source": "f(2)",
   "id": "5f29125addedc611",
   "outputs": [
    {
     "data": {
      "text/plain": [
       "9"
      ]
     },
     "execution_count": 3,
     "metadata": {},
     "output_type": "execute_result"
    }
   ],
   "execution_count": 3
  },
  {
   "metadata": {
    "ExecuteTime": {
     "end_time": "2025-02-06T08:19:35.507889Z",
     "start_time": "2025-02-06T08:19:35.439031Z"
    }
   },
   "cell_type": "code",
   "source": [
    "# Plot the function\n",
    "xs = np.arange(-5, 5, 0.25)  # np.arange(start, stop, step)\n",
    "ys = [f(x) for x in xs]\n",
    "plt.plot(xs, ys)"
   ],
   "id": "34cf6c8c9460cedb",
   "outputs": [
    {
     "data": {
      "text/plain": [
       "[<matplotlib.lines.Line2D at 0x13e08a330>]"
      ]
     },
     "execution_count": 4,
     "metadata": {},
     "output_type": "execute_result"
    },
    {
     "data": {
      "text/plain": [
       "<Figure size 640x480 with 1 Axes>"
      ],
      "image/png": "[encoded data removed]"
     },
     "metadata": {},
     "output_type": "display_data"
    }
   ],
   "execution_count": 4
  },
  {
   "metadata": {
    "ExecuteTime": {
     "end_time": "2025-02-06T08:19:35.550520Z",
     "start_time": "2025-02-06T08:19:35.547854Z"
    }
   },
   "cell_type": "code",
   "source": [
    "# What is the gradient of f(x) at x=2?\n",
    "# Human approach\n",
    "# f'(x) = 6x - 4 -> f'(2) = 6*2 - 4 = 8\n",
    "\n",
    "# Computer approach\n",
    "# gradient = (f(x + h) - f(x)) / h\n",
    "# h = small number\n",
    "def gradient(f, x, h=0.0001):\n",
    "    return (f(x + h) - f(x)) / h"
   ],
   "id": "a4858fe8eb81441b",
   "outputs": [],
   "execution_count": 5
  },
  {
   "metadata": {
    "ExecuteTime": {
     "end_time": "2025-02-06T08:19:35.564698Z",
     "start_time": "2025-02-06T08:19:35.559898Z"
    }
   },
   "cell_type": "code",
   "source": "gradient(f, 2)",
   "id": "6c0972b63c72fe7c",
   "outputs": [
    {
     "data": {
      "text/plain": [
       "8.000300000023941"
      ]
     },
     "execution_count": 6,
     "metadata": {},
     "output_type": "execute_result"
    }
   ],
   "execution_count": 6
  },
  {
   "metadata": {
    "ExecuteTime": {
     "end_time": "2025-02-06T08:19:35.598629Z",
     "start_time": "2025-02-06T08:19:35.595980Z"
    }
   },
   "cell_type": "code",
   "source": [
    "def f(x, y, z):\n",
    "    return (x + y) * z"
   ],
   "id": "7c8986c366d8e99d",
   "outputs": [],
   "execution_count": 7
  },
  {
   "metadata": {
    "ExecuteTime": {
     "end_time": "2025-02-06T08:19:35.616381Z",
     "start_time": "2025-02-06T08:19:35.613120Z"
    }
   },
   "cell_type": "code",
   "source": "f(-2, 5, -4)",
   "id": "25857fe002e61146",
   "outputs": [
    {
     "data": {
      "text/plain": [
       "-12"
      ]
     },
     "execution_count": 8,
     "metadata": {},
     "output_type": "execute_result"
    }
   ],
   "execution_count": 8
  },
  {
   "metadata": {},
   "cell_type": "markdown",
   "source": [
    "![(x + y) * z](assets/(x+y)z.png)\n",
    "\n",
    "**Goal**:\n",
    "1. dg/dx\n",
    "2. dg/dy\n",
    "3. dg/dz"
   ],
   "id": "a9171fd855b2b1b7"
  },
  {
   "metadata": {
    "ExecuteTime": {
     "end_time": "2025-02-06T08:19:35.649049Z",
     "start_time": "2025-02-06T08:19:35.645520Z"
    }
   },
   "cell_type": "code",
   "source": [
    "# Get the derivative of f(x, y, z) with respect to x, y, z\n",
    "h = 0.0001\n",
    "# Derivative of f with respect to x=2\n",
    "df_dx = (f(-2 + h, 5, -4) - f(-2, 5, -4)) / h\n",
    "print(f\"df/dx: {df_dx}\")\n",
    "# Derivative of f with respect to y=-3\n",
    "df_dy = (f(2, 5 + h, -4) - f(2, 5, -4)) / h\n",
    "print(f\"df/dy: {df_dy}\")\n",
    "# Derivative of f with respect to z=10\n",
    "df_dz = (f(2, 5, -4 + h) - f(2, 5, -4)) / h\n",
    "print(f\"df/dz: {df_dz}\")"
   ],
   "id": "f2c53484de26a8ac",
   "outputs": [
    {
     "name": "stdout",
     "output_type": "stream",
     "text": [
      "df/dx: -3.9999999999906777\n",
      "df/dy: -3.9999999999906777\n",
      "df/dz: 7.000000000019213\n"
     ]
    }
   ],
   "execution_count": 9
  },
  {
   "metadata": {},
   "cell_type": "markdown",
   "source": [
    "![chain rule](assets/chain_rule.png)\n",
    "\n",
    "**Chain Rule**:\n",
    "\n",
    "q = x + y\n",
    "\n",
    "f = q * z\n",
    "\n",
    "1. df/dx = df/dq * dq/dx\n",
    "2. df/dy = df/dq * dq/dy"
   ],
   "id": "b4fecd506dd71a85"
  },
  {
   "metadata": {
    "ExecuteTime": {
     "end_time": "2025-02-06T08:19:35.682289Z",
     "start_time": "2025-02-06T08:19:35.679365Z"
    }
   },
   "cell_type": "code",
   "source": [
    "def f(q, z):\n",
    "    return q * z\n",
    "\n",
    "def q(x, y):\n",
    "    return x + y\n",
    "\n",
    "h = 0.0001"
   ],
   "id": "2c04f86a3c0c5825",
   "outputs": [],
   "execution_count": 10
  },
  {
   "metadata": {
    "ExecuteTime": {
     "end_time": "2025-02-06T08:19:35.703592Z",
     "start_time": "2025-02-06T08:19:35.698892Z"
    }
   },
   "cell_type": "code",
   "source": [
    "# Get the derivative of f(x, y, z) with respect to x, y, z using the chain rule\n",
    "\n",
    "# q\n",
    "# Derivative of f with respect to q=-2\n",
    "# ------------------\n",
    "# Write your implementation here.\n",
    "df_dq = (f(q(-2, 5) + h, -4) - f(q(-2, 5), -4)) / h\n",
    "# ------------------\n",
    "print(f\"df/dq: {df_dq}\")\n",
    "\n",
    "# x\n",
    "# Derivative of q with respect to x=-2\n",
    "# ------------------\n",
    "# Write your implementation here.\n",
    "dq_dx = (q(-2 + h, 5) - q(-2, 5)) / h\n",
    "# ------------------\n",
    "print(f\"dq/dx: {dq_dx}\")\n",
    "# Derivative of f with respect to x=-2\n",
    "# ------------------\n",
    "# Write your implementation here.\n",
    "df_dx = df_dq * dq_dx\n",
    "# ------------------\n",
    "print(f\"df/dx: {df_dx}\")\n",
    "\n",
    "# y\n",
    "# Derivative of q with respect to y=5\n",
    "# ------------------\n",
    "# Write your implementation here.\n",
    "dq_dy = (q(-2, 5 + h) - q(-2, 5)) / h\n",
    "# ------------------\n",
    "print(f\"dq/dy: {dq_dy}\")\n",
    "# Derivative of f with respect to y=5\n",
    "# ------------------\n",
    "# Write your implementation here.\n",
    "df_dy = df_dq * dq_dy\n",
    "# ------------------\n",
    "print(f\"df/dy: {df_dy}\")"
   ],
   "id": "22816305e040df95",
   "outputs": [
    {
     "name": "stdout",
     "output_type": "stream",
     "text": [
      "df/dq: -4.000000000008441\n",
      "dq/dx: 0.9999999999976694\n",
      "df/dx: -3.999999999999119\n",
      "dq/dy: 0.9999999999976694\n",
      "df/dy: -3.999999999999119\n"
     ]
    }
   ],
   "execution_count": 11
  },
  {
   "metadata": {},
   "cell_type": "markdown",
   "source": [
    "### Custom Auto-Grad\n",
    "\n",
    "Neural networks are a series of functions that are composed together. Each function is a layer in the network.\n",
    "\n",
    "- Why not numpy arrays?:\n",
    "    - We need to keep track of the operations and tensors that lead to this tensor in order to calculate the gradient.\n",
    "\n",
    "- **Numerical vs Analytical**\n",
    "    - Numerical differentiation: estimates the gradient using the finite difference approximation\n",
    "        -  f'(x) = (f(x + h) - f(x)) / h\n",
    "        - Slow\n",
    "        - Precision issues\n",
    "    - Analytical differentiation: derives the function symbolically using the chain rule\n",
    "        - Fast\n",
    "        - Precise\n",
    "        - Need the code the derivative of every operation\n"
   ],
   "id": "a1dd5a4407648515"
  },
  {
   "metadata": {
    "ExecuteTime": {
     "end_time": "2025-02-06T08:19:35.752187Z",
     "start_time": "2025-02-06T08:19:35.741853Z"
    }
   },
   "cell_type": "code",
   "source": [
    "class Tensor:\n",
    "    def __init__(self, data, _children=(), _operation='', label=''):\n",
    "        self.data = data\n",
    "        self._prev = set(_children)  # _children: tensors that lead to this tensor (ex: 2 * 3 = 6, 2 and 3 are children of 6)\n",
    "        self._operation = _operation  # _operation: operation that lead to this tensor (ex: 2 * 3 = 6, * is the operation)\n",
    "        self.label = label  # label: name of the tensor\n",
    "        self.gradient = 0\n",
    "        self._backward = lambda: None\n",
    "\n",
    "    # method to print the tensor\n",
    "    def __repr__(self):\n",
    "        return f\"data=({self.data})\"\n",
    "\n",
    "    # method to add two tensors\n",
    "    def __add__(self, other):\n",
    "        output = Tensor(self.data + other.data, (self, other), '+')\n",
    "        def _backward():\n",
    "            # ------------------\n",
    "            # Write your implementation here.\n",
    "            # f = self + other\n",
    "            # df/dself = 1\n",
    "            # df/dother = 1\n",
    "            self.gradient += 1 * output.gradient  # d(self + other)/dself = 1\n",
    "            other.gradient += 1 * output.gradient  # d(self + other)/dother = 1\n",
    "            # ------------------\n",
    "        output._backward = _backward\n",
    "        return output\n",
    "\n",
    "    # method to multiply two tensors\n",
    "    def __mul__(self, other):\n",
    "        output = Tensor(self.data * other.data, (self, other), '*')\n",
    "        def _backward():\n",
    "            # ------------------\n",
    "            # Write your implementation here.\n",
    "            self.gradient += other.data * output.gradient  # d(self * other)/dself = other\n",
    "            other.gradient += self.data * output.gradient  # d(self * other)/dother = self\n",
    "            # ------------------\n",
    "        output._backward = _backward\n",
    "        return output\n",
    "\n",
    "    # tanh: activation function\n",
    "    def tanh(self):\n",
    "        output = Tensor(math.tanh(self.data), (self,), 'tanh')\n",
    "        def _backward():\n",
    "            # ------------------\n",
    "            # Write your implementation here.\n",
    "            self.gradient += (1.0 - math.tanh(self.data) ** 2) * output.gradient  # d(tanh(x))/dx = 1 - tanh(x)^2\n",
    "            # ------------------\n",
    "        output._backward = _backward\n",
    "        return output\n",
    "\n",
    "    def __pow__(self, power):  # self ** power\n",
    "        assert isinstance(power, (int, float)), \"Power must be an int or a float\"\n",
    "        output = Tensor(self.data ** power, (self,), f'**{power}')\n",
    "        def _backward():\n",
    "            # ------------------\n",
    "            # Write your implementation here.\n",
    "            self.gradient += power * (self.data ** (power - 1)) * output.gradient  # d(x^p)/dx = p * x^(p-1)\n",
    "            # ------------------\n",
    "        output._backward = _backward\n",
    "        return output\n",
    "\n",
    "    # method to calculate the gradient\n",
    "    def backward(self):\n",
    "        topo = []\n",
    "        visited = set()\n",
    "        def build_topo(v):\n",
    "            if v not in visited:\n",
    "                visited.add(v)\n",
    "                for child in v._prev:\n",
    "                    build_topo(child)\n",
    "                topo.append(v)\n",
    "        build_topo(self)\n",
    "\n",
    "        self.gradient = 1\n",
    "        for node in reversed(topo):\n",
    "            node._backward()\n",
    "\n",
    "    def __neg__(self): # -self\n",
    "        return self * Tensor(-1.0)\n",
    "\n",
    "    def __sub__(self, other): # self - other\n",
    "        return self + (-other)"
   ],
   "id": "65624f2a4df6d632",
   "outputs": [],
   "execution_count": 12
  },
  {
   "metadata": {
    "ExecuteTime": {
     "end_time": "2025-02-06T08:19:35.766723Z",
     "start_time": "2025-02-06T08:19:35.763629Z"
    }
   },
   "cell_type": "code",
   "source": [
    "a = Tensor(-2.0, label='a')\n",
    "b = Tensor(5.0, label='b')\n",
    "c = Tensor(-4.0, label='c')\n",
    "f = (a + b) * c\n",
    "print(a)\n",
    "print(f)"
   ],
   "id": "fac571f40884fec5",
   "outputs": [
    {
     "name": "stdout",
     "output_type": "stream",
     "text": [
      "data=(-2.0)\n",
      "data=(-12.0)\n"
     ]
    }
   ],
   "execution_count": 13
  },
  {
   "metadata": {
    "ExecuteTime": {
     "end_time": "2025-02-06T08:19:35.812705Z",
     "start_time": "2025-02-06T08:19:35.796651Z"
    }
   },
   "cell_type": "code",
   "source": [
    "# Importing an open-source library for visualization\n",
    "from graphviz import Digraph\n",
    "\n",
    "def trace(root):\n",
    "  # builds a set of all nodes and edges in a graph\n",
    "  nodes, edges = set(), set()\n",
    "  def build(v):\n",
    "    if v not in nodes:\n",
    "      nodes.add(v)\n",
    "      for child in v._prev:\n",
    "        edges.add((child, v))\n",
    "        build(child)\n",
    "  build(root)\n",
    "  return nodes, edges\n",
    "\n",
    "def draw_dot(root):\n",
    "  dot = Digraph(format='svg', graph_attr={'rankdir': 'LR'}) # LR = left to right\n",
    "\n",
    "  nodes, edges = trace(root)\n",
    "  for n in nodes:\n",
    "    uid = str(id(n))\n",
    "    # for any value in the graph, create a rectangular ('record') node for it\n",
    "    dot.node(name = uid, label = \"{ %s | data %.4f | grad %.4f }\" % (n.label, n.data, n.gradient), shape='record')\n",
    "    if n._operation:\n",
    "      # if this value is a result of some operation, create an op node for it\n",
    "      dot.node(name = uid + n._operation, label=n._operation)\n",
    "      # and connect this node to it\n",
    "      dot.edge(uid + n._operation, uid)\n",
    "\n",
    "  for n1, n2 in edges:\n",
    "    # connect n1 to the op node of n2\n",
    "    dot.edge(str(id(n1)), str(id(n2)) + n2._operation)\n",
    "\n",
    "  return dot"
   ],
   "id": "dc29c5a9851a9ca2",
   "outputs": [],
   "execution_count": 14
  },
  {
   "metadata": {
    "ExecuteTime": {
     "end_time": "2025-02-06T08:19:35.961583Z",
     "start_time": "2025-02-06T08:19:35.826719Z"
    }
   },
   "cell_type": "code",
   "source": [
    "f.backward()\n",
    "draw_dot(f)"
   ],
   "id": "2e903d8c90f571a",
   "outputs": [
    {
     "data": {
      "image/svg+xml": "<?xml version=\"1.0\" encoding=\"UTF-8\" standalone=\"no\"?>\n<!DOCTYPE svg PUBLIC \"-//W3C//DTD SVG 1.1//EN\"\n \"http://www.w3.org/Graphics/SVG/1.1/DTD/svg11.dtd\">\n<!-- Generated by graphviz version 2.50.0 (0)\n -->\n<!-- Pages: 1 -->\n<svg width=\"838pt\" height=\"128pt\"\n viewBox=\"0.00 0.00 838.00 128.00\" xmlns=\"http://www.w3.org/2000/svg\" xmlns:xlink=\"http://www.w3.org/1999/xlink\">\n<g id=\"graph0\" class=\"graph\" transform=\"scale(1 1) rotate(0) translate(4 124)\">\n<polygon fill=\"white\" stroke=\"transparent\" points=\"-4,4 -4,-124 834,-124 834,4 -4,4\"/>\n<!-- 5335756448 -->\n<g id=\"node1\" class=\"node\">\n<title>5335756448</title>\n<polygon fill=\"none\" stroke=\"black\" points=\"2.5,-83.5 2.5,-119.5 191.5,-119.5 191.5,-83.5 2.5,-83.5\"/>\n<text text-anchor=\"middle\" x=\"14\" y=\"-97.8\" font-family=\"Times,serif\" font-size=\"14.00\">b</text>\n<polyline fill=\"none\" stroke=\"black\" points=\"25.5,-83.5 25.5,-119.5 \"/>\n<text text-anchor=\"middle\" x=\"65.5\" y=\"-97.8\" font-family=\"Times,serif\" font-size=\"14.00\">data 5.0000</text>\n<polyline fill=\"none\" stroke=\"black\" points=\"105.5,-83.5 105.5,-119.5 \"/>\n<text text-anchor=\"middle\" x=\"148.5\" y=\"-97.8\" font-family=\"Times,serif\" font-size=\"14.00\">grad &#45;4.0000</text>\n</g>\n<!-- 5335759856+ -->\n<g id=\"node7\" class=\"node\">\n<title>5335759856+</title>\n<ellipse fill=\"none\" stroke=\"black\" cx=\"257\" cy=\"-73.5\" rx=\"27\" ry=\"18\"/>\n<text text-anchor=\"middle\" x=\"257\" y=\"-69.8\" font-family=\"Times,serif\" font-size=\"14.00\">+</text>\n</g>\n<!-- 5335756448&#45;&gt;5335759856+ -->\n<g id=\"edge4\" class=\"edge\">\n<title>5335756448&#45;&gt;5335759856+</title>\n<path fill=\"none\" stroke=\"black\" d=\"M191.74,-84.89C202.05,-83.06 212.02,-81.29 220.9,-79.72\"/>\n<polygon fill=\"black\" stroke=\"black\" points=\"221.55,-83.16 230.79,-77.97 220.33,-76.27 221.55,-83.16\"/>\n</g>\n<!-- 5335757024 -->\n<g id=\"node2\" class=\"node\">\n<title>5335757024</title>\n<polygon fill=\"none\" stroke=\"black\" points=\"320,-0.5 320,-36.5 510,-36.5 510,-0.5 320,-0.5\"/>\n<text text-anchor=\"middle\" x=\"331.5\" y=\"-14.8\" font-family=\"Times,serif\" font-size=\"14.00\">c</text>\n<polyline fill=\"none\" stroke=\"black\" points=\"343,-0.5 343,-36.5 \"/>\n<text text-anchor=\"middle\" x=\"385.5\" y=\"-14.8\" font-family=\"Times,serif\" font-size=\"14.00\">data &#45;4.0000</text>\n<polyline fill=\"none\" stroke=\"black\" points=\"428,-0.5 428,-36.5 \"/>\n<text text-anchor=\"middle\" x=\"469\" y=\"-14.8\" font-family=\"Times,serif\" font-size=\"14.00\">grad 3.0000</text>\n</g>\n<!-- 5335995872* -->\n<g id=\"node5\" class=\"node\">\n<title>5335995872*</title>\n<ellipse fill=\"none\" stroke=\"black\" cx=\"573\" cy=\"-45.5\" rx=\"27\" ry=\"18\"/>\n<text text-anchor=\"middle\" x=\"573\" y=\"-41.8\" font-family=\"Times,serif\" font-size=\"14.00\">*</text>\n</g>\n<!-- 5335757024&#45;&gt;5335995872* -->\n<g id=\"edge6\" class=\"edge\">\n<title>5335757024&#45;&gt;5335995872*</title>\n<path fill=\"none\" stroke=\"black\" d=\"M510.34,-34.83C519.62,-36.44 528.58,-37.99 536.66,-39.38\"/>\n<polygon fill=\"black\" stroke=\"black\" points=\"536.27,-42.87 546.72,-41.12 537.46,-35.97 536.27,-42.87\"/>\n</g>\n<!-- 5335756736 -->\n<g id=\"node3\" class=\"node\">\n<title>5335756736</title>\n<polygon fill=\"none\" stroke=\"black\" points=\"0,-28.5 0,-64.5 194,-64.5 194,-28.5 0,-28.5\"/>\n<text text-anchor=\"middle\" x=\"11.5\" y=\"-42.8\" font-family=\"Times,serif\" font-size=\"14.00\">a</text>\n<polyline fill=\"none\" stroke=\"black\" points=\"23,-28.5 23,-64.5 \"/>\n<text text-anchor=\"middle\" x=\"65.5\" y=\"-42.8\" font-family=\"Times,serif\" font-size=\"14.00\">data &#45;2.0000</text>\n<polyline fill=\"none\" stroke=\"black\" points=\"108,-28.5 108,-64.5 \"/>\n<text text-anchor=\"middle\" x=\"151\" y=\"-42.8\" font-family=\"Times,serif\" font-size=\"14.00\">grad &#45;4.0000</text>\n</g>\n<!-- 5335756736&#45;&gt;5335759856+ -->\n<g id=\"edge5\" class=\"edge\">\n<title>5335756736&#45;&gt;5335759856+</title>\n<path fill=\"none\" stroke=\"black\" d=\"M194.01,-62.91C203.35,-64.5 212.37,-66.04 220.49,-67.43\"/>\n<polygon fill=\"black\" stroke=\"black\" points=\"220.16,-70.93 230.6,-69.16 221.34,-64.03 220.16,-70.93\"/>\n</g>\n<!-- 5335995872 -->\n<g id=\"node4\" class=\"node\">\n<title>5335995872</title>\n<polygon fill=\"none\" stroke=\"black\" points=\"636,-27.5 636,-63.5 830,-63.5 830,-27.5 636,-27.5\"/>\n<text text-anchor=\"middle\" x=\"646\" y=\"-41.8\" font-family=\"Times,serif\" font-size=\"14.00\"> </text>\n<polyline fill=\"none\" stroke=\"black\" points=\"656,-27.5 656,-63.5 \"/>\n<text text-anchor=\"middle\" x=\"702\" y=\"-41.8\" font-family=\"Times,serif\" font-size=\"14.00\">data &#45;12.0000</text>\n<polyline fill=\"none\" stroke=\"black\" points=\"748,-27.5 748,-63.5 \"/>\n<text text-anchor=\"middle\" x=\"789\" y=\"-41.8\" font-family=\"Times,serif\" font-size=\"14.00\">grad 1.0000</text>\n</g>\n<!-- 5335995872*&#45;&gt;5335995872 -->\n<g id=\"edge1\" class=\"edge\">\n<title>5335995872*&#45;&gt;5335995872</title>\n<path fill=\"none\" stroke=\"black\" d=\"M600.09,-45.5C607.62,-45.5 616.34,-45.5 625.63,-45.5\"/>\n<polygon fill=\"black\" stroke=\"black\" points=\"625.92,-49 635.92,-45.5 625.92,-42 625.92,-49\"/>\n</g>\n<!-- 5335759856 -->\n<g id=\"node6\" class=\"node\">\n<title>5335759856</title>\n<polygon fill=\"none\" stroke=\"black\" points=\"322,-55.5 322,-91.5 508,-91.5 508,-55.5 322,-55.5\"/>\n<text text-anchor=\"middle\" x=\"332\" y=\"-69.8\" font-family=\"Times,serif\" font-size=\"14.00\"> </text>\n<polyline fill=\"none\" stroke=\"black\" points=\"342,-55.5 342,-91.5 \"/>\n<text text-anchor=\"middle\" x=\"382\" y=\"-69.8\" font-family=\"Times,serif\" font-size=\"14.00\">data 3.0000</text>\n<polyline fill=\"none\" stroke=\"black\" points=\"422,-55.5 422,-91.5 \"/>\n<text text-anchor=\"middle\" x=\"465\" y=\"-69.8\" font-family=\"Times,serif\" font-size=\"14.00\">grad &#45;4.0000</text>\n</g>\n<!-- 5335759856&#45;&gt;5335995872* -->\n<g id=\"edge3\" class=\"edge\">\n<title>5335759856&#45;&gt;5335995872*</title>\n<path fill=\"none\" stroke=\"black\" d=\"M508.1,-56.97C518.13,-55.17 527.85,-53.42 536.55,-51.86\"/>\n<polygon fill=\"black\" stroke=\"black\" points=\"537.38,-55.27 546.6,-50.06 536.14,-48.38 537.38,-55.27\"/>\n</g>\n<!-- 5335759856+&#45;&gt;5335759856 -->\n<g id=\"edge2\" class=\"edge\">\n<title>5335759856+&#45;&gt;5335759856</title>\n<path fill=\"none\" stroke=\"black\" d=\"M284.11,-73.5C292.18,-73.5 301.6,-73.5 311.62,-73.5\"/>\n<polygon fill=\"black\" stroke=\"black\" points=\"311.81,-77 321.81,-73.5 311.81,-70 311.81,-77\"/>\n</g>\n</g>\n</svg>\n",
      "text/plain": [
       "<graphviz.graphs.Digraph at 0x13e1938f0>"
      ]
     },
     "execution_count": 15,
     "metadata": {},
     "output_type": "execute_result"
    }
   ],
   "execution_count": 15
  },
  {
   "metadata": {
    "ExecuteTime": {
     "end_time": "2025-02-06T08:19:35.978318Z",
     "start_time": "2025-02-06T08:19:35.975234Z"
    }
   },
   "cell_type": "code",
   "source": [
    "# Input values\n",
    "x1 = Tensor(2.0, label='x1')\n",
    "x2 = Tensor(3.0, label='x2')\n",
    "\n",
    "# Weights\n",
    "w1 = Tensor(-3.0, label='w1')\n",
    "w2 = Tensor(1.0, label='w2')\n",
    "\n",
    "# bias\n",
    "b = Tensor(6.0, label='b')\n",
    "\n",
    "# y = tanh(Wx + b) = tanh(w1*x1 + w2*x2 + b)\n",
    "x1w1 = x1*w1; x1w1.label = 'x1*w1'\n",
    "x2w2 = x2*w2; x2w2.label = 'x2*w2'\n",
    "x1w1x2w2 = x1w1 + x2w2; x1w1x2w2.label = 'x1*w1 + x2*w2'\n",
    "y = x1w1x2w2 + b\n",
    "y = y.tanh(); y.label = 'y'"
   ],
   "id": "7e543c53d8ec409e",
   "outputs": [],
   "execution_count": 16
  },
  {
   "metadata": {
    "ExecuteTime": {
     "end_time": "2025-02-06T08:19:36.114613Z",
     "start_time": "2025-02-06T08:19:35.988821Z"
    }
   },
   "cell_type": "code",
   "source": [
    "y.backward()\n",
    "draw_dot(y)"
   ],
   "id": "a34a16e25a322a1a",
   "outputs": [
    {
     "data": {
      "image/svg+xml": "<?xml version=\"1.0\" encoding=\"UTF-8\" standalone=\"no\"?>\n<!DOCTYPE svg PUBLIC \"-//W3C//DTD SVG 1.1//EN\"\n \"http://www.w3.org/Graphics/SVG/1.1/DTD/svg11.dtd\">\n<!-- Generated by graphviz version 2.50.0 (0)\n -->\n<!-- Pages: 1 -->\n<svg width=\"1572pt\" height=\"210pt\"\n viewBox=\"0.00 0.00 1572.00 210.00\" xmlns=\"http://www.w3.org/2000/svg\" xmlns:xlink=\"http://www.w3.org/1999/xlink\">\n<g id=\"graph0\" class=\"graph\" transform=\"scale(1 1) rotate(0) translate(4 206)\">\n<polygon fill=\"white\" stroke=\"transparent\" points=\"-4,4 -4,-206 1568,-206 1568,4 -4,4\"/>\n<!-- 5336807952 -->\n<g id=\"node1\" class=\"node\">\n<title>5336807952</title>\n<polygon fill=\"none\" stroke=\"black\" points=\"4,-165.5 4,-201.5 196,-201.5 196,-165.5 4,-165.5\"/>\n<text text-anchor=\"middle\" x=\"19\" y=\"-179.8\" font-family=\"Times,serif\" font-size=\"14.00\">x2</text>\n<polyline fill=\"none\" stroke=\"black\" points=\"34,-165.5 34,-201.5 \"/>\n<text text-anchor=\"middle\" x=\"74\" y=\"-179.8\" font-family=\"Times,serif\" font-size=\"14.00\">data 3.0000</text>\n<polyline fill=\"none\" stroke=\"black\" points=\"114,-165.5 114,-201.5 \"/>\n<text text-anchor=\"middle\" x=\"155\" y=\"-179.8\" font-family=\"Times,serif\" font-size=\"14.00\">grad 0.0099</text>\n</g>\n<!-- 5336809248* -->\n<g id=\"node8\" class=\"node\">\n<title>5336809248*</title>\n<ellipse fill=\"none\" stroke=\"black\" cx=\"263\" cy=\"-128.5\" rx=\"27\" ry=\"18\"/>\n<text text-anchor=\"middle\" x=\"263\" y=\"-124.8\" font-family=\"Times,serif\" font-size=\"14.00\">*</text>\n</g>\n<!-- 5336807952&#45;&gt;5336809248* -->\n<g id=\"edge12\" class=\"edge\">\n<title>5336807952&#45;&gt;5336809248*</title>\n<path fill=\"none\" stroke=\"black\" d=\"M172.53,-165.44C181.84,-162.67 191.2,-159.67 200,-156.5 210.53,-152.71 221.75,-147.9 231.72,-143.33\"/>\n<polygon fill=\"black\" stroke=\"black\" points=\"233.25,-146.48 240.82,-139.07 230.28,-140.14 233.25,-146.48\"/>\n</g>\n<!-- 5336808480 -->\n<g id=\"node2\" class=\"node\">\n<title>5336808480</title>\n<polygon fill=\"none\" stroke=\"black\" points=\"0,-55.5 0,-91.5 200,-91.5 200,-55.5 0,-55.5\"/>\n<text text-anchor=\"middle\" x=\"16.5\" y=\"-69.8\" font-family=\"Times,serif\" font-size=\"14.00\">w1</text>\n<polyline fill=\"none\" stroke=\"black\" points=\"33,-55.5 33,-91.5 \"/>\n<text text-anchor=\"middle\" x=\"75.5\" y=\"-69.8\" font-family=\"Times,serif\" font-size=\"14.00\">data &#45;3.0000</text>\n<polyline fill=\"none\" stroke=\"black\" points=\"118,-55.5 118,-91.5 \"/>\n<text text-anchor=\"middle\" x=\"159\" y=\"-69.8\" font-family=\"Times,serif\" font-size=\"14.00\">grad 0.0197</text>\n</g>\n<!-- 5336808432* -->\n<g id=\"node15\" class=\"node\">\n<title>5336808432*</title>\n<ellipse fill=\"none\" stroke=\"black\" cx=\"263\" cy=\"-73.5\" rx=\"27\" ry=\"18\"/>\n<text text-anchor=\"middle\" x=\"263\" y=\"-69.8\" font-family=\"Times,serif\" font-size=\"14.00\">*</text>\n</g>\n<!-- 5336808480&#45;&gt;5336808432* -->\n<g id=\"edge9\" class=\"edge\">\n<title>5336808480&#45;&gt;5336808432*</title>\n<path fill=\"none\" stroke=\"black\" d=\"M200.21,-73.5C209.2,-73.5 217.86,-73.5 225.7,-73.5\"/>\n<polygon fill=\"black\" stroke=\"black\" points=\"225.85,-77 235.85,-73.5 225.85,-70 225.85,-77\"/>\n</g>\n<!-- 5336809056 -->\n<g id=\"node3\" class=\"node\">\n<title>5336809056</title>\n<polygon fill=\"none\" stroke=\"black\" points=\"2.5,-110.5 2.5,-146.5 197.5,-146.5 197.5,-110.5 2.5,-110.5\"/>\n<text text-anchor=\"middle\" x=\"19\" y=\"-124.8\" font-family=\"Times,serif\" font-size=\"14.00\">w2</text>\n<polyline fill=\"none\" stroke=\"black\" points=\"35.5,-110.5 35.5,-146.5 \"/>\n<text text-anchor=\"middle\" x=\"75.5\" y=\"-124.8\" font-family=\"Times,serif\" font-size=\"14.00\">data 1.0000</text>\n<polyline fill=\"none\" stroke=\"black\" points=\"115.5,-110.5 115.5,-146.5 \"/>\n<text text-anchor=\"middle\" x=\"156.5\" y=\"-124.8\" font-family=\"Times,serif\" font-size=\"14.00\">grad 0.0296</text>\n</g>\n<!-- 5336809056&#45;&gt;5336809248* -->\n<g id=\"edge6\" class=\"edge\">\n<title>5336809056&#45;&gt;5336809248*</title>\n<path fill=\"none\" stroke=\"black\" d=\"M197.91,-128.5C207.65,-128.5 217.05,-128.5 225.52,-128.5\"/>\n<polygon fill=\"black\" stroke=\"black\" points=\"225.7,-132 235.7,-128.5 225.7,-125 225.7,-132\"/>\n</g>\n<!-- 5336807568 -->\n<g id=\"node4\" class=\"node\">\n<title>5336807568</title>\n<polygon fill=\"none\" stroke=\"black\" points=\"716,-27.5 716,-63.5 901,-63.5 901,-27.5 716,-27.5\"/>\n<text text-anchor=\"middle\" x=\"727.5\" y=\"-41.8\" font-family=\"Times,serif\" font-size=\"14.00\">b</text>\n<polyline fill=\"none\" stroke=\"black\" points=\"739,-27.5 739,-63.5 \"/>\n<text text-anchor=\"middle\" x=\"779\" y=\"-41.8\" font-family=\"Times,serif\" font-size=\"14.00\">data 6.0000</text>\n<polyline fill=\"none\" stroke=\"black\" points=\"819,-27.5 819,-63.5 \"/>\n<text text-anchor=\"middle\" x=\"860\" y=\"-41.8\" font-family=\"Times,serif\" font-size=\"14.00\">grad 0.0099</text>\n</g>\n<!-- 5336809392+ -->\n<g id=\"node13\" class=\"node\">\n<title>5336809392+</title>\n<ellipse fill=\"none\" stroke=\"black\" cx=\"1008\" cy=\"-72.5\" rx=\"27\" ry=\"18\"/>\n<text text-anchor=\"middle\" x=\"1008\" y=\"-68.8\" font-family=\"Times,serif\" font-size=\"14.00\">+</text>\n</g>\n<!-- 5336807568&#45;&gt;5336809392+ -->\n<g id=\"edge11\" class=\"edge\">\n<title>5336807568&#45;&gt;5336809392+</title>\n<path fill=\"none\" stroke=\"black\" d=\"M901.02,-58.01C926,-61.43 951.59,-64.93 971.37,-67.63\"/>\n<polygon fill=\"black\" stroke=\"black\" points=\"971.05,-71.12 981.43,-69.01 972,-64.18 971.05,-71.12\"/>\n</g>\n<!-- 5336809152 -->\n<g id=\"node5\" class=\"node\">\n<title>5336809152</title>\n<polygon fill=\"none\" stroke=\"black\" points=\"672,-82.5 672,-118.5 945,-118.5 945,-82.5 672,-82.5\"/>\n<text text-anchor=\"middle\" x=\"725\" y=\"-96.8\" font-family=\"Times,serif\" font-size=\"14.00\">x1*w1 + x2*w2</text>\n<polyline fill=\"none\" stroke=\"black\" points=\"778,-82.5 778,-118.5 \"/>\n<text text-anchor=\"middle\" x=\"820.5\" y=\"-96.8\" font-family=\"Times,serif\" font-size=\"14.00\">data &#45;3.0000</text>\n<polyline fill=\"none\" stroke=\"black\" points=\"863,-82.5 863,-118.5 \"/>\n<text text-anchor=\"middle\" x=\"904\" y=\"-96.8\" font-family=\"Times,serif\" font-size=\"14.00\">grad 0.0099</text>\n</g>\n<!-- 5336809152&#45;&gt;5336809392+ -->\n<g id=\"edge13\" class=\"edge\">\n<title>5336809152&#45;&gt;5336809392+</title>\n<path fill=\"none\" stroke=\"black\" d=\"M936.53,-82.49C949.09,-80.71 960.99,-79.02 971.3,-77.56\"/>\n<polygon fill=\"black\" stroke=\"black\" points=\"972.03,-80.99 981.44,-76.12 971.05,-74.06 972.03,-80.99\"/>\n</g>\n<!-- 5336809152+ -->\n<g id=\"node6\" class=\"node\">\n<title>5336809152+</title>\n<ellipse fill=\"none\" stroke=\"black\" cx=\"609\" cy=\"-100.5\" rx=\"27\" ry=\"18\"/>\n<text text-anchor=\"middle\" x=\"609\" y=\"-96.8\" font-family=\"Times,serif\" font-size=\"14.00\">+</text>\n</g>\n<!-- 5336809152+&#45;&gt;5336809152 -->\n<g id=\"edge1\" class=\"edge\">\n<title>5336809152+&#45;&gt;5336809152</title>\n<path fill=\"none\" stroke=\"black\" d=\"M636.23,-100.5C643.7,-100.5 652.41,-100.5 661.87,-100.5\"/>\n<polygon fill=\"black\" stroke=\"black\" points=\"661.98,-104 671.98,-100.5 661.98,-97 661.98,-104\"/>\n</g>\n<!-- 5336809248 -->\n<g id=\"node7\" class=\"node\">\n<title>5336809248</title>\n<polygon fill=\"none\" stroke=\"black\" points=\"328.5,-110.5 328.5,-146.5 543.5,-146.5 543.5,-110.5 328.5,-110.5\"/>\n<text text-anchor=\"middle\" x=\"355\" y=\"-124.8\" font-family=\"Times,serif\" font-size=\"14.00\">x2*w2</text>\n<polyline fill=\"none\" stroke=\"black\" points=\"381.5,-110.5 381.5,-146.5 \"/>\n<text text-anchor=\"middle\" x=\"421.5\" y=\"-124.8\" font-family=\"Times,serif\" font-size=\"14.00\">data 3.0000</text>\n<polyline fill=\"none\" stroke=\"black\" points=\"461.5,-110.5 461.5,-146.5 \"/>\n<text text-anchor=\"middle\" x=\"502.5\" y=\"-124.8\" font-family=\"Times,serif\" font-size=\"14.00\">grad 0.0099</text>\n</g>\n<!-- 5336809248&#45;&gt;5336809152+ -->\n<g id=\"edge14\" class=\"edge\">\n<title>5336809248&#45;&gt;5336809152+</title>\n<path fill=\"none\" stroke=\"black\" d=\"M543.84,-111.01C554.01,-109.34 563.76,-107.74 572.44,-106.32\"/>\n<polygon fill=\"black\" stroke=\"black\" points=\"573.17,-109.75 582.47,-104.68 572.04,-102.84 573.17,-109.75\"/>\n</g>\n<!-- 5336809248*&#45;&gt;5336809248 -->\n<g id=\"edge2\" class=\"edge\">\n<title>5336809248*&#45;&gt;5336809248</title>\n<path fill=\"none\" stroke=\"black\" d=\"M290.34,-128.5C298.51,-128.5 308.08,-128.5 318.36,-128.5\"/>\n<polygon fill=\"black\" stroke=\"black\" points=\"318.39,-132 328.39,-128.5 318.39,-125 318.39,-132\"/>\n</g>\n<!-- 5336807280 -->\n<g id=\"node9\" class=\"node\">\n<title>5336807280</title>\n<polygon fill=\"none\" stroke=\"black\" points=\"2,-0.5 2,-36.5 198,-36.5 198,-0.5 2,-0.5\"/>\n<text text-anchor=\"middle\" x=\"17\" y=\"-14.8\" font-family=\"Times,serif\" font-size=\"14.00\">x1</text>\n<polyline fill=\"none\" stroke=\"black\" points=\"32,-0.5 32,-36.5 \"/>\n<text text-anchor=\"middle\" x=\"72\" y=\"-14.8\" font-family=\"Times,serif\" font-size=\"14.00\">data 2.0000</text>\n<polyline fill=\"none\" stroke=\"black\" points=\"112,-0.5 112,-36.5 \"/>\n<text text-anchor=\"middle\" x=\"155\" y=\"-14.8\" font-family=\"Times,serif\" font-size=\"14.00\">grad &#45;0.0296</text>\n</g>\n<!-- 5336807280&#45;&gt;5336808432* -->\n<g id=\"edge8\" class=\"edge\">\n<title>5336807280&#45;&gt;5336808432*</title>\n<path fill=\"none\" stroke=\"black\" d=\"M169.28,-36.5C179.65,-39.61 190.16,-42.98 200,-46.5 210.28,-50.17 221.28,-54.74 231.11,-59.07\"/>\n<polygon fill=\"black\" stroke=\"black\" points=\"229.93,-62.37 240.48,-63.27 232.79,-55.99 229.93,-62.37\"/>\n</g>\n<!-- 5336807808 -->\n<g id=\"node10\" class=\"node\">\n<title>5336807808</title>\n<polygon fill=\"none\" stroke=\"black\" points=\"1379,-54.5 1379,-90.5 1564,-90.5 1564,-54.5 1379,-54.5\"/>\n<text text-anchor=\"middle\" x=\"1390.5\" y=\"-68.8\" font-family=\"Times,serif\" font-size=\"14.00\">y</text>\n<polyline fill=\"none\" stroke=\"black\" points=\"1402,-54.5 1402,-90.5 \"/>\n<text text-anchor=\"middle\" x=\"1442\" y=\"-68.8\" font-family=\"Times,serif\" font-size=\"14.00\">data 0.9951</text>\n<polyline fill=\"none\" stroke=\"black\" points=\"1482,-54.5 1482,-90.5 \"/>\n<text text-anchor=\"middle\" x=\"1523\" y=\"-68.8\" font-family=\"Times,serif\" font-size=\"14.00\">grad 1.0000</text>\n</g>\n<!-- 5336807808tanh -->\n<g id=\"node11\" class=\"node\">\n<title>5336807808tanh</title>\n<ellipse fill=\"none\" stroke=\"black\" cx=\"1316\" cy=\"-72.5\" rx=\"27\" ry=\"18\"/>\n<text text-anchor=\"middle\" x=\"1316\" y=\"-68.8\" font-family=\"Times,serif\" font-size=\"14.00\">tanh</text>\n</g>\n<!-- 5336807808tanh&#45;&gt;5336807808 -->\n<g id=\"edge3\" class=\"edge\">\n<title>5336807808tanh&#45;&gt;5336807808</title>\n<path fill=\"none\" stroke=\"black\" d=\"M1343.04,-72.5C1350.58,-72.5 1359.3,-72.5 1368.57,-72.5\"/>\n<polygon fill=\"black\" stroke=\"black\" points=\"1368.81,-76 1378.81,-72.5 1368.81,-69 1368.81,-76\"/>\n</g>\n<!-- 5336809392 -->\n<g id=\"node12\" class=\"node\">\n<title>5336809392</title>\n<polygon fill=\"none\" stroke=\"black\" points=\"1071,-54.5 1071,-90.5 1253,-90.5 1253,-54.5 1071,-54.5\"/>\n<text text-anchor=\"middle\" x=\"1081\" y=\"-68.8\" font-family=\"Times,serif\" font-size=\"14.00\"> </text>\n<polyline fill=\"none\" stroke=\"black\" points=\"1091,-54.5 1091,-90.5 \"/>\n<text text-anchor=\"middle\" x=\"1131\" y=\"-68.8\" font-family=\"Times,serif\" font-size=\"14.00\">data 3.0000</text>\n<polyline fill=\"none\" stroke=\"black\" points=\"1171,-54.5 1171,-90.5 \"/>\n<text text-anchor=\"middle\" x=\"1212\" y=\"-68.8\" font-family=\"Times,serif\" font-size=\"14.00\">grad 0.0099</text>\n</g>\n<!-- 5336809392&#45;&gt;5336807808tanh -->\n<g id=\"edge10\" class=\"edge\">\n<title>5336809392&#45;&gt;5336807808tanh</title>\n<path fill=\"none\" stroke=\"black\" d=\"M1253.18,-72.5C1262.14,-72.5 1270.83,-72.5 1278.73,-72.5\"/>\n<polygon fill=\"black\" stroke=\"black\" points=\"1278.96,-76 1288.96,-72.5 1278.96,-69 1278.96,-76\"/>\n</g>\n<!-- 5336809392+&#45;&gt;5336809392 -->\n<g id=\"edge4\" class=\"edge\">\n<title>5336809392+&#45;&gt;5336809392</title>\n<path fill=\"none\" stroke=\"black\" d=\"M1035.13,-72.5C1042.67,-72.5 1051.39,-72.5 1060.64,-72.5\"/>\n<polygon fill=\"black\" stroke=\"black\" points=\"1060.87,-76 1070.87,-72.5 1060.87,-69 1060.87,-76\"/>\n</g>\n<!-- 5336808432 -->\n<g id=\"node14\" class=\"node\">\n<title>5336808432</title>\n<polygon fill=\"none\" stroke=\"black\" points=\"326,-55.5 326,-91.5 546,-91.5 546,-55.5 326,-55.5\"/>\n<text text-anchor=\"middle\" x=\"352.5\" y=\"-69.8\" font-family=\"Times,serif\" font-size=\"14.00\">x1*w1</text>\n<polyline fill=\"none\" stroke=\"black\" points=\"379,-55.5 379,-91.5 \"/>\n<text text-anchor=\"middle\" x=\"421.5\" y=\"-69.8\" font-family=\"Times,serif\" font-size=\"14.00\">data &#45;6.0000</text>\n<polyline fill=\"none\" stroke=\"black\" points=\"464,-55.5 464,-91.5 \"/>\n<text text-anchor=\"middle\" x=\"505\" y=\"-69.8\" font-family=\"Times,serif\" font-size=\"14.00\">grad 0.0099</text>\n</g>\n<!-- 5336808432&#45;&gt;5336809152+ -->\n<g id=\"edge7\" class=\"edge\">\n<title>5336808432&#45;&gt;5336809152+</title>\n<path fill=\"none\" stroke=\"black\" d=\"M546.27,-90.75C555.64,-92.23 564.6,-93.65 572.65,-94.92\"/>\n<polygon fill=\"black\" stroke=\"black\" points=\"572.23,-98.4 582.65,-96.5 573.32,-91.48 572.23,-98.4\"/>\n</g>\n<!-- 5336808432*&#45;&gt;5336808432 -->\n<g id=\"edge5\" class=\"edge\">\n<title>5336808432*&#45;&gt;5336808432</title>\n<path fill=\"none\" stroke=\"black\" d=\"M290.34,-73.5C297.77,-73.5 306.37,-73.5 315.6,-73.5\"/>\n<polygon fill=\"black\" stroke=\"black\" points=\"315.84,-77 325.84,-73.5 315.84,-70 315.84,-77\"/>\n</g>\n</g>\n</svg>\n",
      "text/plain": [
       "<graphviz.graphs.Digraph at 0x13e193740>"
      ]
     },
     "execution_count": 17,
     "metadata": {},
     "output_type": "execute_result"
    }
   ],
   "execution_count": 17
  },
  {
   "metadata": {},
   "cell_type": "markdown",
   "source": "### PyTorch Tensor",
   "id": "34972521d62160a6"
  },
  {
   "metadata": {
    "ExecuteTime": {
     "end_time": "2025-02-06T08:19:37.077212Z",
     "start_time": "2025-02-06T08:19:36.125277Z"
    }
   },
   "cell_type": "code",
   "source": [
    "import torch\n",
    "x1 = torch.tensor(2.0, requires_grad=False)\n",
    "x2 = torch.tensor(3.0, requires_grad=False)\n",
    "w1 = torch.tensor(-3.0, requires_grad=True)\n",
    "w2 = torch.tensor(1.0, requires_grad=True)\n",
    "b = torch.tensor(6.0, requires_grad=True)\n",
    "y = torch.tanh(w1 * x1 + w2 * x2 + b)\n",
    "\n",
    "# Visualize the computation graph\n",
    "print(f\"y: {y.data.item()}\")\n",
    "y.backward()\n",
    "print(f\"dy/dw1: {w1.grad.item()}\")\n",
    "print(f\"dy/dw2: {w2.grad.item()}\")"
   ],
   "id": "254b7f18bff1fc44",
   "outputs": [
    {
     "name": "stdout",
     "output_type": "stream",
     "text": [
      "y: 0.9950547814369202\n",
      "dy/dw1: 0.01973196305334568\n",
      "dy/dw2: 0.029597945511341095\n"
     ]
    }
   ],
   "execution_count": 18
  },
  {
   "metadata": {},
   "cell_type": "markdown",
   "source": "## Part 2: Linear Regression",
   "id": "c17e490aa4f1c213"
  },
  {
   "metadata": {
    "ExecuteTime": {
     "end_time": "2025-02-06T08:19:37.088734Z",
     "start_time": "2025-02-06T08:19:37.085722Z"
    }
   },
   "cell_type": "code",
   "source": [
    "# Linear network\n",
    "class Linear:\n",
    "    def __init__(self, input_size):\n",
    "        # y = Wx + b\n",
    "        self.weights = [Tensor(random.uniform(-1, 1)) for _ in range(input_size)]\n",
    "        self.bias = Tensor(random.uniform(-1, 1))\n",
    "\n",
    "    def __call__(self, x):\n",
    "        \"\"\"\n",
    "        Forward pass\n",
    "        y = Wx + b\n",
    "        \"\"\"\n",
    "        x = sum((wi * xi for wi, xi in zip(self.weights, x)), self.bias)\n",
    "        x = x.tanh()\n",
    "        return x\n",
    "\n",
    "    def parameters(self):\n",
    "        return self.weights + [self.bias]"
   ],
   "id": "e28c89d89c8d4e8",
   "outputs": [],
   "execution_count": 19
  },
  {
   "metadata": {
    "ExecuteTime": {
     "end_time": "2025-02-06T08:20:36.008517Z",
     "start_time": "2025-02-06T08:20:36.005135Z"
    }
   },
   "cell_type": "code",
   "source": [
    "# Input values\n",
    "x = [Tensor(-2.0), Tensor(5.0), Tensor(-4.0), Tensor(1.0)]\n",
    "\n",
    "# Target value\n",
    "y = Tensor(1.0)\n",
    "\n",
    "# Initialize the linear network\n",
    "linear = Linear(input_size=4)\n",
    "\n",
    "print(f\"Output: {linear(x).data}\")\n",
    "print(linear.parameters())"
   ],
   "id": "b74c7bf299837031",
   "outputs": [
    {
     "name": "stdout",
     "output_type": "stream",
     "text": [
      "Output: 0.823593231126568\n",
      "[data=(0.6451386341255214), data=(0.11317279872002572), data=(-0.3445662011198716), data=(-0.016247519286822776), data=(0.5302818001474361)]\n"
     ]
    }
   ],
   "execution_count": 28
  },
  {
   "metadata": {
    "ExecuteTime": {
     "end_time": "2025-02-06T08:20:36.563459Z",
     "start_time": "2025-02-06T08:20:36.560053Z"
    }
   },
   "cell_type": "code",
   "source": [
    "# Learning rate\n",
    "lr = 0.001\n",
    "\n",
    "# Training loop\n",
    "for step in range(10):\n",
    "    # Forward pass\n",
    "    output = linear(x)\n",
    "\n",
    "    # Loss\n",
    "    loss = (linear(x) - y) ** 2  # MSE loss\n",
    "\n",
    "    # Backward pass\n",
    "    for param in linear.parameters():\n",
    "        param.gradient = 0\n",
    "    loss.backward()\n",
    "\n",
    "    # Update weights\n",
    "    for param in linear.parameters():\n",
    "        param.data = param.data - lr * param.gradient\n",
    "\n",
    "    print(f\"Step {step+1}, Loss: {loss.data}\")"
   ],
   "id": "33eb7fb9ff8fbdcb",
   "outputs": [
    {
     "name": "stdout",
     "output_type": "stream",
     "text": [
      "Step 1, Loss: 0.031119348104364453\n",
      "Step 2, Loss: 0.030519476068382793\n",
      "Step 3, Loss: 0.0299413360381907\n",
      "Step 4, Loss: 0.029383793892305474\n",
      "Step 5, Loss: 0.028845791943033237\n",
      "Step 6, Loss: 0.028326342671758237\n",
      "Step 7, Loss: 0.027824523065387626\n",
      "Step 8, Loss: 0.027339469488165687\n",
      "Step 9, Loss: 0.026870373031124155\n",
      "Step 10, Loss: 0.02641647528840354\n"
     ]
    }
   ],
   "execution_count": 29
  }
 ],
 "metadata": {
  "kernelspec": {
   "display_name": "Python 3",
   "language": "python",
   "name": "python3"
  },
  "language_info": {
   "codemirror_mode": {
    "name": "ipython",
    "version": 2
   },
   "file_extension": ".py",
   "mimetype": "text/x-python",
   "name": "python",
   "nbconvert_exporter": "python",
   "pygments_lexer": "ipython2",
   "version": "2.7.6"
  }
 },
 "nbformat": 4,
 "nbformat_minor": 5
}
