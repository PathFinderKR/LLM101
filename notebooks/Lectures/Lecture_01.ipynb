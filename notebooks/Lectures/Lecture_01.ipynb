{
 "cells": [
  {
   "metadata": {},
   "cell_type": "markdown",
   "source": [
    "# Lecture 1: Introduction to Machine Learning\n",
    "\n",
    "In this lecture, we will introduce the basics of machine learning.\n",
    "\n",
    "Let's start by exploring what neural network training looks like under the hood."
   ],
   "id": "32ac1a934eac9271"
  },
  {
   "metadata": {},
   "cell_type": "markdown",
   "source": [
    "## Part 1: Backpropagation\n",
    "\n",
    "Backpropagation algorithm is the cornerstone of training neural networks. (used in all neural nets) It is a method to calculate the gradient of the loss function with respect to the weights of the network.\n",
    "\n",
    "**The main problem is... how do computers compute the gradient?**\n",
    "\n",
    "Humans get the gradient by calculating the derivative, then plug in the values.\n",
    "\n",
    "Computers can't do that:\n",
    "1. Derivatives are hard to calculate\n",
    "2. Neural networks are huge\n",
    "\n",
    "Let's build our own backpropagation algorithm from scratch step by step.\n",
    "\n"
   ],
   "id": "82b8f28897d2765a"
  },
  {
   "metadata": {
    "ExecuteTime": {
     "end_time": "2025-02-09T05:00:02.208273Z",
     "start_time": "2025-02-09T05:00:02.205542Z"
    }
   },
   "cell_type": "code",
   "source": [
    "# Importing libraries\n",
    "import math\n",
    "import random\n",
    "import numpy as np\n",
    "import matplotlib.pyplot as plt"
   ],
   "id": "afdaf122c0a24b14",
   "outputs": [],
   "execution_count": 18
  },
  {
   "metadata": {},
   "cell_type": "markdown",
   "source": [
    "### Manual Gradient Calculation\n",
    "\n",
    "Let's manually calculate the gradient of a function."
   ],
   "id": "f8b173bdbbdff33b"
  },
  {
   "metadata": {},
   "cell_type": "markdown",
   "source": "#### Example 1: Single Variable Function",
   "id": "50519bf41896d5de"
  },
  {
   "metadata": {
    "ExecuteTime": {
     "end_time": "2025-02-09T05:00:02.278266Z",
     "start_time": "2025-02-09T05:00:02.275647Z"
    }
   },
   "cell_type": "code",
   "source": [
    "# Define a random function\n",
    "# f(x) = 3x^2 - 4x + 5\n",
    "def f(x):\n",
    "    # ------------------\n",
    "    # Write your implementation here.\n",
    "    out = 3 * x ** 2 - 4 * x + 5\n",
    "    # ------------------\n",
    "    return out"
   ],
   "id": "79bd41eabcac06c0",
   "outputs": [],
   "execution_count": 19
  },
  {
   "metadata": {
    "ExecuteTime": {
     "end_time": "2025-02-09T05:00:02.296120Z",
     "start_time": "2025-02-09T05:00:02.292882Z"
    }
   },
   "cell_type": "code",
   "source": "f(2)  # f(2) = 3*2^2 - 4*2 + 5 = 9",
   "id": "5f29125addedc611",
   "outputs": [
    {
     "data": {
      "text/plain": [
       "9"
      ]
     },
     "execution_count": 20,
     "metadata": {},
     "output_type": "execute_result"
    }
   ],
   "execution_count": 20
  },
  {
   "metadata": {
    "ExecuteTime": {
     "end_time": "2025-02-09T05:00:02.349727Z",
     "start_time": "2025-02-09T05:00:02.303059Z"
    }
   },
   "cell_type": "code",
   "source": [
    "# Plot the function\n",
    "xs = np.arange(-5, 5, 0.25)  # np.arange(start, stop, step)\n",
    "ys = [f(x) for x in xs]\n",
    "plt.plot(xs, ys)"
   ],
   "id": "34cf6c8c9460cedb",
   "outputs": [
    {
     "data": {
      "text/plain": [
       "[<matplotlib.lines.Line2D at 0x7fdd83190110>]"
      ]
     },
     "execution_count": 21,
     "metadata": {},
     "output_type": "execute_result"
    },
    {
     "data": {
      "text/plain": [
       "<Figure size 640x480 with 1 Axes>"
      ],
      "image/png": "[encoded data removed]"
     },
     "metadata": {},
     "output_type": "display_data"
    }
   ],
   "execution_count": 21
  },
  {
   "metadata": {},
   "cell_type": "markdown",
   "source": [
    "What is the gradient of f(x) at x=2?\n",
    "- Human's solution:\n",
    "    - f'(x) = 6x - 4\n",
    "    - f'(2) = 6*2 - 4 = 8'\n",
    "\n",
    "- Computer's solution:\n",
    "    - f'(2) = (f(2 + h) - f(2)) / h\n",
    "        - h: a small number (0.0001)"
   ],
   "id": "8cc5601b2bfbdacf"
  },
  {
   "metadata": {
    "ExecuteTime": {
     "end_time": "2025-02-09T05:00:02.353267Z",
     "start_time": "2025-02-09T05:00:02.350804Z"
    }
   },
   "cell_type": "code",
   "source": [
    "def gradient(function, x, _h=0.0001):\n",
    "    # ------------------\n",
    "    # Write your implementation here.\n",
    "    grad = (function(x + _h) - function(x)) / _h\n",
    "    # ------------------\n",
    "    return grad"
   ],
   "id": "a4858fe8eb81441b",
   "outputs": [],
   "execution_count": 22
  },
  {
   "metadata": {
    "ExecuteTime": {
     "end_time": "2025-02-09T05:00:02.360990Z",
     "start_time": "2025-02-09T05:00:02.354333Z"
    }
   },
   "cell_type": "code",
   "source": "gradient(f, 2)",
   "id": "6c0972b63c72fe7c",
   "outputs": [
    {
     "data": {
      "text/plain": [
       "8.000300000023941"
      ]
     },
     "execution_count": 23,
     "metadata": {},
     "output_type": "execute_result"
    }
   ],
   "execution_count": 23
  },
  {
   "metadata": {},
   "cell_type": "markdown",
   "source": [
    "Let's calculate the gradient of a more complex function.\n",
    "\n",
    "![(x + y) * z](../../assets/(x+y)z.png)\n",
    "\n",
    "(Image credit: Stanford CS231n)"
   ],
   "id": "c9d3eeb8dd980e7"
  },
  {
   "metadata": {},
   "cell_type": "markdown",
   "source": "#### Example 2: Multi-Variable Function",
   "id": "34ad426cfc324aeb"
  },
  {
   "metadata": {
    "ExecuteTime": {
     "end_time": "2025-02-09T05:00:02.367293Z",
     "start_time": "2025-02-09T05:00:02.362268Z"
    }
   },
   "cell_type": "code",
   "source": [
    "def f(x, y, z):\n",
    "    out = (x + y) * z\n",
    "    return out"
   ],
   "id": "7c8986c366d8e99d",
   "outputs": [],
   "execution_count": 24
  },
  {
   "metadata": {
    "ExecuteTime": {
     "end_time": "2025-02-09T05:00:02.375277Z",
     "start_time": "2025-02-09T05:00:02.368185Z"
    }
   },
   "cell_type": "code",
   "source": "f(-2, 5, -4)  # f(-2, 5, -4) = (-2 + 5) * -4 = -12",
   "id": "25857fe002e61146",
   "outputs": [
    {
     "data": {
      "text/plain": [
       "-12"
      ]
     },
     "execution_count": 25,
     "metadata": {},
     "output_type": "execute_result"
    }
   ],
   "execution_count": 25
  },
  {
   "metadata": {},
   "cell_type": "markdown",
   "source": [
    "Let's calculate the gradient of this function\n",
    "\n",
    "**Goal**:\n",
    "1. df/dx at x=-2\n",
    "2. df/dy at y=5\n",
    "3. df/dz at z=-4"
   ],
   "id": "a9171fd855b2b1b7"
  },
  {
   "metadata": {
    "ExecuteTime": {
     "end_time": "2025-02-09T05:00:02.381873Z",
     "start_time": "2025-02-09T05:00:02.376163Z"
    }
   },
   "cell_type": "code",
   "source": [
    "# Get the derivative of f(x, y, z) with respect to x, y, z\n",
    "h = 0.0001\n",
    "\n",
    "# Derivative of f with respect to x=2\n",
    "# ------------------\n",
    "# Write your implementation here.\n",
    "df_dx = (f(-2 + h, 5, -4) - f(-2, 5, -4)) / h\n",
    "# ------------------\n",
    "print(f\"df/dx: {df_dx}\")\n",
    "\n",
    "# Derivative of f with respect to y=-3\n",
    "# ------------------\n",
    "# Write your implementation here\n",
    "df_dy = (f(2, 5 + h, -4) - f(2, 5, -4)) / h\n",
    "# ------------------\n",
    "print(f\"df/dy: {df_dy}\")\n",
    "\n",
    "# Derivative of f with respect to z=10\n",
    "# ------------------\n",
    "# Write your implementation here.\n",
    "df_dz = (f(2, 5, -4 + h) - f(2, 5, -4)) / h\n",
    "# ------------------\n",
    "print(f\"df/dz: {df_dz}\")"
   ],
   "id": "f2c53484de26a8ac",
   "outputs": [
    {
     "name": "stdout",
     "output_type": "stream",
     "text": [
      "df/dx: -3.9999999999906777\n",
      "df/dy: -3.9999999999906777\n",
      "df/dz: 7.000000000019213\n"
     ]
    }
   ],
   "execution_count": 26
  },
  {
   "metadata": {},
   "cell_type": "markdown",
   "source": [
    "This time, let's calculate the gradient using the chain rule.\n",
    "\n",
    "\n",
    "![chain rule](../../assets/chain_rule.png)\n",
    "\n",
    "(Image credit: Stanford CS231n)\n",
    "\n",
    "**Chain Rule**:\n",
    "\n",
    "q = x + y\n",
    "\n",
    "f = q * z\n",
    "\n",
    "- df/dx = df/dq * dq/dx\n",
    "- df/dy = df/dq * dq/dy"
   ],
   "id": "b4fecd506dd71a85"
  },
  {
   "metadata": {
    "ExecuteTime": {
     "end_time": "2025-02-09T05:00:02.390587Z",
     "start_time": "2025-02-09T05:00:02.382762Z"
    }
   },
   "cell_type": "code",
   "source": [
    "# Get the derivative of f(x, y, z) with respect to x, y using the chain rule\n",
    "\n",
    "# Redefine the function f(x, y, z) and q(x, y)\n",
    "def f(q, z):\n",
    "    # ------------------\n",
    "    # Write your implementation here.\n",
    "    out = q * z\n",
    "    # ------------------\n",
    "    return out\n",
    "\n",
    "def q(x, y):\n",
    "    # ------------------\n",
    "    # Write your implementation here.\n",
    "    out = x + y\n",
    "    # ------------------\n",
    "    return  out"
   ],
   "id": "26df18dea033aadf",
   "outputs": [],
   "execution_count": 27
  },
  {
   "metadata": {
    "ExecuteTime": {
     "end_time": "2025-02-09T05:00:02.397915Z",
     "start_time": "2025-02-09T05:00:02.391603Z"
    }
   },
   "cell_type": "code",
   "source": [
    "# q\n",
    "# Derivative of f with respect to q=-2\n",
    "# ------------------\n",
    "# Write your implementation here.\n",
    "df_dq = (f(q(-2, 5) + h, -4) - f(q(-2, 5), -4)) / h\n",
    "# ------------------\n",
    "print(f\"df/dq: {df_dq}\")"
   ],
   "id": "cb02602405abfbf8",
   "outputs": [
    {
     "name": "stdout",
     "output_type": "stream",
     "text": [
      "df/dq: -4.000000000008441\n"
     ]
    }
   ],
   "execution_count": 28
  },
  {
   "metadata": {
    "ExecuteTime": {
     "end_time": "2025-02-09T05:00:02.410855Z",
     "start_time": "2025-02-09T05:00:02.408353Z"
    }
   },
   "cell_type": "code",
   "source": [
    "# x\n",
    "# Derivative of q with respect to x=-2\n",
    "# ------------------\n",
    "# Write your implementation here.\n",
    "dq_dx = (q(-2 + h, 5) - q(-2, 5)) / h\n",
    "# ------------------\n",
    "print(f\"dq/dx: {dq_dx}\")\n",
    "\n",
    "# Derivative of f with respect to x=-2\n",
    "# ------------------\n",
    "# Write your implementation here.\n",
    "df_dx = df_dq * dq_dx\n",
    "# ------------------\n",
    "print(f\"df/dx: {df_dx}\")"
   ],
   "id": "3bf19d2256e21a37",
   "outputs": [
    {
     "name": "stdout",
     "output_type": "stream",
     "text": [
      "dq/dx: 0.9999999999976694\n",
      "df/dx: -3.999999999999119\n"
     ]
    }
   ],
   "execution_count": 29
  },
  {
   "metadata": {
    "ExecuteTime": {
     "end_time": "2025-02-09T05:00:02.423638Z",
     "start_time": "2025-02-09T05:00:02.420900Z"
    }
   },
   "cell_type": "code",
   "source": [
    "# y\n",
    "# Derivative of q with respect to y=5\n",
    "# ------------------\n",
    "# Write your implementation here.\n",
    "dq_dy = (q(-2, 5 + h) - q(-2, 5)) / h\n",
    "# ------------------\n",
    "print(f\"dq/dy: {dq_dy}\")\n",
    "\n",
    "# Derivative of f with respect to y=5\n",
    "# ------------------\n",
    "# Write your implementation here.\n",
    "df_dy = df_dq * dq_dy\n",
    "# ------------------\n",
    "print(f\"df/dy: {df_dy}\")"
   ],
   "id": "22816305e040df95",
   "outputs": [
    {
     "name": "stdout",
     "output_type": "stream",
     "text": [
      "dq/dy: 0.9999999999976694\n",
      "df/dy: -3.999999999999119\n"
     ]
    }
   ],
   "execution_count": 30
  },
  {
   "metadata": {},
   "cell_type": "markdown",
   "source": [
    "### Custom Auto-Grad Engine\n",
    "\n",
    "Neural networks are a series of functions that are composed together. Each function is a layer in the network. To get the gradient, we need to calculate the derivative of each function using the chain rule. \n",
    "\n",
    "**Let's make a custom tensor object that calculates and stores the gradient of the tensor.**\n",
    "1. Support basic operations: addition, multiplication, tanh, power\n",
    "2. Calculate and store the gradient of the tensor\n",
    "\n",
    "- Why not use numpy arrays?:\n",
    "    - We need to keep track of the operations and tensors that lead to this tensor in order to calculate the gradient.\n",
    "\n",
    "- Numerical vs Analytical\n",
    "    - Numerical differentiation: estimates the gradient using the finite difference approximation\n",
    "        -  f'(x) = (f(x + h) - f(x)) / h\n",
    "        - Slow\n",
    "        - Precision issues\n",
    "    - Analytical differentiation: derives the function symbolically using the chain rule\n",
    "        - Fast\n",
    "        - Precise\n",
    "        - Need to code the derivative of every operation"
   ],
   "id": "a1dd5a4407648515"
  },
  {
   "metadata": {
    "ExecuteTime": {
     "end_time": "2025-02-09T05:00:02.444204Z",
     "start_time": "2025-02-09T05:00:02.441892Z"
    }
   },
   "cell_type": "code",
   "source": [
    "# Example usage\n",
    "# a = Tensor(-2.0)\n",
    "# b = Tensor(5.0)\n",
    "# c = Tensor(-4.0)\n",
    "# f = (a + b) * c\n",
    "# f.backward()\n",
    "\n",
    "# print(f\"a: {a}\")               # a: tensor=(-2.0)\n",
    "# print(f\"output: {f}\")          # output: tensor=12.0\n",
    "# print(f\"df/da: {a.gradient}\")  # df/da: 1.0\n",
    "# print(f\"df/db: {b.gradient}\")  # df/db: 1.0\n",
    "# print(f\"df/dc: {c.gradient}\")  # df/dc: 3.0"
   ],
   "id": "b279b1065a769ef0",
   "outputs": [],
   "execution_count": 31
  },
  {
   "metadata": {},
   "cell_type": "markdown",
   "source": [
    "#### Tensor version 1\n",
    "\n",
    "A simple tensor object that supports addition and multiplication."
   ],
   "id": "71703911d4435375"
  },
  {
   "metadata": {
    "ExecuteTime": {
     "end_time": "2025-02-09T05:00:02.485515Z",
     "start_time": "2025-02-09T05:00:02.482619Z"
    }
   },
   "cell_type": "code",
   "source": [
    "class TensorV1:\n",
    "    def __init__(self, data):\n",
    "        self.data = data\n",
    "\n",
    "    # method to print the tensor\n",
    "    def __repr__(self):\n",
    "        return f\"tensor=({self.data})\"\n",
    "\n",
    "    # method to add two tensors\n",
    "    def __add__(self, other):  # self + other\n",
    "        # ------------------\n",
    "        # Write your implementation here.\n",
    "        output = TensorV1(self.data + other.data)\n",
    "        # ------------------\n",
    "        return output\n",
    "\n",
    "    # method to multiply two tensors\n",
    "    def __mul__(self, other):  # self * other\n",
    "        # ------------------\n",
    "        # Write your implementation here.\n",
    "        output = TensorV1(self.data * other.data)\n",
    "        # ------------------\n",
    "        return output"
   ],
   "id": "b961d923e295de1f",
   "outputs": [],
   "execution_count": 32
  },
  {
   "metadata": {
    "ExecuteTime": {
     "end_time": "2025-02-09T05:00:02.496936Z",
     "start_time": "2025-02-09T05:00:02.494257Z"
    }
   },
   "cell_type": "code",
   "source": [
    "# Example usage\n",
    "a = TensorV1(-2.0)\n",
    "b = TensorV1(5.0)\n",
    "c = TensorV1(-4.0)\n",
    "f = (a + b) * c\n",
    "\n",
    "print(f\"a: {a}\")\n",
    "print(f\"output: {f}\")"
   ],
   "id": "79bced7cd35204a8",
   "outputs": [
    {
     "name": "stdout",
     "output_type": "stream",
     "text": [
      "a: tensor=(-2.0)\n",
      "output: tensor=(-12.0)\n"
     ]
    }
   ],
   "execution_count": 33
  },
  {
   "metadata": {},
   "cell_type": "markdown",
   "source": "#### Tensor version 2",
   "id": "37036ba643a2220c"
  },
  {
   "metadata": {
    "ExecuteTime": {
     "end_time": "2025-02-09T05:00:02.509619Z",
     "start_time": "2025-02-09T05:00:02.505867Z"
    }
   },
   "cell_type": "code",
   "source": [
    "class TensorV2:\n",
    "    def __init__(self, data, _children=(), _operation=''):\n",
    "        self.data = data\n",
    "        self._prev = set(_children)  # _children: tensors that lead to this tensor (ex: 2 * 3 = 6, 2 and 3 are children of 6)\n",
    "        self.gradient = 0\n",
    "        self._backward = lambda: None\n",
    "\n",
    "    def __repr__(self):\n",
    "        return f\"tensor=({self.data})\"\n",
    "\n",
    "    def __add__(self, other):  # self + other\n",
    "        output = TensorV2(self.data + other.data, (self, other))\n",
    "        def _backward():\n",
    "            # ------------------\n",
    "            # Write your implementation here.\n",
    "            # hint: use the chain rule (df/dx = df/dq * dq/dx, q = x + y)\n",
    "            # df/dq -> output.gradient\n",
    "            self.gradient = output.gradient * 1\n",
    "            other.gradient = output.gradient * 1\n",
    "            # ------------------\n",
    "        output._backward = _backward\n",
    "        return output\n",
    "\n",
    "    def __mul__(self, other):  # self * other\n",
    "        output = TensorV2(self.data * other.data, (self, other))\n",
    "        # ------------------\n",
    "        # Write your implementation here.\n",
    "        def _backward():\n",
    "            # ------------------\n",
    "            # Write your implementation here.\n",
    "            # hint: use the chain rule (df/dx = df/dq * dq/dx, q = x * y)\n",
    "            # df/dq -> output.gradient\n",
    "            self.gradient = output.gradient * other.data\n",
    "            other.gradient = output.gradient * self.data\n",
    "            # ------------------\n",
    "        output._backward = _backward\n",
    "        return output\n",
    "\n",
    "    # method to calculate the gradient\n",
    "    # Goes through the graph in reverse topological order and calculate the gradient\n",
    "    def backward(self):\n",
    "        topo = []\n",
    "        visited = set()\n",
    "        def build_topo(v):\n",
    "            if v not in visited:\n",
    "                visited.add(v)\n",
    "                for child in v._prev:\n",
    "                    build_topo(child)\n",
    "                topo.append(v)\n",
    "        build_topo(self)\n",
    "        self.gradient = 1\n",
    "        for node in reversed(topo):\n",
    "            node._backward()"
   ],
   "id": "ff003f5d07d0e5dd",
   "outputs": [],
   "execution_count": 34
  },
  {
   "metadata": {
    "ExecuteTime": {
     "end_time": "2025-02-09T05:00:02.518344Z",
     "start_time": "2025-02-09T05:00:02.510779Z"
    }
   },
   "cell_type": "code",
   "source": [
    "# Example usage\n",
    "a = TensorV2(-2.0)\n",
    "b = TensorV2(5.0)\n",
    "c = TensorV2(-4.0)\n",
    "f = (a + b) * c\n",
    "f.backward()\n",
    "\n",
    "print(f\"a: {a}\")\n",
    "print(f\"output: {f}\")\n",
    "print(f\"df/da: {a.gradient}\")\n",
    "print(f\"df/db: {b.gradient}\")\n",
    "print(f\"df/dc: {c.gradient}\")"
   ],
   "id": "17b5a3f0347949",
   "outputs": [
    {
     "name": "stdout",
     "output_type": "stream",
     "text": [
      "a: tensor=(-2.0)\n",
      "output: tensor=(-12.0)\n",
      "df/da: -4.0\n",
      "df/db: -4.0\n",
      "df/dc: 3.0\n"
     ]
    }
   ],
   "execution_count": 35
  },
  {
   "metadata": {},
   "cell_type": "markdown",
   "source": "#### Tensor final version",
   "id": "eb4b152ef95d1cd2"
  },
  {
   "metadata": {
    "ExecuteTime": {
     "end_time": "2025-02-09T05:00:02.528282Z",
     "start_time": "2025-02-09T05:00:02.519326Z"
    }
   },
   "cell_type": "code",
   "source": [
    "class Tensor:\n",
    "    def __init__(self, data, _children=(), _operation='', label=''):\n",
    "        self.data = data\n",
    "        self._prev = set(_children)\n",
    "        self.gradient = 0\n",
    "        self._backward = lambda: None\n",
    "        # for visualization\n",
    "        self._operation = _operation  # _operation: operation that lead to this tensor (ex: 2 * 3 = 6, * is the operation)\n",
    "        self.label = label  # label: name of the tensor\n",
    "\n",
    "    def __repr__(self):\n",
    "        return f\"tensor=({self.data})\"\n",
    "\n",
    "    def __add__(self, other):  # self + other\n",
    "        output = Tensor(self.data + other.data, (self, other), '+')\n",
    "        def _backward():\n",
    "            self.gradient = 1 * output.gradient\n",
    "            other.gradient = 1 * output.gradient\n",
    "        output._backward = _backward\n",
    "        return output\n",
    "\n",
    "    def __mul__(self, other):  # self * other\n",
    "        output = Tensor(self.data * other.data, (self, other), '*')\n",
    "        def _backward():\n",
    "            self.gradient = other.data * output.gradient\n",
    "            other.gradient = self.data * output.gradient\n",
    "        output._backward = _backward\n",
    "        return output\n",
    "\n",
    "    # Activation function\n",
    "    def tanh(self):  # tanh(self)\n",
    "        # ------------------\n",
    "        # Write your implementation here.\n",
    "        # hint: use math.tanh\n",
    "        output = Tensor(math.tanh(self.data), (self,), 'tanh')\n",
    "        def _backward():\n",
    "            self.gradient = (1.0 - math.tanh(self.data) ** 2) * output.gradient\n",
    "        output._backward = _backward\n",
    "        # ------------------\n",
    "        return output\n",
    "\n",
    "    def __pow__(self, power):  # self ** power\n",
    "        assert isinstance(power, (int, float)), \"Power must be an int or a float\"\n",
    "        # ------------------\n",
    "        # Write your implementation here.\n",
    "        output = Tensor(self.data ** power, (self,), f'**{power}')\n",
    "        def _backward():\n",
    "            self.gradient = power * (self.data ** (power - 1)) * output.gradient\n",
    "        output._backward = _backward\n",
    "        # ------------------\n",
    "        return output\n",
    "\n",
    "    def backward(self):\n",
    "        topo = []\n",
    "        visited = set()\n",
    "        def build_topo(v):\n",
    "            if v not in visited:\n",
    "                visited.add(v)\n",
    "                for child in v._prev:\n",
    "                    build_topo(child)\n",
    "                topo.append(v)\n",
    "        build_topo(self)\n",
    "        self.gradient = 1\n",
    "        for node in reversed(topo):\n",
    "            node._backward()\n",
    "\n",
    "    def __neg__(self): # -self\n",
    "        return self * Tensor(-1.0)\n",
    "\n",
    "    def __sub__(self, other): # self - other\n",
    "        return self + (-other)"
   ],
   "id": "65624f2a4df6d632",
   "outputs": [],
   "execution_count": 36
  },
  {
   "metadata": {
    "ExecuteTime": {
     "end_time": "2025-02-09T05:00:02.549170Z",
     "start_time": "2025-02-09T05:00:02.546005Z"
    }
   },
   "cell_type": "code",
   "source": [
    "# Example usage\n",
    "a = Tensor(-2.0, label='a')\n",
    "b = Tensor(5.0, label='b')\n",
    "c = Tensor(-4.0, label='c')\n",
    "f = (a + b) * c\n",
    "f = f.tanh()\n",
    "f.backward()\n",
    "\n",
    "print(f\"a: {a}\")\n",
    "print(f\"output: {f}\")\n",
    "print(f\"df/da: {a.gradient}\")\n",
    "print(f\"df/db: {b.gradient}\")\n",
    "print(f\"df/dc: {c.gradient}\")"
   ],
   "id": "fac571f40884fec5",
   "outputs": [
    {
     "name": "stdout",
     "output_type": "stream",
     "text": [
      "a: tensor=(-2.0)\n",
      "output: tensor=(-0.9999999999244973)\n",
      "df/da: -6.040217215286248e-10\n",
      "df/db: -6.040217215286248e-10\n",
      "df/dc: 4.530162911464686e-10\n"
     ]
    }
   ],
   "execution_count": 37
  },
  {
   "metadata": {
    "ExecuteTime": {
     "end_time": "2025-02-09T05:00:02.556701Z",
     "start_time": "2025-02-09T05:00:02.550207Z"
    }
   },
   "cell_type": "code",
   "source": [
    "def trace(root):\n",
    "    # builds a set of all nodes and edges in a graph\n",
    "    nodes, edges = set(), set()\n",
    "    def build(v):\n",
    "        if v not in nodes:\n",
    "            nodes.add(v)\n",
    "            for child in v._prev:\n",
    "                edges.add((child, v))\n",
    "                build(child)\n",
    "    build(root)\n",
    "    return nodes, edges\n",
    "\n",
    "def draw_dot(root):\n",
    "    from graphviz import Digraph\n",
    "    dot = Digraph(format='svg', graph_attr={'rankdir': 'LR'}) # LR = left to right\n",
    "    nodes, edges = trace(root)\n",
    "    for n in nodes:\n",
    "        uid = str(id(n))\n",
    "        # for any value in the graph, create a rectangular ('record') node for it\n",
    "        dot.node(name = uid, label = \"{ %s | data %.4f | grad %.4f }\" % (n.label, n.data, n.gradient), shape='record')\n",
    "        if n._operation:\n",
    "            # if this value is a result of some operation, create an op node for it\n",
    "            dot.node(name = uid + n._operation, label=n._operation)\n",
    "            # and connect this node to it\n",
    "            dot.edge(uid + n._operation, uid)\n",
    "    for n1, n2 in edges:\n",
    "        # connect n1 to the op node of n2\n",
    "        dot.edge(str(id(n1)), str(id(n2)) + n2._operation)\n",
    "    return dot"
   ],
   "id": "dc29c5a9851a9ca2",
   "outputs": [],
   "execution_count": 38
  },
  {
   "metadata": {
    "ExecuteTime": {
     "end_time": "2025-02-09T05:00:02.718735Z",
     "start_time": "2025-02-09T05:00:02.578761Z"
    }
   },
   "cell_type": "code",
   "source": [
    "# Draw the graph\n",
    "draw_dot(f)"
   ],
   "id": "2e903d8c90f571a",
   "outputs": [
    {
     "data": {
      "image/svg+xml": "<?xml version=\"1.0\" encoding=\"UTF-8\" standalone=\"no\"?>\n<!DOCTYPE svg PUBLIC \"-//W3C//DTD SVG 1.1//EN\"\n \"http://www.w3.org/Graphics/SVG/1.1/DTD/svg11.dtd\">\n<!-- Generated by graphviz version 9.0.0 (20231125.0833)\n -->\n<!-- Pages: 1 -->\n<svg width=\"1338pt\" height=\"128pt\"\n viewBox=\"0.00 0.00 1337.94 128.00\" xmlns=\"http://www.w3.org/2000/svg\" xmlns:xlink=\"http://www.w3.org/1999/xlink\">\n<g id=\"graph0\" class=\"graph\" transform=\"scale(1 1) rotate(0) translate(4 124)\">\n<polygon fill=\"white\" stroke=\"none\" points=\"-4,4 -4,-124 1333.94,-124 1333.94,4 -4,4\"/>\n<!-- 140589401662016 -->\n<g id=\"node1\" class=\"node\">\n<title>140589401662016</title>\n<polygon fill=\"none\" stroke=\"black\" points=\"722.25,-27.5 722.25,-63.5 960.75,-63.5 960.75,-27.5 722.25,-27.5\"/>\n<text text-anchor=\"middle\" x=\"732.5\" y=\"-41.2\" font-family=\"Times,serif\" font-size=\"14.00\"> </text>\n<polyline fill=\"none\" stroke=\"black\" points=\"742.75,-28.25 742.75,-63.5\"/>\n<text text-anchor=\"middle\" x=\"800.25\" y=\"-41.2\" font-family=\"Times,serif\" font-size=\"14.00\">data &#45;12.0000</text>\n<polyline fill=\"none\" stroke=\"black\" points=\"857.75,-28.25 857.75,-63.5\"/>\n<text text-anchor=\"middle\" x=\"909.25\" y=\"-41.2\" font-family=\"Times,serif\" font-size=\"14.00\">grad 0.0000</text>\n</g>\n<!-- 140589401656544tanh -->\n<g id=\"node5\" class=\"node\">\n<title>140589401656544tanh</title>\n<ellipse fill=\"none\" stroke=\"black\" cx=\"1030.6\" cy=\"-45.5\" rx=\"33.85\" ry=\"18\"/>\n<text text-anchor=\"middle\" x=\"1030.6\" y=\"-40.83\" font-family=\"Times,serif\" font-size=\"14.00\">tanh</text>\n</g>\n<!-- 140589401662016&#45;&gt;140589401656544tanh -->\n<g id=\"edge4\" class=\"edge\">\n<title>140589401662016&#45;&gt;140589401656544tanh</title>\n<path fill=\"none\" stroke=\"black\" d=\"M960.99,-45.5C969.46,-45.5 977.64,-45.5 985.22,-45.5\"/>\n<polygon fill=\"black\" stroke=\"black\" points=\"985.07,-49 995.07,-45.5 985.07,-42 985.07,-49\"/>\n</g>\n<!-- 140589401662016* -->\n<g id=\"node2\" class=\"node\">\n<title>140589401662016*</title>\n<ellipse fill=\"none\" stroke=\"black\" cx=\"659.25\" cy=\"-45.5\" rx=\"27\" ry=\"18\"/>\n<text text-anchor=\"middle\" x=\"659.25\" y=\"-40.83\" font-family=\"Times,serif\" font-size=\"14.00\">*</text>\n</g>\n<!-- 140589401662016*&#45;&gt;140589401662016 -->\n<g id=\"edge1\" class=\"edge\">\n<title>140589401662016*&#45;&gt;140589401662016</title>\n<path fill=\"none\" stroke=\"black\" d=\"M686.46,-45.5C693.53,-45.5 701.68,-45.5 710.47,-45.5\"/>\n<polygon fill=\"black\" stroke=\"black\" points=\"710.39,-49 720.39,-45.5 710.39,-42 710.39,-49\"/>\n</g>\n<!-- 140589405606048 -->\n<g id=\"node3\" class=\"node\">\n<title>140589405606048</title>\n<polygon fill=\"none\" stroke=\"black\" points=\"1.88,-83.5 1.88,-119.5 235.88,-119.5 235.88,-83.5 1.88,-83.5\"/>\n<text text-anchor=\"middle\" x=\"14.38\" y=\"-97.2\" font-family=\"Times,serif\" font-size=\"14.00\">b</text>\n<polyline fill=\"none\" stroke=\"black\" points=\"26.88,-84.25 26.88,-119.5\"/>\n<text text-anchor=\"middle\" x=\"77.62\" y=\"-97.2\" font-family=\"Times,serif\" font-size=\"14.00\">data 5.0000</text>\n<polyline fill=\"none\" stroke=\"black\" points=\"128.38,-84.25 128.38,-119.5\"/>\n<text text-anchor=\"middle\" x=\"182.12\" y=\"-97.2\" font-family=\"Times,serif\" font-size=\"14.00\">grad &#45;0.0000</text>\n</g>\n<!-- 140589401656640+ -->\n<g id=\"node7\" class=\"node\">\n<title>140589401656640+</title>\n<ellipse fill=\"none\" stroke=\"black\" cx=\"300.75\" cy=\"-73.5\" rx=\"27\" ry=\"18\"/>\n<text text-anchor=\"middle\" x=\"300.75\" y=\"-68.83\" font-family=\"Times,serif\" font-size=\"14.00\">+</text>\n</g>\n<!-- 140589405606048&#45;&gt;140589401656640+ -->\n<g id=\"edge6\" class=\"edge\">\n<title>140589405606048&#45;&gt;140589401656640+</title>\n<path fill=\"none\" stroke=\"black\" d=\"M236.33,-83.37C245.77,-81.9 254.78,-80.5 262.9,-79.24\"/>\n<polygon fill=\"black\" stroke=\"black\" points=\"263.25,-82.72 272.59,-77.73 262.17,-75.81 263.25,-82.72\"/>\n</g>\n<!-- 140589401656544 -->\n<g id=\"node4\" class=\"node\">\n<title>140589401656544</title>\n<polygon fill=\"none\" stroke=\"black\" points=\"1100.44,-27.5 1100.44,-63.5 1329.94,-63.5 1329.94,-27.5 1100.44,-27.5\"/>\n<text text-anchor=\"middle\" x=\"1110.69\" y=\"-41.2\" font-family=\"Times,serif\" font-size=\"14.00\"> </text>\n<polyline fill=\"none\" stroke=\"black\" points=\"1120.94,-28.25 1120.94,-63.5\"/>\n<text text-anchor=\"middle\" x=\"1173.94\" y=\"-41.2\" font-family=\"Times,serif\" font-size=\"14.00\">data &#45;1.0000</text>\n<polyline fill=\"none\" stroke=\"black\" points=\"1226.94,-28.25 1226.94,-63.5\"/>\n<text text-anchor=\"middle\" x=\"1278.44\" y=\"-41.2\" font-family=\"Times,serif\" font-size=\"14.00\">grad 1.0000</text>\n</g>\n<!-- 140589401656544tanh&#45;&gt;140589401656544 -->\n<g id=\"edge2\" class=\"edge\">\n<title>140589401656544tanh&#45;&gt;140589401656544</title>\n<path fill=\"none\" stroke=\"black\" d=\"M1064.66,-45.5C1072.03,-45.5 1080.27,-45.5 1088.99,-45.5\"/>\n<polygon fill=\"black\" stroke=\"black\" points=\"1088.76,-49 1098.75,-45.5 1088.75,-42 1088.76,-49\"/>\n</g>\n<!-- 140589401656640 -->\n<g id=\"node6\" class=\"node\">\n<title>140589401656640</title>\n<polygon fill=\"none\" stroke=\"black\" points=\"365.25,-55.5 365.25,-91.5 594.75,-91.5 594.75,-55.5 365.25,-55.5\"/>\n<text text-anchor=\"middle\" x=\"375.5\" y=\"-69.2\" font-family=\"Times,serif\" font-size=\"14.00\"> </text>\n<polyline fill=\"none\" stroke=\"black\" points=\"385.75,-56.25 385.75,-91.5\"/>\n<text text-anchor=\"middle\" x=\"436.5\" y=\"-69.2\" font-family=\"Times,serif\" font-size=\"14.00\">data 3.0000</text>\n<polyline fill=\"none\" stroke=\"black\" points=\"487.25,-56.25 487.25,-91.5\"/>\n<text text-anchor=\"middle\" x=\"541\" y=\"-69.2\" font-family=\"Times,serif\" font-size=\"14.00\">grad &#45;0.0000</text>\n</g>\n<!-- 140589401656640&#45;&gt;140589401662016* -->\n<g id=\"edge7\" class=\"edge\">\n<title>140589401656640&#45;&gt;140589401662016*</title>\n<path fill=\"none\" stroke=\"black\" d=\"M594.76,-55.53C604.18,-54.04 613.19,-52.62 621.31,-51.34\"/>\n<polygon fill=\"black\" stroke=\"black\" points=\"621.69,-54.82 631.02,-49.8 620.59,-47.91 621.69,-54.82\"/>\n</g>\n<!-- 140589401656640+&#45;&gt;140589401656640 -->\n<g id=\"edge3\" class=\"edge\">\n<title>140589401656640+&#45;&gt;140589401656640</title>\n<path fill=\"none\" stroke=\"black\" d=\"M327.9,-73.5C335.45,-73.5 344.22,-73.5 353.67,-73.5\"/>\n<polygon fill=\"black\" stroke=\"black\" points=\"353.53,-77 363.53,-73.5 353.53,-70 353.53,-77\"/>\n</g>\n<!-- 140589401660288 -->\n<g id=\"node8\" class=\"node\">\n<title>140589401660288</title>\n<polygon fill=\"none\" stroke=\"black\" points=\"0,-28.5 0,-64.5 237.75,-64.5 237.75,-28.5 0,-28.5\"/>\n<text text-anchor=\"middle\" x=\"12.12\" y=\"-42.2\" font-family=\"Times,serif\" font-size=\"14.00\">a</text>\n<polyline fill=\"none\" stroke=\"black\" points=\"24.25,-29.25 24.25,-64.5\"/>\n<text text-anchor=\"middle\" x=\"77.25\" y=\"-42.2\" font-family=\"Times,serif\" font-size=\"14.00\">data &#45;2.0000</text>\n<polyline fill=\"none\" stroke=\"black\" points=\"130.25,-29.25 130.25,-64.5\"/>\n<text text-anchor=\"middle\" x=\"184\" y=\"-42.2\" font-family=\"Times,serif\" font-size=\"14.00\">grad &#45;0.0000</text>\n</g>\n<!-- 140589401660288&#45;&gt;140589401656640+ -->\n<g id=\"edge5\" class=\"edge\">\n<title>140589401660288&#45;&gt;140589401656640+</title>\n<path fill=\"none\" stroke=\"black\" d=\"M238.1,-64.25C246.85,-65.56 255.2,-66.81 262.77,-67.95\"/>\n<polygon fill=\"black\" stroke=\"black\" points=\"262.07,-71.38 272.48,-69.41 263.11,-64.46 262.07,-71.38\"/>\n</g>\n<!-- 140589401657792 -->\n<g id=\"node9\" class=\"node\">\n<title>140589401657792</title>\n<polygon fill=\"none\" stroke=\"black\" points=\"363.75,-0.5 363.75,-36.5 596.25,-36.5 596.25,-0.5 363.75,-0.5\"/>\n<text text-anchor=\"middle\" x=\"375.5\" y=\"-14.2\" font-family=\"Times,serif\" font-size=\"14.00\">c</text>\n<polyline fill=\"none\" stroke=\"black\" points=\"387.25,-1.25 387.25,-36.5\"/>\n<text text-anchor=\"middle\" x=\"440.25\" y=\"-14.2\" font-family=\"Times,serif\" font-size=\"14.00\">data &#45;4.0000</text>\n<polyline fill=\"none\" stroke=\"black\" points=\"493.25,-1.25 493.25,-36.5\"/>\n<text text-anchor=\"middle\" x=\"544.75\" y=\"-14.2\" font-family=\"Times,serif\" font-size=\"14.00\">grad 0.0000</text>\n</g>\n<!-- 140589401657792&#45;&gt;140589401662016* -->\n<g id=\"edge8\" class=\"edge\">\n<title>140589401657792&#45;&gt;140589401662016*</title>\n<path fill=\"none\" stroke=\"black\" d=\"M596.26,-36.06C605.11,-37.41 613.57,-38.69 621.24,-39.86\"/>\n<polygon fill=\"black\" stroke=\"black\" points=\"620.67,-43.32 631.09,-41.36 621.73,-36.4 620.67,-43.32\"/>\n</g>\n</g>\n</svg>\n",
      "text/plain": [
       "<graphviz.graphs.Digraph at 0x7fdd85585a30>"
      ]
     },
     "execution_count": 39,
     "metadata": {},
     "output_type": "execute_result"
    }
   ],
   "execution_count": 39
  },
  {
   "metadata": {},
   "cell_type": "markdown",
   "source": "Now let's move on to a simple neural network.",
   "id": "bcb13aa09ef0f4af"
  },
  {
   "metadata": {
    "ExecuteTime": {
     "end_time": "2025-02-09T05:00:02.722615Z",
     "start_time": "2025-02-09T05:00:02.719986Z"
    }
   },
   "cell_type": "code",
   "source": [
    "# Input values\n",
    "x1 = Tensor(2.0, label='x1')\n",
    "x2 = Tensor(3.0, label='x2')\n",
    "\n",
    "# Weights\n",
    "w1 = Tensor(-3.0, label='w1')\n",
    "w2 = Tensor(1.0, label='w2')\n",
    "\n",
    "# bias\n",
    "b = Tensor(6.0, label='b')\n",
    "\n",
    "# y = tanh(Wx + b) = tanh(w1*x1 + w2*x2 + b)\n",
    "x1w1 = x1*w1; x1w1.label = 'x1*w1'\n",
    "x2w2 = x2*w2; x2w2.label = 'x2*w2'\n",
    "x1w1x2w2 = x1w1 + x2w2; x1w1x2w2.label = 'x1*w1 + x2*w2'\n",
    "y = x1w1x2w2 + b\n",
    "y = y.tanh(); y.label = 'y'"
   ],
   "id": "3f9ebf150e297445",
   "outputs": [],
   "execution_count": 40
  },
  {
   "metadata": {
    "ExecuteTime": {
     "end_time": "2025-02-09T05:00:02.730209Z",
     "start_time": "2025-02-09T05:00:02.723494Z"
    }
   },
   "cell_type": "code",
   "source": [
    "# Calculate the gradient of y with respect to w1, w2, and b\n",
    "y.backward()\n",
    "print(f\"y: {y.data}\")\n",
    "print(f\"dy/dw1: {w1.gradient}\")\n",
    "print(f\"dy/dw2: {w2.gradient}\")\n",
    "print(f\"dy/db: {b.gradient}\")"
   ],
   "id": "7e543c53d8ec409e",
   "outputs": [
    {
     "name": "stdout",
     "output_type": "stream",
     "text": [
      "y: 0.9950547536867305\n",
      "dy/dw1: 0.019732074330880423\n",
      "dy/dw2: 0.029598111496320634\n",
      "dy/db: 0.009866037165440211\n"
     ]
    }
   ],
   "execution_count": 41
  },
  {
   "metadata": {
    "ExecuteTime": {
     "end_time": "2025-02-09T05:00:02.749486Z",
     "start_time": "2025-02-09T05:00:02.731949Z"
    }
   },
   "cell_type": "code",
   "source": [
    "# Draw the graph\n",
    "draw_dot(y)"
   ],
   "id": "3046c24e1a94240a",
   "outputs": [
    {
     "data": {
      "image/svg+xml": "<?xml version=\"1.0\" encoding=\"UTF-8\" standalone=\"no\"?>\n<!DOCTYPE svg PUBLIC \"-//W3C//DTD SVG 1.1//EN\"\n \"http://www.w3.org/Graphics/SVG/1.1/DTD/svg11.dtd\">\n<!-- Generated by graphviz version 9.0.0 (20231125.0833)\n -->\n<!-- Pages: 1 -->\n<svg width=\"1831pt\" height=\"210pt\"\n viewBox=\"0.00 0.00 1831.44 210.00\" xmlns=\"http://www.w3.org/2000/svg\" xmlns:xlink=\"http://www.w3.org/1999/xlink\">\n<g id=\"graph0\" class=\"graph\" transform=\"scale(1 1) rotate(0) translate(4 206)\">\n<polygon fill=\"white\" stroke=\"none\" points=\"-4,4 -4,-206 1827.44,-206 1827.44,4 -4,4\"/>\n<!-- 140589363994144 -->\n<g id=\"node1\" class=\"node\">\n<title>140589363994144</title>\n<polygon fill=\"none\" stroke=\"black\" points=\"1.88,-165.5 1.88,-201.5 244.12,-201.5 244.12,-165.5 1.88,-165.5\"/>\n<text text-anchor=\"middle\" x=\"18.5\" y=\"-179.2\" font-family=\"Times,serif\" font-size=\"14.00\">x1</text>\n<polyline fill=\"none\" stroke=\"black\" points=\"35.12,-166.25 35.12,-201.5\"/>\n<text text-anchor=\"middle\" x=\"85.88\" y=\"-179.2\" font-family=\"Times,serif\" font-size=\"14.00\">data 2.0000</text>\n<polyline fill=\"none\" stroke=\"black\" points=\"136.62,-166.25 136.62,-201.5\"/>\n<text text-anchor=\"middle\" x=\"190.38\" y=\"-179.2\" font-family=\"Times,serif\" font-size=\"14.00\">grad &#45;0.0296</text>\n</g>\n<!-- 140589348773840* -->\n<g id=\"node13\" class=\"node\">\n<title>140589348773840*</title>\n<ellipse fill=\"none\" stroke=\"black\" cx=\"309\" cy=\"-128.5\" rx=\"27\" ry=\"18\"/>\n<text text-anchor=\"middle\" x=\"309\" y=\"-123.83\" font-family=\"Times,serif\" font-size=\"14.00\">*</text>\n</g>\n<!-- 140589363994144&#45;&gt;140589348773840* -->\n<g id=\"edge13\" class=\"edge\">\n<title>140589363994144&#45;&gt;140589348773840*</title>\n<path fill=\"none\" stroke=\"black\" d=\"M216.81,-165.07C226.74,-162.47 236.63,-159.61 246,-156.5 256.18,-153.12 266.94,-148.61 276.59,-144.2\"/>\n<polygon fill=\"black\" stroke=\"black\" points=\"277.99,-147.41 285.55,-139.98 275.01,-141.08 277.99,-147.41\"/>\n</g>\n<!-- 140589348773456 -->\n<g id=\"node2\" class=\"node\">\n<title>140589348773456</title>\n<polygon fill=\"none\" stroke=\"black\" points=\"768,-82.5 768,-118.5 1104,-118.5 1104,-82.5 768,-82.5\"/>\n<text text-anchor=\"middle\" x=\"831.5\" y=\"-96.2\" font-family=\"Times,serif\" font-size=\"14.00\">x1*w1 + x2*w2</text>\n<polyline fill=\"none\" stroke=\"black\" points=\"895,-83.25 895,-118.5\"/>\n<text text-anchor=\"middle\" x=\"948\" y=\"-96.2\" font-family=\"Times,serif\" font-size=\"14.00\">data &#45;3.0000</text>\n<polyline fill=\"none\" stroke=\"black\" points=\"1001,-83.25 1001,-118.5\"/>\n<text text-anchor=\"middle\" x=\"1052.5\" y=\"-96.2\" font-family=\"Times,serif\" font-size=\"14.00\">grad 0.0099</text>\n</g>\n<!-- 140589348773072+ -->\n<g id=\"node6\" class=\"node\">\n<title>140589348773072+</title>\n<ellipse fill=\"none\" stroke=\"black\" cx=\"1167\" cy=\"-72.5\" rx=\"27\" ry=\"18\"/>\n<text text-anchor=\"middle\" x=\"1167\" y=\"-67.83\" font-family=\"Times,serif\" font-size=\"14.00\">+</text>\n</g>\n<!-- 140589348773456&#45;&gt;140589348773072+ -->\n<g id=\"edge10\" class=\"edge\">\n<title>140589348773456&#45;&gt;140589348773072+</title>\n<path fill=\"none\" stroke=\"black\" d=\"M1088.15,-82.02C1103.05,-80.2 1117.02,-78.49 1128.9,-77.04\"/>\n<polygon fill=\"black\" stroke=\"black\" points=\"1129.04,-80.55 1138.54,-75.86 1128.19,-73.6 1129.04,-80.55\"/>\n</g>\n<!-- 140589348773456+ -->\n<g id=\"node3\" class=\"node\">\n<title>140589348773456+</title>\n<ellipse fill=\"none\" stroke=\"black\" cx=\"705\" cy=\"-100.5\" rx=\"27\" ry=\"18\"/>\n<text text-anchor=\"middle\" x=\"705\" y=\"-95.83\" font-family=\"Times,serif\" font-size=\"14.00\">+</text>\n</g>\n<!-- 140589348773456+&#45;&gt;140589348773456 -->\n<g id=\"edge1\" class=\"edge\">\n<title>140589348773456+&#45;&gt;140589348773456</title>\n<path fill=\"none\" stroke=\"black\" d=\"M732.27,-100.5C739.21,-100.5 747.24,-100.5 756.03,-100.5\"/>\n<polygon fill=\"black\" stroke=\"black\" points=\"756.02,-104 766.02,-100.5 756.02,-97 756.02,-104\"/>\n</g>\n<!-- 140589363993760 -->\n<g id=\"node4\" class=\"node\">\n<title>140589363993760</title>\n<polygon fill=\"none\" stroke=\"black\" points=\"4.12,-55.5 4.12,-91.5 241.88,-91.5 241.88,-55.5 4.12,-55.5\"/>\n<text text-anchor=\"middle\" x=\"20.75\" y=\"-69.2\" font-family=\"Times,serif\" font-size=\"14.00\">x2</text>\n<polyline fill=\"none\" stroke=\"black\" points=\"37.38,-56.25 37.38,-91.5\"/>\n<text text-anchor=\"middle\" x=\"88.12\" y=\"-69.2\" font-family=\"Times,serif\" font-size=\"14.00\">data 3.0000</text>\n<polyline fill=\"none\" stroke=\"black\" points=\"138.88,-56.25 138.88,-91.5\"/>\n<text text-anchor=\"middle\" x=\"190.38\" y=\"-69.2\" font-family=\"Times,serif\" font-size=\"14.00\">grad 0.0099</text>\n</g>\n<!-- 140589348773264* -->\n<g id=\"node11\" class=\"node\">\n<title>140589348773264*</title>\n<ellipse fill=\"none\" stroke=\"black\" cx=\"309\" cy=\"-73.5\" rx=\"27\" ry=\"18\"/>\n<text text-anchor=\"middle\" x=\"309\" y=\"-68.83\" font-family=\"Times,serif\" font-size=\"14.00\">*</text>\n</g>\n<!-- 140589363993760&#45;&gt;140589348773264* -->\n<g id=\"edge12\" class=\"edge\">\n<title>140589363993760&#45;&gt;140589348773264*</title>\n<path fill=\"none\" stroke=\"black\" d=\"M242.35,-73.5C252.31,-73.5 261.82,-73.5 270.35,-73.5\"/>\n<polygon fill=\"black\" stroke=\"black\" points=\"270.2,-77 280.2,-73.5 270.2,-70 270.2,-77\"/>\n</g>\n<!-- 140589348773072 -->\n<g id=\"node5\" class=\"node\">\n<title>140589348773072</title>\n<polygon fill=\"none\" stroke=\"black\" points=\"1230,-54.5 1230,-90.5 1455,-90.5 1455,-54.5 1230,-54.5\"/>\n<text text-anchor=\"middle\" x=\"1240.25\" y=\"-68.2\" font-family=\"Times,serif\" font-size=\"14.00\"> </text>\n<polyline fill=\"none\" stroke=\"black\" points=\"1250.5,-55.25 1250.5,-90.5\"/>\n<text text-anchor=\"middle\" x=\"1301.25\" y=\"-68.2\" font-family=\"Times,serif\" font-size=\"14.00\">data 3.0000</text>\n<polyline fill=\"none\" stroke=\"black\" points=\"1352,-55.25 1352,-90.5\"/>\n<text text-anchor=\"middle\" x=\"1403.5\" y=\"-68.2\" font-family=\"Times,serif\" font-size=\"14.00\">grad 0.0099</text>\n</g>\n<!-- 140589348773744tanh -->\n<g id=\"node9\" class=\"node\">\n<title>140589348773744tanh</title>\n<ellipse fill=\"none\" stroke=\"black\" cx=\"1524.85\" cy=\"-72.5\" rx=\"33.85\" ry=\"18\"/>\n<text text-anchor=\"middle\" x=\"1524.85\" y=\"-67.83\" font-family=\"Times,serif\" font-size=\"14.00\">tanh</text>\n</g>\n<!-- 140589348773072&#45;&gt;140589348773744tanh -->\n<g id=\"edge7\" class=\"edge\">\n<title>140589348773072&#45;&gt;140589348773744tanh</title>\n<path fill=\"none\" stroke=\"black\" d=\"M1455.41,-72.5C1463.8,-72.5 1471.93,-72.5 1479.47,-72.5\"/>\n<polygon fill=\"black\" stroke=\"black\" points=\"1479.28,-76 1489.28,-72.5 1479.28,-69 1479.28,-76\"/>\n</g>\n<!-- 140589348773072+&#45;&gt;140589348773072 -->\n<g id=\"edge2\" class=\"edge\">\n<title>140589348773072+&#45;&gt;140589348773072</title>\n<path fill=\"none\" stroke=\"black\" d=\"M1194.35,-72.5C1201.42,-72.5 1209.54,-72.5 1218.27,-72.5\"/>\n<polygon fill=\"black\" stroke=\"black\" points=\"1218.1,-76 1228.1,-72.5 1218.1,-69 1218.1,-76\"/>\n</g>\n<!-- 140589363996400 -->\n<g id=\"node7\" class=\"node\">\n<title>140589363996400</title>\n<polygon fill=\"none\" stroke=\"black\" points=\"0,-110.5 0,-146.5 246,-146.5 246,-110.5 0,-110.5\"/>\n<text text-anchor=\"middle\" x=\"18.5\" y=\"-124.2\" font-family=\"Times,serif\" font-size=\"14.00\">w1</text>\n<polyline fill=\"none\" stroke=\"black\" points=\"37,-111.25 37,-146.5\"/>\n<text text-anchor=\"middle\" x=\"90\" y=\"-124.2\" font-family=\"Times,serif\" font-size=\"14.00\">data &#45;3.0000</text>\n<polyline fill=\"none\" stroke=\"black\" points=\"143,-111.25 143,-146.5\"/>\n<text text-anchor=\"middle\" x=\"194.5\" y=\"-124.2\" font-family=\"Times,serif\" font-size=\"14.00\">grad 0.0197</text>\n</g>\n<!-- 140589363996400&#45;&gt;140589348773840* -->\n<g id=\"edge9\" class=\"edge\">\n<title>140589363996400&#45;&gt;140589348773840*</title>\n<path fill=\"none\" stroke=\"black\" d=\"M246.47,-128.5C254.97,-128.5 263.07,-128.5 270.44,-128.5\"/>\n<polygon fill=\"black\" stroke=\"black\" points=\"270.23,-132 280.23,-128.5 270.23,-125 270.23,-132\"/>\n</g>\n<!-- 140589348773744 -->\n<g id=\"node8\" class=\"node\">\n<title>140589348773744</title>\n<polygon fill=\"none\" stroke=\"black\" points=\"1594.69,-54.5 1594.69,-90.5 1823.44,-90.5 1823.44,-54.5 1594.69,-54.5\"/>\n<text text-anchor=\"middle\" x=\"1606.82\" y=\"-68.2\" font-family=\"Times,serif\" font-size=\"14.00\">y</text>\n<polyline fill=\"none\" stroke=\"black\" points=\"1618.94,-55.25 1618.94,-90.5\"/>\n<text text-anchor=\"middle\" x=\"1669.69\" y=\"-68.2\" font-family=\"Times,serif\" font-size=\"14.00\">data 0.9951</text>\n<polyline fill=\"none\" stroke=\"black\" points=\"1720.44,-55.25 1720.44,-90.5\"/>\n<text text-anchor=\"middle\" x=\"1771.94\" y=\"-68.2\" font-family=\"Times,serif\" font-size=\"14.00\">grad 1.0000</text>\n</g>\n<!-- 140589348773744tanh&#45;&gt;140589348773744 -->\n<g id=\"edge3\" class=\"edge\">\n<title>140589348773744tanh&#45;&gt;140589348773744</title>\n<path fill=\"none\" stroke=\"black\" d=\"M1558.85,-72.5C1566.2,-72.5 1574.42,-72.5 1583.13,-72.5\"/>\n<polygon fill=\"black\" stroke=\"black\" points=\"1582.86,-76 1592.86,-72.5 1582.86,-69 1582.86,-76\"/>\n</g>\n<!-- 140589348773264 -->\n<g id=\"node10\" class=\"node\">\n<title>140589348773264</title>\n<polygon fill=\"none\" stroke=\"black\" points=\"374.25,-55.5 374.25,-91.5 639.75,-91.5 639.75,-55.5 374.25,-55.5\"/>\n<text text-anchor=\"middle\" x=\"404.75\" y=\"-69.2\" font-family=\"Times,serif\" font-size=\"14.00\">x2*w2</text>\n<polyline fill=\"none\" stroke=\"black\" points=\"435.25,-56.25 435.25,-91.5\"/>\n<text text-anchor=\"middle\" x=\"486\" y=\"-69.2\" font-family=\"Times,serif\" font-size=\"14.00\">data 3.0000</text>\n<polyline fill=\"none\" stroke=\"black\" points=\"536.75,-56.25 536.75,-91.5\"/>\n<text text-anchor=\"middle\" x=\"588.25\" y=\"-69.2\" font-family=\"Times,serif\" font-size=\"14.00\">grad 0.0099</text>\n</g>\n<!-- 140589348773264&#45;&gt;140589348773456+ -->\n<g id=\"edge6\" class=\"edge\">\n<title>140589348773264&#45;&gt;140589348773456+</title>\n<path fill=\"none\" stroke=\"black\" d=\"M640.09,-91.7C649.64,-93.01 658.7,-94.26 666.83,-95.38\"/>\n<polygon fill=\"black\" stroke=\"black\" points=\"666.15,-98.82 676.54,-96.72 667.11,-91.88 666.15,-98.82\"/>\n</g>\n<!-- 140589348773264*&#45;&gt;140589348773264 -->\n<g id=\"edge4\" class=\"edge\">\n<title>140589348773264*&#45;&gt;140589348773264</title>\n<path fill=\"none\" stroke=\"black\" d=\"M336.43,-73.5C344.1,-73.5 353.05,-73.5 362.77,-73.5\"/>\n<polygon fill=\"black\" stroke=\"black\" points=\"362.51,-77 372.51,-73.5 362.51,-70 362.51,-77\"/>\n</g>\n<!-- 140589348773840 -->\n<g id=\"node12\" class=\"node\">\n<title>140589348773840</title>\n<polygon fill=\"none\" stroke=\"black\" points=\"372,-110.5 372,-146.5 642,-146.5 642,-110.5 372,-110.5\"/>\n<text text-anchor=\"middle\" x=\"402.5\" y=\"-124.2\" font-family=\"Times,serif\" font-size=\"14.00\">x1*w1</text>\n<polyline fill=\"none\" stroke=\"black\" points=\"433,-111.25 433,-146.5\"/>\n<text text-anchor=\"middle\" x=\"486\" y=\"-124.2\" font-family=\"Times,serif\" font-size=\"14.00\">data &#45;6.0000</text>\n<polyline fill=\"none\" stroke=\"black\" points=\"539,-111.25 539,-146.5\"/>\n<text text-anchor=\"middle\" x=\"590.5\" y=\"-124.2\" font-family=\"Times,serif\" font-size=\"14.00\">grad 0.0099</text>\n</g>\n<!-- 140589348773840&#45;&gt;140589348773456+ -->\n<g id=\"edge14\" class=\"edge\">\n<title>140589348773840&#45;&gt;140589348773456+</title>\n<path fill=\"none\" stroke=\"black\" d=\"M637.37,-110.02C647.88,-108.52 657.85,-107.09 666.73,-105.82\"/>\n<polygon fill=\"black\" stroke=\"black\" points=\"667.19,-109.29 676.6,-104.41 666.2,-102.36 667.19,-109.29\"/>\n</g>\n<!-- 140589348773840*&#45;&gt;140589348773840 -->\n<g id=\"edge5\" class=\"edge\">\n<title>140589348773840*&#45;&gt;140589348773840</title>\n<path fill=\"none\" stroke=\"black\" d=\"M336.43,-128.5C343.41,-128.5 351.46,-128.5 360.17,-128.5\"/>\n<polygon fill=\"black\" stroke=\"black\" points=\"360.02,-132 370.02,-128.5 360.02,-125 360.02,-132\"/>\n</g>\n<!-- 140589363987952 -->\n<g id=\"node14\" class=\"node\">\n<title>140589363987952</title>\n<polygon fill=\"none\" stroke=\"black\" points=\"821.25,-27.5 821.25,-63.5 1050.75,-63.5 1050.75,-27.5 821.25,-27.5\"/>\n<text text-anchor=\"middle\" x=\"833.75\" y=\"-41.2\" font-family=\"Times,serif\" font-size=\"14.00\">b</text>\n<polyline fill=\"none\" stroke=\"black\" points=\"846.25,-28.25 846.25,-63.5\"/>\n<text text-anchor=\"middle\" x=\"897\" y=\"-41.2\" font-family=\"Times,serif\" font-size=\"14.00\">data 6.0000</text>\n<polyline fill=\"none\" stroke=\"black\" points=\"947.75,-28.25 947.75,-63.5\"/>\n<text text-anchor=\"middle\" x=\"999.25\" y=\"-41.2\" font-family=\"Times,serif\" font-size=\"14.00\">grad 0.0099</text>\n</g>\n<!-- 140589363987952&#45;&gt;140589348773072+ -->\n<g id=\"edge8\" class=\"edge\">\n<title>140589363987952&#45;&gt;140589348773072+</title>\n<path fill=\"none\" stroke=\"black\" d=\"M1051.16,-58.96C1079.33,-62.28 1107.53,-65.61 1128.93,-68.13\"/>\n<polygon fill=\"black\" stroke=\"black\" points=\"1128.24,-71.57 1138.58,-69.27 1129.06,-64.62 1128.24,-71.57\"/>\n</g>\n<!-- 140589363994096 -->\n<g id=\"node15\" class=\"node\">\n<title>140589363994096</title>\n<polygon fill=\"none\" stroke=\"black\" points=\"2.25,-0.5 2.25,-36.5 243.75,-36.5 243.75,-0.5 2.25,-0.5\"/>\n<text text-anchor=\"middle\" x=\"20.75\" y=\"-14.2\" font-family=\"Times,serif\" font-size=\"14.00\">w2</text>\n<polyline fill=\"none\" stroke=\"black\" points=\"39.25,-1.25 39.25,-36.5\"/>\n<text text-anchor=\"middle\" x=\"90\" y=\"-14.2\" font-family=\"Times,serif\" font-size=\"14.00\">data 1.0000</text>\n<polyline fill=\"none\" stroke=\"black\" points=\"140.75,-1.25 140.75,-36.5\"/>\n<text text-anchor=\"middle\" x=\"192.25\" y=\"-14.2\" font-family=\"Times,serif\" font-size=\"14.00\">grad 0.0296</text>\n</g>\n<!-- 140589363994096&#45;&gt;140589348773264* -->\n<g id=\"edge11\" class=\"edge\">\n<title>140589363994096&#45;&gt;140589348773264*</title>\n<path fill=\"none\" stroke=\"black\" d=\"M213.15,-36.94C224.3,-39.84 235.47,-43.03 246,-46.5 256.05,-49.81 266.7,-54.13 276.29,-58.35\"/>\n<polygon fill=\"black\" stroke=\"black\" points=\"274.64,-61.44 285.2,-62.38 277.53,-55.07 274.64,-61.44\"/>\n</g>\n</g>\n</svg>\n",
      "text/plain": [
       "<graphviz.graphs.Digraph at 0x7fdd8318df70>"
      ]
     },
     "execution_count": 42,
     "metadata": {},
     "output_type": "execute_result"
    }
   ],
   "execution_count": 42
  },
  {
   "metadata": {},
   "cell_type": "markdown",
   "source": [
    "### PyTorch Tensor\n",
    "\n",
    "PyTorch is a popular deep learning library that provides a tensor object similar to the one we've implemented.\n",
    "\n",
    "Let's implement the same example using PyTorch tensors."
   ],
   "id": "34972521d62160a6"
  },
  {
   "metadata": {
    "ExecuteTime": {
     "end_time": "2025-02-09T05:00:03.811411Z",
     "start_time": "2025-02-09T05:00:02.750544Z"
    }
   },
   "cell_type": "code",
   "source": [
    "import torch\n",
    "# Implement PyTorch tensor\n",
    "x1 = torch.tensor(2.0, requires_grad=False)\n",
    "x2 = torch.tensor(3.0, requires_grad=False)\n",
    "w1 = torch.tensor(-3.0, requires_grad=True)\n",
    "w2 = torch.tensor(1.0, requires_grad=True)\n",
    "b = torch.tensor(6.0, requires_grad=True)\n",
    "y = torch.tanh(w1 * x1 + w2 * x2 + b)\n",
    "\n",
    "# Calculate the gradient of y with respect to w1, w2, and b\n",
    "print(f\"y: {y.data.item()}\")\n",
    "y.backward()\n",
    "print(f\"dy/dw1: {w1.grad.item()}\")\n",
    "print(f\"dy/dw2: {w2.grad.item()}\")\n",
    "print(f\"dy/db: {b.grad.item()}\")"
   ],
   "id": "254b7f18bff1fc44",
   "outputs": [
    {
     "name": "stdout",
     "output_type": "stream",
     "text": [
      "y: 0.9950547814369202\n",
      "dy/dw1: 0.01973196305334568\n",
      "dy/dw2: 0.029597945511341095\n",
      "dy/db: 0.00986598152667284\n"
     ]
    }
   ],
   "execution_count": 43
  },
  {
   "metadata": {},
   "cell_type": "markdown",
   "source": [
    "## Part 2: Linear Regression\n",
    "\n",
    "Linear regression is a simple machine learning model that predicts the relationship between two variables.\n",
    "\n",
    "Let's implement a simple linear regression model using our custom tensor object. Then, we will train the model using the backpropagation algorithm."
   ],
   "id": "c17e490aa4f1c213"
  },
  {
   "metadata": {},
   "cell_type": "markdown",
   "source": [
    "### Model\n",
    "\n"
   ],
   "id": "63cd0afff9eb1fa5"
  },
  {
   "metadata": {
    "ExecuteTime": {
     "end_time": "2025-02-09T05:00:03.816103Z",
     "start_time": "2025-02-09T05:00:03.812502Z"
    }
   },
   "cell_type": "code",
   "source": [
    "# Linear network\n",
    "class Linear:\n",
    "    def __init__(self, input_size):\n",
    "        # y = Wx + b\n",
    "        self.weights = [Tensor(random.uniform(-1, 1)) for _ in range(input_size)]  # (input_size)\n",
    "        self.bias = Tensor(random.uniform(-1, 1))  # (1)\n",
    "\n",
    "    def __call__(self, x):\n",
    "        \"\"\"\n",
    "        Forward pass\n",
    "        y = Wx + b\n",
    "        \"\"\"\n",
    "        x = sum((wi * xi for wi, xi in zip(self.weights, x)), self.bias)  # matrix multiplication by summing the products\n",
    "        # note: Dot product is not good for parallelization\n",
    "        x = x.tanh()\n",
    "        return x\n",
    "\n",
    "    def parameters(self):\n",
    "        return self.weights + [self.bias]"
   ],
   "id": "e28c89d89c8d4e8",
   "outputs": [],
   "execution_count": 44
  },
  {
   "metadata": {
    "ExecuteTime": {
     "end_time": "2025-02-09T05:00:03.823673Z",
     "start_time": "2025-02-09T05:00:03.817171Z"
    }
   },
   "cell_type": "code",
   "source": [
    "# Input values\n",
    "x = [Tensor(-2.0), Tensor(5.0), Tensor(-4.0), Tensor(1.0)]\n",
    "\n",
    "# Target value\n",
    "y = Tensor(1.0)\n",
    "\n",
    "# Initialize the linear network\n",
    "linear = Linear(input_size=4)\n",
    "\n",
    "# Example forward pass\n",
    "print(f\"Output: {linear(x)}\")"
   ],
   "id": "b74c7bf299837031",
   "outputs": [
    {
     "name": "stdout",
     "output_type": "stream",
     "text": [
      "Output: tensor=(0.9993831824962418)\n"
     ]
    }
   ],
   "execution_count": 45
  },
  {
   "metadata": {},
   "cell_type": "markdown",
   "source": [
    "### Training\n",
    "\n",
    "Training a neural network involves the following steps:\n",
    "1. Forward pass: Calculate the predicted value.\n",
    "2. Loss: Calculate the difference between the predicted value and the target value.\n",
    "3. Backward pass: Calculate the gradient of the loss with respect to the weights.\n",
    "4. Update weights: Update the weights using the gradients.\n",
    "\n",
    "Repeat the process until the loss is minimized.\n",
    "\n",
    "Let's implement a simple training loop for the linear regression model.\n"
   ],
   "id": "f10fd413ef00d81e"
  },
  {
   "metadata": {
    "ExecuteTime": {
     "end_time": "2025-02-09T05:01:10.771045Z",
     "start_time": "2025-02-09T05:01:10.767109Z"
    }
   },
   "cell_type": "code",
   "source": [
    "lr = 1  # Learning rate\n",
    "\n",
    "# Training loop\n",
    "for step in range(10):\n",
    "    # Forward pass\n",
    "    logits = linear(x)\n",
    "    \n",
    "    # Loss\n",
    "    loss = (logits - y) ** 2  # MSE loss\n",
    "\n",
    "    # Backward pass\n",
    "    for param in linear.parameters():\n",
    "        param.gradient = 0  # Zero the gradients\n",
    "    loss.backward()\n",
    "\n",
    "    # Update weights\n",
    "    for param in linear.parameters():\n",
    "        param.data = param.data - lr * param.gradient\n",
    "\n",
    "    print(f\"Step {step+1}, Loss: {loss.data}\")"
   ],
   "id": "33eb7fb9ff8fbdcb",
   "outputs": [
    {
     "name": "stdout",
     "output_type": "stream",
     "text": [
      "Step 1, Loss: 3.8035507556175117e-07\n",
      "Step 2, Loss: 3.8024636635447374e-07\n",
      "Step 3, Loss: 3.801377192646758e-07\n",
      "Step 4, Loss: 3.8002913423912675e-07\n",
      "Step 5, Loss: 3.7992061122462337e-07\n",
      "Step 6, Loss: 3.798121501679901e-07\n",
      "Step 7, Loss: 3.7970375101621575e-07\n",
      "Step 8, Loss: 3.795954137164532e-07\n",
      "Step 9, Loss: 3.794871382156093e-07\n",
      "Step 10, Loss: 3.7937892446089166e-07\n"
     ]
    }
   ],
   "execution_count": 47
  }
 ],
 "metadata": {
  "kernelspec": {
   "display_name": "Python 3",
   "language": "python",
   "name": "python3"
  },
  "language_info": {
   "codemirror_mode": {
    "name": "ipython",
    "version": 2
   },
   "file_extension": ".py",
   "mimetype": "text/x-python",
   "name": "python",
   "nbconvert_exporter": "python",
   "pygments_lexer": "ipython2",
   "version": "2.7.6"
  }
 },
 "nbformat": 4,
 "nbformat_minor": 5
}
