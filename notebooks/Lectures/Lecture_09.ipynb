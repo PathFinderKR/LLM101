{
 "cells": [
  {
   "metadata": {},
   "cell_type": "markdown",
   "source": "# Lecture 9: Scaling Laws",
   "id": "a15e20c2b7508089"
  },
  {
   "metadata": {},
   "cell_type": "markdown",
   "source": [
    "### Entropy in Image\n",
    "- Pixel values: 0-255\n",
    "- Entropy: Measure of uncertainty in the pixel values\n",
    "\n",
    "### Entropy in Natural Language"
   ],
   "id": "44b3643fae1c4ed2"
  },
  {
   "cell_type": "code",
   "execution_count": null,
   "id": "initial_id",
   "metadata": {
    "collapsed": true
   },
   "outputs": [],
   "source": [
    ""
   ]
  },
  {
   "metadata": {},
   "cell_type": "markdown",
   "source": "",
   "id": "f1fe9d83027f3a7b"
  }
 ],
 "metadata": {
  "kernelspec": {
   "display_name": "Python 3",
   "language": "python",
   "name": "python3"
  },
  "language_info": {
   "codemirror_mode": {
    "name": "ipython",
    "version": 2
   },
   "file_extension": ".py",
   "mimetype": "text/x-python",
   "name": "python",
   "nbconvert_exporter": "python",
   "pygments_lexer": "ipython2",
   "version": "2.7.6"
  }
 },
 "nbformat": 4,
 "nbformat_minor": 5
}
