{
 "cells": [
  {
   "metadata": {},
   "cell_type": "markdown",
   "source": [
    "# Assignment 3\n",
    "\n",
    "In this assignment, you will refactor the code from the lecture by...\n",
    "1. Adding a train-validation split.\n",
    "2. Using `nn.Module` for defining the model.\n",
    "3. Implementing the training loop."
   ],
   "id": "1d8158dfddb2ac72"
  },
  {
   "metadata": {},
   "cell_type": "markdown",
   "source": "## Importing Libraries",
   "id": "e74cf4f768c1edcc"
  },
  {
   "cell_type": "code",
   "id": "initial_id",
   "metadata": {
    "collapsed": true,
    "ExecuteTime": {
     "end_time": "2025-02-09T16:54:54.208677Z",
     "start_time": "2025-02-09T16:54:53.000207Z"
    }
   },
   "source": [
    "import os\n",
    "import matplotlib.pyplot as plt\n",
    "from dataclasses import dataclass\n",
    "from typing import Tuple\n",
    "import torch\n",
    "from torch import nn\n",
    "from torch.nn import functional as F\n",
    "from src.utils import load_text, set_seed, configure_device\n",
    "%matplotlib inline"
   ],
   "outputs": [],
   "execution_count": 1
  },
  {
   "metadata": {},
   "cell_type": "markdown",
   "source": "## Configuration",
   "id": "2cb2cbcb0169f77d"
  },
  {
   "metadata": {},
   "cell_type": "markdown",
   "source": "**Note:** If you do not have a GPU, decrease the `max_steps`",
   "id": "3f8bfe28c1af6b7"
  },
  {
   "metadata": {
    "ExecuteTime": {
     "end_time": "2025-02-09T16:54:54.213324Z",
     "start_time": "2025-02-09T16:54:54.209986Z"
    }
   },
   "cell_type": "code",
   "source": [
    "@dataclass\n",
    "class MLPConfig:\n",
    "    root_dir: str = os.getcwd() + \"/../../\"\n",
    "    dataset_path: str = \"data/names.txt\"\n",
    "    device: torch.device = torch.device('cpu')  # Automatic device configuration\n",
    "\n",
    "    # Tokenizer\n",
    "    vocab_size: int = 0  # Set later\n",
    "    \n",
    "    # Model\n",
    "    context_size: int = 3\n",
    "    d_embed: int = 16\n",
    "    d_hidden: int = 64\n",
    "    \n",
    "    # Training\n",
    "    val_size: float = 0.1\n",
    "    val_interval: int = 1000\n",
    "    batch_size: int = 32\n",
    "    lr: float = 2e-3\n",
    "    max_steps: int = 10000\n",
    "\n",
    "    seed: int = 101"
   ],
   "id": "78853ec5626e6a0c",
   "outputs": [],
   "execution_count": 2
  },
  {
   "metadata": {},
   "cell_type": "markdown",
   "source": "## Reproducibility",
   "id": "21388a355d7684a2"
  },
  {
   "metadata": {
    "ExecuteTime": {
     "end_time": "2025-02-09T16:54:54.229416Z",
     "start_time": "2025-02-09T16:54:54.214152Z"
    }
   },
   "cell_type": "code",
   "source": [
    "set_seed(MLPConfig.seed)\n",
    "generator = torch.Generator().manual_seed(MLPConfig.seed)"
   ],
   "id": "c978c462c20bd1aa",
   "outputs": [
    {
     "name": "stdout",
     "output_type": "stream",
     "text": [
      "Random seed set to 101\n"
     ]
    }
   ],
   "execution_count": 3
  },
  {
   "metadata": {},
   "cell_type": "markdown",
   "source": "## Device",
   "id": "7de6979c114cc847"
  },
  {
   "metadata": {
    "ExecuteTime": {
     "end_time": "2025-02-09T16:54:54.387046Z",
     "start_time": "2025-02-09T16:54:54.230431Z"
    }
   },
   "cell_type": "code",
   "source": "MLPConfig.device = configure_device()",
   "id": "a9ca76989a82c131",
   "outputs": [
    {
     "name": "stdout",
     "output_type": "stream",
     "text": [
      "Running on 1 NVIDIA GeForce RTX 4080 SUPER GPU(s)\n"
     ]
    }
   ],
   "execution_count": 4
  },
  {
   "metadata": {},
   "cell_type": "markdown",
   "source": "## Tokenizer",
   "id": "fd06cd53a8099029"
  },
  {
   "metadata": {
    "ExecuteTime": {
     "end_time": "2025-02-09T16:54:54.391726Z",
     "start_time": "2025-02-09T16:54:54.388801Z"
    }
   },
   "cell_type": "code",
   "source": [
    "chars = [chr(i) for i in range(97, 123)]  # all alphabet characters\n",
    "chars.insert(0, \".\")  # Add special token\n",
    "MLPConfig.vocab_size = len(chars)\n",
    "str2idx = {char: idx for idx, char in enumerate(chars)}\n",
    "idx2str = {idx: char for char, idx in str2idx.items()}"
   ],
   "id": "3ec4919298103e29",
   "outputs": [],
   "execution_count": 5
  },
  {
   "metadata": {},
   "cell_type": "markdown",
   "source": "## Dataset",
   "id": "143169f16782a55f"
  },
  {
   "metadata": {
    "ExecuteTime": {
     "end_time": "2025-02-09T16:54:54.405820Z",
     "start_time": "2025-02-09T16:54:54.392700Z"
    }
   },
   "cell_type": "code",
   "source": "names = load_text(MLPConfig.root_dir + MLPConfig.dataset_path).splitlines()",
   "id": "e8acd205ab399fed",
   "outputs": [
    {
     "name": "stdout",
     "output_type": "stream",
     "text": [
      "Loaded text data from /mnt/c/Users/cheir/GitHub/LLM101/notebooks/Assignments/../../data/names.txt (length: 228145 characters).\n"
     ]
    }
   ],
   "execution_count": 6
  },
  {
   "metadata": {},
   "cell_type": "markdown",
   "source": "## Preprocessing",
   "id": "908b723455adc6b5"
  },
  {
   "metadata": {},
   "cell_type": "markdown",
   "source": [
    "### Task 1: Train-Validation split\n",
    "\n",
    "Using all the data for training leads to overfitting.\n",
    "\n",
    "Implement a function to split the text into training and validation sets. "
   ],
   "id": "a8ce74000c6911e0"
  },
  {
   "metadata": {
    "ExecuteTime": {
     "end_time": "2025-02-09T16:54:54.409614Z",
     "start_time": "2025-02-09T16:54:54.406957Z"
    }
   },
   "cell_type": "code",
   "source": [
    "def split_names(_names: str, val_size: float) -> Tuple[str, str]:\n",
    "    \"\"\"\n",
    "    Split text into training and validation sets.\n",
    "\n",
    "    Args:\n",
    "        _names (str): The data to split.\n",
    "        val_size (float): Size of the validation set.\n",
    "\n",
    "    Returns:\n",
    "        Tuple[str, str]: Training and validation data.\n",
    "    \"\"\"\n",
    "    if val_size <= 0 or val_size >= 1:\n",
    "        raise ValueError(f\"Invalid validation size: {val_size}\")\n",
    "    ################################################################################\n",
    "    # TODO:                                                                        #\n",
    "    # Split the data into training and validation sets.                            #\n",
    "    ################################################################################\n",
    "    # *****START OF YOUR CODE (DO NOT DELETE/MODIFY THIS LINE)*****\n",
    "    split_idx = int(len(_names) * (1 - val_size))\n",
    "    train_text, val_text = _names[:split_idx], _names[split_idx:]\n",
    "    # *****END OF YOUR CODE (DO NOT DELETE/MODIFY THIS LINE)*****\n",
    "    return train_text, val_text"
   ],
   "id": "7d442ad0a2d2a836",
   "outputs": [],
   "execution_count": 7
  },
  {
   "metadata": {
    "ExecuteTime": {
     "end_time": "2025-02-09T16:54:54.419266Z",
     "start_time": "2025-02-09T16:54:54.410527Z"
    }
   },
   "cell_type": "code",
   "source": [
    "train_names, val_names = split_names(names, MLPConfig.val_size)\n",
    "print(f\"Training set size: {len(train_names)}\")\n",
    "print(f\"Validation set size: {len(val_names)}\")"
   ],
   "id": "fd12c70f91c99915",
   "outputs": [
    {
     "name": "stdout",
     "output_type": "stream",
     "text": [
      "Training set size: 28829\n",
      "Validation set size: 3204\n"
     ]
    }
   ],
   "execution_count": 8
  },
  {
   "metadata": {
    "ExecuteTime": {
     "end_time": "2025-02-09T16:54:54.426352Z",
     "start_time": "2025-02-09T16:54:54.420161Z"
    }
   },
   "cell_type": "code",
   "source": [
    "def dataloader(_names):\n",
    "    inputs, targets = [], []\n",
    "\n",
    "    for name in _names:\n",
    "        context = [0] * MLPConfig.context_size\n",
    "        \n",
    "        for char in name + \".\":\n",
    "            idx = str2idx[char]\n",
    "            inputs.append(context)\n",
    "            targets.append(idx)\n",
    "            context = context[1:] + [idx]  # Shift the context by 1 character\n",
    "\n",
    "    inputs = torch.tensor(inputs)\n",
    "    targets = torch.tensor(targets)\n",
    "    \n",
    "    return inputs, targets"
   ],
   "id": "4264023fcf94ad2c",
   "outputs": [],
   "execution_count": 9
  },
  {
   "metadata": {
    "ExecuteTime": {
     "end_time": "2025-02-09T16:54:54.775405Z",
     "start_time": "2025-02-09T16:54:54.427389Z"
    }
   },
   "cell_type": "code",
   "source": [
    "train_inputs, train_targets = dataloader(train_names)\n",
    "val_inputs, val_targets = dataloader(val_names)\n",
    "\n",
    "print(f\"Training inputs shape: {train_inputs.shape}\")\n",
    "print(f\"Training targets shape: {train_targets.shape}\")\n",
    "print(f\"Validation inputs shape: {val_inputs.shape}\")\n",
    "print(f\"Validation targets shape: {val_targets.shape}\")"
   ],
   "id": "765ed38f4bbe4cda",
   "outputs": [
    {
     "name": "stdout",
     "output_type": "stream",
     "text": [
      "Training inputs shape: torch.Size([205411, 3])\n",
      "Training targets shape: torch.Size([205411])\n",
      "Validation inputs shape: torch.Size([22735, 3])\n",
      "Validation targets shape: torch.Size([22735])\n"
     ]
    }
   ],
   "execution_count": 10
  },
  {
   "metadata": {},
   "cell_type": "markdown",
   "source": "## Model",
   "id": "3afb919d68490621"
  },
  {
   "metadata": {},
   "cell_type": "markdown",
   "source": [
    "### Task 2: `nn.Module`.\n",
    "\n",
    "PyTorch provides a module called `nn.Module` for defining models. Instead of defining every layer as a separate tensor, we can wrap it all up in a class. This provides better organization and encapsulation.\n",
    "\n",
    "[PyTorch Documentation](https://pytorch.org/docs/stable/generated/torch.nn.Module.html)\n",
    "\n",
    "Implement a class `MLP` that inherits from `nn.Module`.\n",
    "(Hint: You can use `nn.Embedding` and `nn.Linear`)\n"
   ],
   "id": "3b30b401056e9d88"
  },
  {
   "metadata": {
    "ExecuteTime": {
     "end_time": "2025-02-09T16:54:54.779488Z",
     "start_time": "2025-02-09T16:54:54.776384Z"
    }
   },
   "cell_type": "code",
   "source": [
    "class MLP(nn.Module):\n",
    "    ################################################################################\n",
    "    # TODO:                                                                        #\n",
    "    # Define the __init__ and forward methods for the MLP model.                   #\n",
    "    ################################################################################\n",
    "    # *****START OF YOUR CODE (DO NOT DELETE/MODIFY THIS LINE)*****\n",
    "    def __init__(self, vocab_size, context_size, d_embed, d_hidden):\n",
    "        super().__init__()\n",
    "        self.embedding = nn.Embedding(vocab_size, d_embed)\n",
    "        self.linear1 = nn.Linear(context_size * d_embed, d_hidden, bias=True)\n",
    "        self.linear2 = nn.Linear(d_hidden, vocab_size, bias=True)\n",
    "        \n",
    "    def forward(self, x):  # x: (batch_size, context_size)\n",
    "        x_embed = self.embedding(x)  # (batch_size, context_size, d_embed)\n",
    "        x_embed = x_embed.view(x_embed.size(0), -1)  # (batch_size, context_size * d_embed)\n",
    "        x = F.relu(self.linear1(x_embed))  # (batch_size, d_hidden)\n",
    "        x = self.linear2(x)  # (batch_size, vocab_size)\n",
    "        return x\n",
    "    # *****END OF YOUR CODE (DO NOT DELETE/MODIFY THIS LINE)*****\n",
    "    # Note: do not include softmax in the forward pass since it is already included in the loss function."
   ],
   "id": "a56fae6095a01da9",
   "outputs": [],
   "execution_count": 11
  },
  {
   "metadata": {
    "ExecuteTime": {
     "end_time": "2025-02-09T16:54:55.093Z",
     "start_time": "2025-02-09T16:54:54.780441Z"
    }
   },
   "cell_type": "code",
   "source": [
    "# Initialize the model\n",
    "mlp = MLP(MLPConfig.vocab_size, MLPConfig.context_size, MLPConfig.d_embed, MLPConfig.d_hidden)\n",
    "mlp.to(MLPConfig.device) # Move the model to the device\n",
    "print(mlp)\n",
    "print(\"Number of parameters:\", sum(p.numel() for p in mlp.parameters()))\n",
    "\n",
    "# Example forward pass\n",
    "example_input = train_inputs[:2]\n",
    "example_input = example_input.to(MLPConfig.device)  # Move the data to the device\n",
    "print(f\"Input shape: {example_input.shape}\")\n",
    "print(f\"Output shape: {mlp(example_input).shape}\")"
   ],
   "id": "1145b4db700ccaf5",
   "outputs": [
    {
     "name": "stdout",
     "output_type": "stream",
     "text": [
      "MLP(\n",
      "  (embedding): Embedding(27, 16)\n",
      "  (linear1): Linear(in_features=48, out_features=64, bias=True)\n",
      "  (linear2): Linear(in_features=64, out_features=27, bias=True)\n",
      ")\n",
      "Number of parameters: 5323\n",
      "Input shape: torch.Size([2, 3])\n",
      "Output shape: torch.Size([2, 27])\n"
     ]
    }
   ],
   "execution_count": 12
  },
  {
   "metadata": {},
   "cell_type": "markdown",
   "source": "## Training",
   "id": "424042449c0aa770"
  },
  {
   "metadata": {},
   "cell_type": "markdown",
   "source": [
    "### Task 3: Training loop.\n",
    "\n",
    "Implement the training loop for the model.\n",
    "\n",
    "What is an optimizer? [PyTorch Documentation](https://pytorch.org/docs/stable/optim.html)"
   ],
   "id": "97b460fa44e187b3"
  },
  {
   "metadata": {
    "ExecuteTime": {
     "end_time": "2025-02-09T16:54:55.098305Z",
     "start_time": "2025-02-09T16:54:55.094123Z"
    }
   },
   "cell_type": "code",
   "source": [
    "def train(model):\n",
    "    steps = []\n",
    "    train_losses = []\n",
    "    val_losses = []\n",
    "    \n",
    "    # Define the optimizer\n",
    "    ################################################################################\n",
    "    # TODO:                                                                        #\n",
    "    # Define the optimizer for the model.                                          #\n",
    "    # Use stochastic gradient descent (SGD) with the learning rate from the config.#\n",
    "    ################################################################################\n",
    "    # *****START OF YOUR CODE (DO NOT DELETE/MODIFY THIS LINE)*****\n",
    "    optimizer = torch.optim.SGD(mlp.parameters(), lr=MLPConfig.lr)\n",
    "    # *****END OF YOUR CODE (DO NOT DELETE/MODIFY THIS LINE)*****\n",
    "    \n",
    "    for step in range(1, MLPConfig.max_steps + 1):\n",
    "        # Training\n",
    "        # Sample batch\n",
    "        idx = torch.randperm(len(train_inputs))[:MLPConfig.batch_size]\n",
    "        x, y = train_inputs[idx], train_targets[idx]\n",
    "        x, y = x.to(MLPConfig.device), y.to(MLPConfig.device)  # Move the data to the device\n",
    "        \n",
    "        ################################################################################\n",
    "        # TODO:                                                                        #\n",
    "        # Implement the forward pass and the backward pass                             #\n",
    "        ################################################################################\n",
    "        # *****START OF YOUR CODE (DO NOT DELETE/MODIFY THIS LINE)*****\n",
    "        # Forward pass\n",
    "        optimizer.zero_grad()\n",
    "        logits = model(x)\n",
    "        loss = F.cross_entropy(logits, y)\n",
    "        \n",
    "        # Backward pass\n",
    "        loss.backward()\n",
    "        optimizer.step()\n",
    "        # *****END OF YOUR CODE (DO NOT DELETE/MODIFY THIS LINE)*****\n",
    "        \n",
    "        # Validation\n",
    "        if step % MLPConfig.val_interval == 0:\n",
    "            # Validation loss\n",
    "            with torch.no_grad():\n",
    "                val_logits = model(val_inputs.to(MLPConfig.device))\n",
    "                val_loss = F.cross_entropy(val_logits, val_targets.to(MLPConfig.device)).item()\n",
    "                val_losses.append(val_loss)\n",
    "            \n",
    "        # Logging\n",
    "        steps.append(step)\n",
    "        train_losses.append(loss.item())\n",
    "        if step % MLPConfig.val_interval == 0:\n",
    "            print(f\"Step {step}: Train Loss = {loss.item():.4f}, Val Loss = {val_loss:.4f}\")\n",
    "\n",
    "    # Plot the loss\n",
    "    plt.figure()\n",
    "    plt.plot(steps, train_losses, label=\"Train\")\n",
    "    plt.plot(steps[::MLPConfig.val_interval], val_losses, label=\"Validation\")\n",
    "    plt.xlabel(\"Steps\")\n",
    "    plt.ylabel(\"Loss\")\n",
    "    plt.legend()\n",
    "    plt.show()"
   ],
   "id": "34c5737ae1ca96d3",
   "outputs": [],
   "execution_count": 13
  },
  {
   "metadata": {
    "ExecuteTime": {
     "end_time": "2025-02-09T16:55:18.458047Z",
     "start_time": "2025-02-09T16:54:55.099667Z"
    }
   },
   "cell_type": "code",
   "source": "train(mlp)",
   "id": "88b77b52fc6bd791",
   "outputs": [
    {
     "name": "stdout",
     "output_type": "stream",
     "text": [
      "Step 1000: Train Loss = 2.9750, Val Loss = 2.9907\n",
      "Step 2000: Train Loss = 2.9204, Val Loss = 2.8638\n",
      "Step 3000: Train Loss = 2.7146, Val Loss = 2.8027\n",
      "Step 4000: Train Loss = 2.4617, Val Loss = 2.7639\n",
      "Step 5000: Train Loss = 2.5653, Val Loss = 2.7350\n",
      "Step 6000: Train Loss = 2.7666, Val Loss = 2.7124\n",
      "Step 7000: Train Loss = 2.3074, Val Loss = 2.6934\n",
      "Step 8000: Train Loss = 2.7732, Val Loss = 2.6762\n",
      "Step 9000: Train Loss = 2.4712, Val Loss = 2.6618\n",
      "Step 10000: Train Loss = 2.2909, Val Loss = 2.6494\n"
     ]
    },
    {
     "data": {
      "text/plain": [
       "<Figure size 640x480 with 1 Axes>"
      ],
      "image/png": "[encoded data removed]"
     },
     "metadata": {},
     "output_type": "display_data"
    }
   ],
   "execution_count": 14
  },
  {
   "metadata": {},
   "cell_type": "markdown",
   "source": "## Inference",
   "id": "5d2880695e69f27e"
  },
  {
   "metadata": {
    "ExecuteTime": {
     "end_time": "2025-02-09T16:55:18.462099Z",
     "start_time": "2025-02-09T16:55:18.459183Z"
    }
   },
   "cell_type": "code",
   "source": [
    "def generate_name():\n",
    "    new_name = []\n",
    "    context = [0] * MLPConfig.context_size\n",
    "    \n",
    "    while True:\n",
    "        # forward pass\n",
    "        x = torch.tensor(context).unsqueeze(0).to(MLPConfig.device)\n",
    "        logits = mlp(x)\n",
    "        \n",
    "        # sample\n",
    "        probs = F.softmax(logits, dim=-1)\n",
    "        idx = torch.multinomial(probs, num_samples=1).item()\n",
    "        \n",
    "        # update context\n",
    "        new_name.append(idx2str[idx])\n",
    "        context = context[1:] + [idx]\n",
    "        \n",
    "        # break if \".\"\n",
    "        if idx == 0:\n",
    "            break\n",
    "        \n",
    "    return \"\".join(new_name)"
   ],
   "id": "254cfa9b9167cecd",
   "outputs": [],
   "execution_count": 15
  },
  {
   "metadata": {
    "ExecuteTime": {
     "end_time": "2025-02-09T16:55:18.582787Z",
     "start_time": "2025-02-09T16:55:18.462980Z"
    }
   },
   "cell_type": "code",
   "source": [
    "for _ in range(5):\n",
    "    print(generate_name())"
   ],
   "id": "18536bfec99f36ba",
   "outputs": [
    {
     "name": "stdout",
     "output_type": "stream",
     "text": [
      "hle.\n",
      "rea.\n",
      "loo.\n",
      "jac.\n",
      "daon.\n"
     ]
    }
   ],
   "execution_count": 16
  },
  {
   "metadata": {},
   "cell_type": "markdown",
   "source": [
    "## Extra Credit\n",
    "\n",
    "Change the model configuration and hyperparameters to achieve the following:\n",
    "\n",
    "Generate good-looking names and get the lowest **validation loss** as possible.\n",
    "\n",
    "Rules:\n",
    "- Do not change the random seed.\n",
    "- Do not change the validation set size.\n",
    "- External data is not allowed."
   ],
   "id": "5672f33432bc5671"
  }
 ],
 "metadata": {
  "kernelspec": {
   "display_name": "Python 3",
   "language": "python",
   "name": "python3"
  },
  "language_info": {
   "codemirror_mode": {
    "name": "ipython",
    "version": 2
   },
   "file_extension": ".py",
   "mimetype": "text/x-python",
   "name": "python",
   "nbconvert_exporter": "python",
   "pygments_lexer": "ipython2",
   "version": "2.7.6"
  }
 },
 "nbformat": 4,
 "nbformat_minor": 5
}
