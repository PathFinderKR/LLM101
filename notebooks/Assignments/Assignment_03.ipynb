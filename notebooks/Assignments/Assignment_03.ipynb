{
 "cells": [
  {
   "metadata": {},
   "cell_type": "markdown",
   "source": "# Assignment 3",
   "id": "1d8158dfddb2ac72"
  },
  {
   "metadata": {},
   "cell_type": "markdown",
   "source": "## Importing Libraries",
   "id": "e74cf4f768c1edcc"
  },
  {
   "cell_type": "code",
   "id": "initial_id",
   "metadata": {
    "collapsed": true,
    "ExecuteTime": {
     "end_time": "2025-02-08T05:20:56.875528Z",
     "start_time": "2025-02-08T05:20:55.158335Z"
    }
   },
   "source": [
    "import os\n",
    "import matplotlib.pyplot as plt\n",
    "from typing import Tuple\n",
    "import torch\n",
    "from torch import nn\n",
    "from torch.nn import functional as F\n",
    "from dataclasses import dataclass\n",
    "from src.utils import load_text, set_seed, configure_device\n",
    "%matplotlib inline"
   ],
   "outputs": [],
   "execution_count": 1
  },
  {
   "metadata": {},
   "cell_type": "markdown",
   "source": "## Configuration",
   "id": "2cb2cbcb0169f77d"
  },
  {
   "metadata": {
    "ExecuteTime": {
     "end_time": "2025-02-08T05:20:56.881544Z",
     "start_time": "2025-02-08T05:20:56.876874Z"
    }
   },
   "cell_type": "code",
   "source": [
    "@dataclass\n",
    "class MLPConfig:\n",
    "    root_dir: str = os.getcwd() + \"/../../\"\n",
    "    dataset_path: str = \"data/raw/names.txt\"\n",
    "    device: torch.device = torch.device('cpu')  # Automatic device configuration\n",
    "\n",
    "    # Tokenizer\n",
    "    vocab_size: int = 0  # Set later\n",
    "    \n",
    "    # Model\n",
    "    context_size: int = 3\n",
    "    d_embed: int = 16\n",
    "    d_hidden: int = 64\n",
    "    \n",
    "    # Training\n",
    "    val_size: float = 0.1\n",
    "    val_interval: int = 1000\n",
    "    batch_size: int = 32\n",
    "    lr: float = 2e-4\n",
    "    max_steps: int = 10000\n",
    "\n",
    "    seed: int = 101"
   ],
   "id": "78853ec5626e6a0c",
   "outputs": [],
   "execution_count": 2
  },
  {
   "metadata": {},
   "cell_type": "markdown",
   "source": "## Reproducibility",
   "id": "21388a355d7684a2"
  },
  {
   "metadata": {
    "ExecuteTime": {
     "end_time": "2025-02-08T05:20:56.904023Z",
     "start_time": "2025-02-08T05:20:56.882479Z"
    }
   },
   "cell_type": "code",
   "source": [
    "set_seed(MLPConfig.seed)\n",
    "generator = torch.Generator().manual_seed(MLPConfig.seed)"
   ],
   "id": "c978c462c20bd1aa",
   "outputs": [
    {
     "name": "stdout",
     "output_type": "stream",
     "text": [
      "Random seed set to 101\n"
     ]
    }
   ],
   "execution_count": 3
  },
  {
   "metadata": {},
   "cell_type": "markdown",
   "source": "## Device",
   "id": "7de6979c114cc847"
  },
  {
   "metadata": {
    "ExecuteTime": {
     "end_time": "2025-02-08T05:20:57.076830Z",
     "start_time": "2025-02-08T05:20:56.905518Z"
    }
   },
   "cell_type": "code",
   "source": "MLPConfig.device = configure_device()",
   "id": "a9ca76989a82c131",
   "outputs": [
    {
     "name": "stdout",
     "output_type": "stream",
     "text": [
      "Running on 1 NVIDIA GeForce RTX 4080 SUPER GPU(s)\n"
     ]
    }
   ],
   "execution_count": 4
  },
  {
   "metadata": {},
   "cell_type": "markdown",
   "source": "## Tokenizer",
   "id": "fd06cd53a8099029"
  },
  {
   "metadata": {
    "ExecuteTime": {
     "end_time": "2025-02-08T05:20:57.080800Z",
     "start_time": "2025-02-08T05:20:57.077896Z"
    }
   },
   "cell_type": "code",
   "source": [
    "chars = [chr(i) for i in range(97, 123)]  # all alphabet characters\n",
    "chars.insert(0, \".\")  # Add special token\n",
    "MLPConfig.vocab_size = len(chars)\n",
    "str2idx = {char: idx for idx, char in enumerate(chars)}\n",
    "idx2str = {idx: char for char, idx in str2idx.items()}"
   ],
   "id": "3ec4919298103e29",
   "outputs": [],
   "execution_count": 5
  },
  {
   "metadata": {},
   "cell_type": "markdown",
   "source": "## Dataset",
   "id": "143169f16782a55f"
  },
  {
   "metadata": {
    "ExecuteTime": {
     "end_time": "2025-02-08T05:20:57.095270Z",
     "start_time": "2025-02-08T05:20:57.081927Z"
    }
   },
   "cell_type": "code",
   "source": "names = load_text(MLPConfig.root_dir + MLPConfig.dataset_path).splitlines()",
   "id": "e8acd205ab399fed",
   "outputs": [
    {
     "name": "stdout",
     "output_type": "stream",
     "text": [
      "Loaded text data from /mnt/c/Users/cheir/GitHub/LLM101/notebooks/Assignments/../../data/raw/names.txt (length: 228145 characters).\n"
     ]
    }
   ],
   "execution_count": 6
  },
  {
   "metadata": {
    "ExecuteTime": {
     "end_time": "2025-02-08T05:20:57.098993Z",
     "start_time": "2025-02-08T05:20:57.096354Z"
    }
   },
   "cell_type": "code",
   "source": "print(f\"Number of names: {len(names)}\")",
   "id": "1b07c7da70d2440a",
   "outputs": [
    {
     "name": "stdout",
     "output_type": "stream",
     "text": [
      "Number of names: 32033\n"
     ]
    }
   ],
   "execution_count": 7
  },
  {
   "metadata": {},
   "cell_type": "markdown",
   "source": "## Preprocessing",
   "id": "908b723455adc6b5"
  },
  {
   "metadata": {},
   "cell_type": "markdown",
   "source": [
    "### Task 1: Train-Validation split\n",
    "\n",
    "Using all the data for training leads to overfitting.\n",
    "\n",
    "Implement a function to split the text into training and validation sets. \n"
   ],
   "id": "a8ce74000c6911e0"
  },
  {
   "metadata": {
    "ExecuteTime": {
     "end_time": "2025-02-08T05:20:57.107807Z",
     "start_time": "2025-02-08T05:20:57.099885Z"
    }
   },
   "cell_type": "code",
   "source": [
    "def split_names(_names: str, val_size: float) -> Tuple[str, str]:\n",
    "    \"\"\"\n",
    "    Split text into training and validation sets.\n",
    "\n",
    "    Args:\n",
    "        _names (str): The data to split.\n",
    "        val_size (float): Size of the validation set.\n",
    "\n",
    "    Returns:\n",
    "        Tuple[str, str]: Training and validation data.\n",
    "    \"\"\"\n",
    "    if val_size <= 0 or val_size >= 1:\n",
    "        raise ValueError(f\"Invalid validation size: {val_size}\")\n",
    "    # ------------------\n",
    "    # Write your implementation here.\n",
    "    split_idx = int(len(_names) * (1 - val_size))\n",
    "    train_text, val_text = _names[:split_idx], _names[split_idx:]\n",
    "    # ------------------\n",
    "    return train_text, val_text"
   ],
   "id": "7d442ad0a2d2a836",
   "outputs": [],
   "execution_count": 8
  },
  {
   "metadata": {
    "ExecuteTime": {
     "end_time": "2025-02-08T05:20:57.117358Z",
     "start_time": "2025-02-08T05:20:57.108793Z"
    }
   },
   "cell_type": "code",
   "source": [
    "train_names, val_names = split_names(names, MLPConfig.val_size)\n",
    "print(f\"Training set size: {len(train_names)}\")\n",
    "print(f\"Validation set size: {len(val_names)}\")"
   ],
   "id": "fd12c70f91c99915",
   "outputs": [
    {
     "name": "stdout",
     "output_type": "stream",
     "text": [
      "Training set size: 28829\n",
      "Validation set size: 3204\n"
     ]
    }
   ],
   "execution_count": 9
  },
  {
   "metadata": {
    "ExecuteTime": {
     "end_time": "2025-02-08T05:20:57.125528Z",
     "start_time": "2025-02-08T05:20:57.118757Z"
    }
   },
   "cell_type": "code",
   "source": [
    "def get_dataloader(_names):\n",
    "    inputs, targets = [], []\n",
    "\n",
    "    for name in _names:\n",
    "        context = [0] * MLPConfig.context_size\n",
    "        \n",
    "        for char in name + \".\":\n",
    "            idx = str2idx[char]\n",
    "            inputs.append(context)\n",
    "            targets.append(idx)\n",
    "            context = context[1:] + [idx]  # Shift the context by 1 character\n",
    "\n",
    "    inputs = torch.tensor(inputs)\n",
    "    targets = torch.tensor(targets)\n",
    "    \n",
    "    return inputs, targets"
   ],
   "id": "4264023fcf94ad2c",
   "outputs": [],
   "execution_count": 10
  },
  {
   "metadata": {
    "ExecuteTime": {
     "end_time": "2025-02-08T05:20:57.480843Z",
     "start_time": "2025-02-08T05:20:57.126476Z"
    }
   },
   "cell_type": "code",
   "source": [
    "train_inputs, train_targets = get_dataloader(train_names)\n",
    "val_inputs, val_targets = get_dataloader(val_names)\n",
    "\n",
    "print(f\"Training inputs shape: {train_inputs.shape}\")\n",
    "print(f\"Training targets shape: {train_targets.shape}\")\n",
    "print(f\"Validation inputs shape: {val_inputs.shape}\")\n",
    "print(f\"Validation targets shape: {val_targets.shape}\")"
   ],
   "id": "765ed38f4bbe4cda",
   "outputs": [
    {
     "name": "stdout",
     "output_type": "stream",
     "text": [
      "Training inputs shape: torch.Size([205411, 3])\n",
      "Training targets shape: torch.Size([205411])\n",
      "Validation inputs shape: torch.Size([22735, 3])\n",
      "Validation targets shape: torch.Size([22735])\n"
     ]
    }
   ],
   "execution_count": 11
  },
  {
   "metadata": {},
   "cell_type": "markdown",
   "source": "## Model",
   "id": "3afb919d68490621"
  },
  {
   "metadata": {},
   "cell_type": "markdown",
   "source": [
    "### Task 2: `nn.Module`.\n",
    "\n",
    "PyTorch provides a module called `nn.Module` for defining models. Instead of defining every layer as a separate tensor, we can wrap it all up in a class. This provides better organization and encapsulation.\n",
    "\n",
    "[PyTorch Documentation](https://pytorch.org/docs/stable/generated/torch.nn.Module.html)\n",
    "\n",
    "Implement a class `MLP` that inherits from `nn.Module`.\n",
    "(Hint: You can use `nn.Embedding` and `nn.Linear`)\n"
   ],
   "id": "3b30b401056e9d88"
  },
  {
   "metadata": {
    "ExecuteTime": {
     "end_time": "2025-02-08T05:20:57.484962Z",
     "start_time": "2025-02-08T05:20:57.481926Z"
    }
   },
   "cell_type": "code",
   "source": [
    "class MLP(nn.Module):\n",
    "    # ------------------\n",
    "    # Write your implementation here.\n",
    "    def __init__(self, vocab_size, context_size, d_embed, d_hidden):\n",
    "        super().__init__()\n",
    "        self.embedding = nn.Embedding(vocab_size, d_embed)\n",
    "        self.linear1 = nn.Linear(context_size * d_embed, d_hidden, bias=True)\n",
    "        self.linear2 = nn.Linear(d_hidden, vocab_size, bias=True)\n",
    "        \n",
    "    def forward(self, x):  # x: (batch_size, context_size)\n",
    "        x_embed = self.embedding(x)  # (batch_size, context_size, d_embed)\n",
    "        x_embed = x_embed.view(x_embed.size(0), -1)  # (batch_size, context_size * d_embed)\n",
    "        x = F.relu(self.linear1(x_embed))  # (batch_size, d_hidden)\n",
    "        x = self.linear2(x)  # (batch_size, vocab_size)\n",
    "        return x\n",
    "    # ------------------\n",
    "    # Note: do not include softmax in the forward pass since it is already included in the loss function."
   ],
   "id": "a56fae6095a01da9",
   "outputs": [],
   "execution_count": 12
  },
  {
   "metadata": {
    "ExecuteTime": {
     "end_time": "2025-02-08T05:20:57.809946Z",
     "start_time": "2025-02-08T05:20:57.486084Z"
    }
   },
   "cell_type": "code",
   "source": [
    "# Initialize the model\n",
    "mlp = MLP(MLPConfig.vocab_size, MLPConfig.context_size, MLPConfig.d_embed, MLPConfig.d_hidden)\n",
    "mlp.to(MLPConfig.device) # Move the model to the device\n",
    "print(mlp)\n",
    "print(\"Number of parameters:\", sum(p.numel() for p in mlp.parameters()))\n",
    "\n",
    "# Example forward pass\n",
    "example_input = train_inputs[:2]\n",
    "example_input = example_input.to(MLPConfig.device)  # Move the data to the device\n",
    "print(f\"Input shape: {example_input.shape}\")\n",
    "print(f\"Output shape: {mlp(example_input).shape}\")"
   ],
   "id": "1145b4db700ccaf5",
   "outputs": [
    {
     "name": "stdout",
     "output_type": "stream",
     "text": [
      "MLP(\n",
      "  (embedding): Embedding(27, 16)\n",
      "  (linear1): Linear(in_features=48, out_features=64, bias=True)\n",
      "  (linear2): Linear(in_features=64, out_features=27, bias=True)\n",
      ")\n",
      "Number of parameters: 5323\n",
      "Input shape: torch.Size([2, 3])\n",
      "Output shape: torch.Size([2, 27])\n"
     ]
    }
   ],
   "execution_count": 13
  },
  {
   "metadata": {},
   "cell_type": "markdown",
   "source": "## Training",
   "id": "424042449c0aa770"
  },
  {
   "metadata": {},
   "cell_type": "markdown",
   "source": "### Task 3: Implement the training loop.",
   "id": "97b460fa44e187b3"
  },
  {
   "metadata": {
    "ExecuteTime": {
     "end_time": "2025-02-08T05:20:57.815668Z",
     "start_time": "2025-02-08T05:20:57.811270Z"
    }
   },
   "cell_type": "code",
   "source": [
    "def train(model):\n",
    "    steps = []\n",
    "    train_losses = []\n",
    "    val_losses = []\n",
    "    \n",
    "    # Define the optimizer\n",
    "    # ------------------\n",
    "    # Write your implementation here.\n",
    "    optimizer = torch.optim.SGD(mlp.parameters(), lr=MLPConfig.lr)\n",
    "    # ------------------\n",
    "    \n",
    "    for step in range(MLPConfig.max_steps):\n",
    "        # Training\n",
    "        ## Sample batch\n",
    "        idx = torch.randperm(len(train_inputs))[:MLPConfig.batch_size]\n",
    "        x, y = train_inputs[idx], train_targets[idx]\n",
    "        x, y = x.to(MLPConfig.device), y.to(MLPConfig.device)  # Move the data to the device\n",
    "        \n",
    "        ## Forward pass\n",
    "        # ------------------\n",
    "        # Write your implementation here.\n",
    "        optimizer.zero_grad()\n",
    "        logits = model(x)\n",
    "        loss = F.cross_entropy(logits, y)\n",
    "        \n",
    "        ## Backward pass\n",
    "        loss.backward()\n",
    "        optimizer.step()\n",
    "        # ------------------\n",
    "        \n",
    "        # Validation\n",
    "        if step % MLPConfig.val_interval == 0:\n",
    "            # Validation loss\n",
    "            with torch.no_grad():\n",
    "                val_logits = mlp(val_inputs.to(MLPConfig.device))\n",
    "                val_loss = F.cross_entropy(val_logits, val_targets.to(MLPConfig.device)).item()\n",
    "                val_losses.append(val_loss)\n",
    "            \n",
    "        # Logging\n",
    "        steps.append(step)\n",
    "        train_losses.append(loss.item())\n",
    "        if step % 1000 == 0:\n",
    "            print(f\"Step {step}: Loss = {loss.item()}\")\n",
    "\n",
    "    # Plot the loss\n",
    "    plt.figure()\n",
    "    plt.plot(steps, train_losses, label=\"Train\")\n",
    "    plt.plot(steps[::MLPConfig.val_interval], val_losses, label=\"Validation\")\n",
    "    plt.xlabel(\"Steps\")\n",
    "    plt.ylabel(\"Loss\")\n",
    "    plt.legend()\n",
    "    plt.show()\n",
    "    \n",
    "    # Visualization of the embedding matrix\n",
    "    plt.figure(figsize=(10, 10))\n",
    "    plt.scatter(mlp.embedding.weight[:,0], mlp.embedding.weight[:,1])\n",
    "    for i in range(MLPConfig.vocab_size):\n",
    "        plt.text(mlp.C.weight[i,0], mlp.C.weight[i,1], idx2str[i])\n",
    "    plt.grid('minor')"
   ],
   "id": "34c5737ae1ca96d3",
   "outputs": [],
   "execution_count": 14
  },
  {
   "metadata": {
    "ExecuteTime": {
     "end_time": "2025-02-08T05:21:21.081634Z",
     "start_time": "2025-02-08T05:20:57.816662Z"
    }
   },
   "cell_type": "code",
   "source": "train(mlp)",
   "id": "88b77b52fc6bd791",
   "outputs": [
    {
     "name": "stdout",
     "output_type": "stream",
     "text": [
      "Step 0: Loss = 3.304964542388916\n",
      "Step 1000: Loss = 3.29408597946167\n",
      "Step 2000: Loss = 3.169219732284546\n",
      "Step 3000: Loss = 3.0842254161834717\n",
      "Step 4000: Loss = 3.1652920246124268\n",
      "Step 5000: Loss = 3.0806188583374023\n",
      "Step 6000: Loss = 3.037827968597412\n",
      "Step 7000: Loss = 3.1085705757141113\n",
      "Step 8000: Loss = 2.75146746635437\n",
      "Step 9000: Loss = 2.9651405811309814\n"
     ]
    },
    {
     "data": {
      "text/plain": [
       "<Figure size 640x480 with 1 Axes>"
      ],
      "image/png": "[encoded data removed]"
     },
     "metadata": {},
     "output_type": "display_data"
    },
    {
     "ename": "TypeError",
     "evalue": "can't convert cuda:0 device type tensor to numpy. Use Tensor.cpu() to copy the tensor to host memory first.",
     "output_type": "error",
     "traceback": [
      "\u001B[0;31m---------------------------------------------------------------------------\u001B[0m",
      "\u001B[0;31mTypeError\u001B[0m                                 Traceback (most recent call last)",
      "Cell \u001B[0;32mIn[15], line 1\u001B[0m\n\u001B[0;32m----> 1\u001B[0m \u001B[43mtrain\u001B[49m\u001B[43m(\u001B[49m\u001B[43mmlp\u001B[49m\u001B[43m)\u001B[49m\n",
      "Cell \u001B[0;32mIn[14], line 56\u001B[0m, in \u001B[0;36mtrain\u001B[0;34m(model)\u001B[0m\n\u001B[1;32m     54\u001B[0m \u001B[38;5;66;03m# Visualization of the embedding matrix\u001B[39;00m\n\u001B[1;32m     55\u001B[0m plt\u001B[38;5;241m.\u001B[39mfigure(figsize\u001B[38;5;241m=\u001B[39m(\u001B[38;5;241m10\u001B[39m, \u001B[38;5;241m10\u001B[39m))\n\u001B[0;32m---> 56\u001B[0m \u001B[43mplt\u001B[49m\u001B[38;5;241;43m.\u001B[39;49m\u001B[43mscatter\u001B[49m\u001B[43m(\u001B[49m\u001B[43mmlp\u001B[49m\u001B[38;5;241;43m.\u001B[39;49m\u001B[43membedding\u001B[49m\u001B[38;5;241;43m.\u001B[39;49m\u001B[43mweight\u001B[49m\u001B[43m[\u001B[49m\u001B[43m:\u001B[49m\u001B[43m,\u001B[49m\u001B[38;5;241;43m0\u001B[39;49m\u001B[43m]\u001B[49m\u001B[43m,\u001B[49m\u001B[43m \u001B[49m\u001B[43mmlp\u001B[49m\u001B[38;5;241;43m.\u001B[39;49m\u001B[43membedding\u001B[49m\u001B[38;5;241;43m.\u001B[39;49m\u001B[43mweight\u001B[49m\u001B[43m[\u001B[49m\u001B[43m:\u001B[49m\u001B[43m,\u001B[49m\u001B[38;5;241;43m1\u001B[39;49m\u001B[43m]\u001B[49m\u001B[43m)\u001B[49m\n\u001B[1;32m     57\u001B[0m \u001B[38;5;28;01mfor\u001B[39;00m i \u001B[38;5;129;01min\u001B[39;00m \u001B[38;5;28mrange\u001B[39m(MLPConfig\u001B[38;5;241m.\u001B[39mvocab_size):\n\u001B[1;32m     58\u001B[0m     plt\u001B[38;5;241m.\u001B[39mtext(mlp\u001B[38;5;241m.\u001B[39mC\u001B[38;5;241m.\u001B[39mweight[i,\u001B[38;5;241m0\u001B[39m], mlp\u001B[38;5;241m.\u001B[39mC\u001B[38;5;241m.\u001B[39mweight[i,\u001B[38;5;241m1\u001B[39m], idx2str[i])\n",
      "File \u001B[0;32m~/anaconda3/envs/LLM101/lib/python3.12/site-packages/matplotlib/_api/deprecation.py:453\u001B[0m, in \u001B[0;36mmake_keyword_only.<locals>.wrapper\u001B[0;34m(*args, **kwargs)\u001B[0m\n\u001B[1;32m    447\u001B[0m \u001B[38;5;28;01mif\u001B[39;00m \u001B[38;5;28mlen\u001B[39m(args) \u001B[38;5;241m>\u001B[39m name_idx:\n\u001B[1;32m    448\u001B[0m     warn_deprecated(\n\u001B[1;32m    449\u001B[0m         since, message\u001B[38;5;241m=\u001B[39m\u001B[38;5;124m\"\u001B[39m\u001B[38;5;124mPassing the \u001B[39m\u001B[38;5;132;01m%(name)s\u001B[39;00m\u001B[38;5;124m \u001B[39m\u001B[38;5;132;01m%(obj_type)s\u001B[39;00m\u001B[38;5;124m \u001B[39m\u001B[38;5;124m\"\u001B[39m\n\u001B[1;32m    450\u001B[0m         \u001B[38;5;124m\"\u001B[39m\u001B[38;5;124mpositionally is deprecated since Matplotlib \u001B[39m\u001B[38;5;132;01m%(since)s\u001B[39;00m\u001B[38;5;124m; the \u001B[39m\u001B[38;5;124m\"\u001B[39m\n\u001B[1;32m    451\u001B[0m         \u001B[38;5;124m\"\u001B[39m\u001B[38;5;124mparameter will become keyword-only in \u001B[39m\u001B[38;5;132;01m%(removal)s\u001B[39;00m\u001B[38;5;124m.\u001B[39m\u001B[38;5;124m\"\u001B[39m,\n\u001B[1;32m    452\u001B[0m         name\u001B[38;5;241m=\u001B[39mname, obj_type\u001B[38;5;241m=\u001B[39m\u001B[38;5;124mf\u001B[39m\u001B[38;5;124m\"\u001B[39m\u001B[38;5;124mparameter of \u001B[39m\u001B[38;5;132;01m{\u001B[39;00mfunc\u001B[38;5;241m.\u001B[39m\u001B[38;5;18m__name__\u001B[39m\u001B[38;5;132;01m}\u001B[39;00m\u001B[38;5;124m()\u001B[39m\u001B[38;5;124m\"\u001B[39m)\n\u001B[0;32m--> 453\u001B[0m \u001B[38;5;28;01mreturn\u001B[39;00m \u001B[43mfunc\u001B[49m\u001B[43m(\u001B[49m\u001B[38;5;241;43m*\u001B[39;49m\u001B[43margs\u001B[49m\u001B[43m,\u001B[49m\u001B[43m \u001B[49m\u001B[38;5;241;43m*\u001B[39;49m\u001B[38;5;241;43m*\u001B[39;49m\u001B[43mkwargs\u001B[49m\u001B[43m)\u001B[49m\n",
      "File \u001B[0;32m~/anaconda3/envs/LLM101/lib/python3.12/site-packages/matplotlib/pyplot.py:3939\u001B[0m, in \u001B[0;36mscatter\u001B[0;34m(x, y, s, c, marker, cmap, norm, vmin, vmax, alpha, linewidths, edgecolors, colorizer, plotnonfinite, data, **kwargs)\u001B[0m\n\u001B[1;32m   3919\u001B[0m \u001B[38;5;129m@_copy_docstring_and_deprecators\u001B[39m(Axes\u001B[38;5;241m.\u001B[39mscatter)\n\u001B[1;32m   3920\u001B[0m \u001B[38;5;28;01mdef\u001B[39;00m\u001B[38;5;250m \u001B[39m\u001B[38;5;21mscatter\u001B[39m(\n\u001B[1;32m   3921\u001B[0m     x: \u001B[38;5;28mfloat\u001B[39m \u001B[38;5;241m|\u001B[39m ArrayLike,\n\u001B[0;32m   (...)\u001B[0m\n\u001B[1;32m   3937\u001B[0m     \u001B[38;5;241m*\u001B[39m\u001B[38;5;241m*\u001B[39mkwargs,\n\u001B[1;32m   3938\u001B[0m ) \u001B[38;5;241m-\u001B[39m\u001B[38;5;241m>\u001B[39m PathCollection:\n\u001B[0;32m-> 3939\u001B[0m     __ret \u001B[38;5;241m=\u001B[39m \u001B[43mgca\u001B[49m\u001B[43m(\u001B[49m\u001B[43m)\u001B[49m\u001B[38;5;241;43m.\u001B[39;49m\u001B[43mscatter\u001B[49m\u001B[43m(\u001B[49m\n\u001B[1;32m   3940\u001B[0m \u001B[43m        \u001B[49m\u001B[43mx\u001B[49m\u001B[43m,\u001B[49m\n\u001B[1;32m   3941\u001B[0m \u001B[43m        \u001B[49m\u001B[43my\u001B[49m\u001B[43m,\u001B[49m\n\u001B[1;32m   3942\u001B[0m \u001B[43m        \u001B[49m\u001B[43ms\u001B[49m\u001B[38;5;241;43m=\u001B[39;49m\u001B[43ms\u001B[49m\u001B[43m,\u001B[49m\n\u001B[1;32m   3943\u001B[0m \u001B[43m        \u001B[49m\u001B[43mc\u001B[49m\u001B[38;5;241;43m=\u001B[39;49m\u001B[43mc\u001B[49m\u001B[43m,\u001B[49m\n\u001B[1;32m   3944\u001B[0m \u001B[43m        \u001B[49m\u001B[43mmarker\u001B[49m\u001B[38;5;241;43m=\u001B[39;49m\u001B[43mmarker\u001B[49m\u001B[43m,\u001B[49m\n\u001B[1;32m   3945\u001B[0m \u001B[43m        \u001B[49m\u001B[43mcmap\u001B[49m\u001B[38;5;241;43m=\u001B[39;49m\u001B[43mcmap\u001B[49m\u001B[43m,\u001B[49m\n\u001B[1;32m   3946\u001B[0m \u001B[43m        \u001B[49m\u001B[43mnorm\u001B[49m\u001B[38;5;241;43m=\u001B[39;49m\u001B[43mnorm\u001B[49m\u001B[43m,\u001B[49m\n\u001B[1;32m   3947\u001B[0m \u001B[43m        \u001B[49m\u001B[43mvmin\u001B[49m\u001B[38;5;241;43m=\u001B[39;49m\u001B[43mvmin\u001B[49m\u001B[43m,\u001B[49m\n\u001B[1;32m   3948\u001B[0m \u001B[43m        \u001B[49m\u001B[43mvmax\u001B[49m\u001B[38;5;241;43m=\u001B[39;49m\u001B[43mvmax\u001B[49m\u001B[43m,\u001B[49m\n\u001B[1;32m   3949\u001B[0m \u001B[43m        \u001B[49m\u001B[43malpha\u001B[49m\u001B[38;5;241;43m=\u001B[39;49m\u001B[43malpha\u001B[49m\u001B[43m,\u001B[49m\n\u001B[1;32m   3950\u001B[0m \u001B[43m        \u001B[49m\u001B[43mlinewidths\u001B[49m\u001B[38;5;241;43m=\u001B[39;49m\u001B[43mlinewidths\u001B[49m\u001B[43m,\u001B[49m\n\u001B[1;32m   3951\u001B[0m \u001B[43m        \u001B[49m\u001B[43medgecolors\u001B[49m\u001B[38;5;241;43m=\u001B[39;49m\u001B[43medgecolors\u001B[49m\u001B[43m,\u001B[49m\n\u001B[1;32m   3952\u001B[0m \u001B[43m        \u001B[49m\u001B[43mcolorizer\u001B[49m\u001B[38;5;241;43m=\u001B[39;49m\u001B[43mcolorizer\u001B[49m\u001B[43m,\u001B[49m\n\u001B[1;32m   3953\u001B[0m \u001B[43m        \u001B[49m\u001B[43mplotnonfinite\u001B[49m\u001B[38;5;241;43m=\u001B[39;49m\u001B[43mplotnonfinite\u001B[49m\u001B[43m,\u001B[49m\n\u001B[1;32m   3954\u001B[0m \u001B[43m        \u001B[49m\u001B[38;5;241;43m*\u001B[39;49m\u001B[38;5;241;43m*\u001B[39;49m\u001B[43m(\u001B[49m\u001B[43m{\u001B[49m\u001B[38;5;124;43m\"\u001B[39;49m\u001B[38;5;124;43mdata\u001B[39;49m\u001B[38;5;124;43m\"\u001B[39;49m\u001B[43m:\u001B[49m\u001B[43m \u001B[49m\u001B[43mdata\u001B[49m\u001B[43m}\u001B[49m\u001B[43m \u001B[49m\u001B[38;5;28;43;01mif\u001B[39;49;00m\u001B[43m \u001B[49m\u001B[43mdata\u001B[49m\u001B[43m \u001B[49m\u001B[38;5;129;43;01mis\u001B[39;49;00m\u001B[43m \u001B[49m\u001B[38;5;129;43;01mnot\u001B[39;49;00m\u001B[43m \u001B[49m\u001B[38;5;28;43;01mNone\u001B[39;49;00m\u001B[43m \u001B[49m\u001B[38;5;28;43;01melse\u001B[39;49;00m\u001B[43m \u001B[49m\u001B[43m{\u001B[49m\u001B[43m}\u001B[49m\u001B[43m)\u001B[49m\u001B[43m,\u001B[49m\n\u001B[1;32m   3955\u001B[0m \u001B[43m        \u001B[49m\u001B[38;5;241;43m*\u001B[39;49m\u001B[38;5;241;43m*\u001B[39;49m\u001B[43mkwargs\u001B[49m\u001B[43m,\u001B[49m\n\u001B[1;32m   3956\u001B[0m \u001B[43m    \u001B[49m\u001B[43m)\u001B[49m\n\u001B[1;32m   3957\u001B[0m     sci(__ret)\n\u001B[1;32m   3958\u001B[0m     \u001B[38;5;28;01mreturn\u001B[39;00m __ret\n",
      "File \u001B[0;32m~/anaconda3/envs/LLM101/lib/python3.12/site-packages/matplotlib/_api/deprecation.py:453\u001B[0m, in \u001B[0;36mmake_keyword_only.<locals>.wrapper\u001B[0;34m(*args, **kwargs)\u001B[0m\n\u001B[1;32m    447\u001B[0m \u001B[38;5;28;01mif\u001B[39;00m \u001B[38;5;28mlen\u001B[39m(args) \u001B[38;5;241m>\u001B[39m name_idx:\n\u001B[1;32m    448\u001B[0m     warn_deprecated(\n\u001B[1;32m    449\u001B[0m         since, message\u001B[38;5;241m=\u001B[39m\u001B[38;5;124m\"\u001B[39m\u001B[38;5;124mPassing the \u001B[39m\u001B[38;5;132;01m%(name)s\u001B[39;00m\u001B[38;5;124m \u001B[39m\u001B[38;5;132;01m%(obj_type)s\u001B[39;00m\u001B[38;5;124m \u001B[39m\u001B[38;5;124m\"\u001B[39m\n\u001B[1;32m    450\u001B[0m         \u001B[38;5;124m\"\u001B[39m\u001B[38;5;124mpositionally is deprecated since Matplotlib \u001B[39m\u001B[38;5;132;01m%(since)s\u001B[39;00m\u001B[38;5;124m; the \u001B[39m\u001B[38;5;124m\"\u001B[39m\n\u001B[1;32m    451\u001B[0m         \u001B[38;5;124m\"\u001B[39m\u001B[38;5;124mparameter will become keyword-only in \u001B[39m\u001B[38;5;132;01m%(removal)s\u001B[39;00m\u001B[38;5;124m.\u001B[39m\u001B[38;5;124m\"\u001B[39m,\n\u001B[1;32m    452\u001B[0m         name\u001B[38;5;241m=\u001B[39mname, obj_type\u001B[38;5;241m=\u001B[39m\u001B[38;5;124mf\u001B[39m\u001B[38;5;124m\"\u001B[39m\u001B[38;5;124mparameter of \u001B[39m\u001B[38;5;132;01m{\u001B[39;00mfunc\u001B[38;5;241m.\u001B[39m\u001B[38;5;18m__name__\u001B[39m\u001B[38;5;132;01m}\u001B[39;00m\u001B[38;5;124m()\u001B[39m\u001B[38;5;124m\"\u001B[39m)\n\u001B[0;32m--> 453\u001B[0m \u001B[38;5;28;01mreturn\u001B[39;00m \u001B[43mfunc\u001B[49m\u001B[43m(\u001B[49m\u001B[38;5;241;43m*\u001B[39;49m\u001B[43margs\u001B[49m\u001B[43m,\u001B[49m\u001B[43m \u001B[49m\u001B[38;5;241;43m*\u001B[39;49m\u001B[38;5;241;43m*\u001B[39;49m\u001B[43mkwargs\u001B[49m\u001B[43m)\u001B[49m\n",
      "File \u001B[0;32m~/anaconda3/envs/LLM101/lib/python3.12/site-packages/matplotlib/__init__.py:1521\u001B[0m, in \u001B[0;36m_preprocess_data.<locals>.inner\u001B[0;34m(ax, data, *args, **kwargs)\u001B[0m\n\u001B[1;32m   1518\u001B[0m \u001B[38;5;129m@functools\u001B[39m\u001B[38;5;241m.\u001B[39mwraps(func)\n\u001B[1;32m   1519\u001B[0m \u001B[38;5;28;01mdef\u001B[39;00m\u001B[38;5;250m \u001B[39m\u001B[38;5;21minner\u001B[39m(ax, \u001B[38;5;241m*\u001B[39margs, data\u001B[38;5;241m=\u001B[39m\u001B[38;5;28;01mNone\u001B[39;00m, \u001B[38;5;241m*\u001B[39m\u001B[38;5;241m*\u001B[39mkwargs):\n\u001B[1;32m   1520\u001B[0m     \u001B[38;5;28;01mif\u001B[39;00m data \u001B[38;5;129;01mis\u001B[39;00m \u001B[38;5;28;01mNone\u001B[39;00m:\n\u001B[0;32m-> 1521\u001B[0m         \u001B[38;5;28;01mreturn\u001B[39;00m \u001B[43mfunc\u001B[49m\u001B[43m(\u001B[49m\n\u001B[1;32m   1522\u001B[0m \u001B[43m            \u001B[49m\u001B[43max\u001B[49m\u001B[43m,\u001B[49m\n\u001B[1;32m   1523\u001B[0m \u001B[43m            \u001B[49m\u001B[38;5;241;43m*\u001B[39;49m\u001B[38;5;28;43mmap\u001B[39;49m\u001B[43m(\u001B[49m\u001B[43mcbook\u001B[49m\u001B[38;5;241;43m.\u001B[39;49m\u001B[43msanitize_sequence\u001B[49m\u001B[43m,\u001B[49m\u001B[43m \u001B[49m\u001B[43margs\u001B[49m\u001B[43m)\u001B[49m\u001B[43m,\u001B[49m\n\u001B[1;32m   1524\u001B[0m \u001B[43m            \u001B[49m\u001B[38;5;241;43m*\u001B[39;49m\u001B[38;5;241;43m*\u001B[39;49m\u001B[43m{\u001B[49m\u001B[43mk\u001B[49m\u001B[43m:\u001B[49m\u001B[43m \u001B[49m\u001B[43mcbook\u001B[49m\u001B[38;5;241;43m.\u001B[39;49m\u001B[43msanitize_sequence\u001B[49m\u001B[43m(\u001B[49m\u001B[43mv\u001B[49m\u001B[43m)\u001B[49m\u001B[43m \u001B[49m\u001B[38;5;28;43;01mfor\u001B[39;49;00m\u001B[43m \u001B[49m\u001B[43mk\u001B[49m\u001B[43m,\u001B[49m\u001B[43m \u001B[49m\u001B[43mv\u001B[49m\u001B[43m \u001B[49m\u001B[38;5;129;43;01min\u001B[39;49;00m\u001B[43m \u001B[49m\u001B[43mkwargs\u001B[49m\u001B[38;5;241;43m.\u001B[39;49m\u001B[43mitems\u001B[49m\u001B[43m(\u001B[49m\u001B[43m)\u001B[49m\u001B[43m}\u001B[49m\u001B[43m)\u001B[49m\n\u001B[1;32m   1526\u001B[0m     bound \u001B[38;5;241m=\u001B[39m new_sig\u001B[38;5;241m.\u001B[39mbind(ax, \u001B[38;5;241m*\u001B[39margs, \u001B[38;5;241m*\u001B[39m\u001B[38;5;241m*\u001B[39mkwargs)\n\u001B[1;32m   1527\u001B[0m     auto_label \u001B[38;5;241m=\u001B[39m (bound\u001B[38;5;241m.\u001B[39marguments\u001B[38;5;241m.\u001B[39mget(label_namer)\n\u001B[1;32m   1528\u001B[0m                   \u001B[38;5;129;01mor\u001B[39;00m bound\u001B[38;5;241m.\u001B[39mkwargs\u001B[38;5;241m.\u001B[39mget(label_namer))\n",
      "File \u001B[0;32m~/anaconda3/envs/LLM101/lib/python3.12/site-packages/matplotlib/axes/_axes.py:4894\u001B[0m, in \u001B[0;36mAxes.scatter\u001B[0;34m(self, x, y, s, c, marker, cmap, norm, vmin, vmax, alpha, linewidths, edgecolors, colorizer, plotnonfinite, **kwargs)\u001B[0m\n\u001B[1;32m   4892\u001B[0m edgecolors \u001B[38;5;241m=\u001B[39m kwargs\u001B[38;5;241m.\u001B[39mpop(\u001B[38;5;124m'\u001B[39m\u001B[38;5;124medgecolor\u001B[39m\u001B[38;5;124m'\u001B[39m, \u001B[38;5;28;01mNone\u001B[39;00m)\n\u001B[1;32m   4893\u001B[0m \u001B[38;5;66;03m# Process **kwargs to handle aliases, conflicts with explicit kwargs:\u001B[39;00m\n\u001B[0;32m-> 4894\u001B[0m x, y \u001B[38;5;241m=\u001B[39m \u001B[38;5;28;43mself\u001B[39;49m\u001B[38;5;241;43m.\u001B[39;49m\u001B[43m_process_unit_info\u001B[49m\u001B[43m(\u001B[49m\u001B[43m[\u001B[49m\u001B[43m(\u001B[49m\u001B[38;5;124;43m\"\u001B[39;49m\u001B[38;5;124;43mx\u001B[39;49m\u001B[38;5;124;43m\"\u001B[39;49m\u001B[43m,\u001B[49m\u001B[43m \u001B[49m\u001B[43mx\u001B[49m\u001B[43m)\u001B[49m\u001B[43m,\u001B[49m\u001B[43m \u001B[49m\u001B[43m(\u001B[49m\u001B[38;5;124;43m\"\u001B[39;49m\u001B[38;5;124;43my\u001B[39;49m\u001B[38;5;124;43m\"\u001B[39;49m\u001B[43m,\u001B[49m\u001B[43m \u001B[49m\u001B[43my\u001B[49m\u001B[43m)\u001B[49m\u001B[43m]\u001B[49m\u001B[43m,\u001B[49m\u001B[43m \u001B[49m\u001B[43mkwargs\u001B[49m\u001B[43m)\u001B[49m\n\u001B[1;32m   4895\u001B[0m \u001B[38;5;66;03m# np.ma.ravel yields an ndarray, not a masked array,\u001B[39;00m\n\u001B[1;32m   4896\u001B[0m \u001B[38;5;66;03m# unless its argument is a masked array.\u001B[39;00m\n\u001B[1;32m   4897\u001B[0m x \u001B[38;5;241m=\u001B[39m np\u001B[38;5;241m.\u001B[39mma\u001B[38;5;241m.\u001B[39mravel(x)\n",
      "File \u001B[0;32m~/anaconda3/envs/LLM101/lib/python3.12/site-packages/matplotlib/axes/_base.py:2617\u001B[0m, in \u001B[0;36m_AxesBase._process_unit_info\u001B[0;34m(self, datasets, kwargs, convert)\u001B[0m\n\u001B[1;32m   2615\u001B[0m     \u001B[38;5;66;03m# Update from data if axis is already set but no unit is set yet.\u001B[39;00m\n\u001B[1;32m   2616\u001B[0m     \u001B[38;5;28;01mif\u001B[39;00m axis \u001B[38;5;129;01mis\u001B[39;00m \u001B[38;5;129;01mnot\u001B[39;00m \u001B[38;5;28;01mNone\u001B[39;00m \u001B[38;5;129;01mand\u001B[39;00m data \u001B[38;5;129;01mis\u001B[39;00m \u001B[38;5;129;01mnot\u001B[39;00m \u001B[38;5;28;01mNone\u001B[39;00m \u001B[38;5;129;01mand\u001B[39;00m \u001B[38;5;129;01mnot\u001B[39;00m axis\u001B[38;5;241m.\u001B[39mhave_units():\n\u001B[0;32m-> 2617\u001B[0m         \u001B[43maxis\u001B[49m\u001B[38;5;241;43m.\u001B[39;49m\u001B[43mupdate_units\u001B[49m\u001B[43m(\u001B[49m\u001B[43mdata\u001B[49m\u001B[43m)\u001B[49m\n\u001B[1;32m   2618\u001B[0m \u001B[38;5;28;01mfor\u001B[39;00m axis_name, axis \u001B[38;5;129;01min\u001B[39;00m axis_map\u001B[38;5;241m.\u001B[39mitems():\n\u001B[1;32m   2619\u001B[0m     \u001B[38;5;66;03m# Return if no axis is set.\u001B[39;00m\n\u001B[1;32m   2620\u001B[0m     \u001B[38;5;28;01mif\u001B[39;00m axis \u001B[38;5;129;01mis\u001B[39;00m \u001B[38;5;28;01mNone\u001B[39;00m:\n",
      "File \u001B[0;32m~/anaconda3/envs/LLM101/lib/python3.12/site-packages/matplotlib/axis.py:1756\u001B[0m, in \u001B[0;36mAxis.update_units\u001B[0;34m(self, data)\u001B[0m\n\u001B[1;32m   1750\u001B[0m \u001B[38;5;250m\u001B[39m\u001B[38;5;124;03m\"\"\"\u001B[39;00m\n\u001B[1;32m   1751\u001B[0m \u001B[38;5;124;03mIntrospect *data* for units converter and update the\u001B[39;00m\n\u001B[1;32m   1752\u001B[0m \u001B[38;5;124;03m``axis.get_converter`` instance if necessary. Return *True*\u001B[39;00m\n\u001B[1;32m   1753\u001B[0m \u001B[38;5;124;03mif *data* is registered for unit conversion.\u001B[39;00m\n\u001B[1;32m   1754\u001B[0m \u001B[38;5;124;03m\"\"\"\u001B[39;00m\n\u001B[1;32m   1755\u001B[0m \u001B[38;5;28;01mif\u001B[39;00m \u001B[38;5;129;01mnot\u001B[39;00m \u001B[38;5;28mself\u001B[39m\u001B[38;5;241m.\u001B[39m_converter_is_explicit:\n\u001B[0;32m-> 1756\u001B[0m     converter \u001B[38;5;241m=\u001B[39m \u001B[43mmunits\u001B[49m\u001B[38;5;241;43m.\u001B[39;49m\u001B[43mregistry\u001B[49m\u001B[38;5;241;43m.\u001B[39;49m\u001B[43mget_converter\u001B[49m\u001B[43m(\u001B[49m\u001B[43mdata\u001B[49m\u001B[43m)\u001B[49m\n\u001B[1;32m   1757\u001B[0m \u001B[38;5;28;01melse\u001B[39;00m:\n\u001B[1;32m   1758\u001B[0m     converter \u001B[38;5;241m=\u001B[39m \u001B[38;5;28mself\u001B[39m\u001B[38;5;241m.\u001B[39m_converter\n",
      "File \u001B[0;32m~/anaconda3/envs/LLM101/lib/python3.12/site-packages/matplotlib/units.py:167\u001B[0m, in \u001B[0;36mRegistry.get_converter\u001B[0;34m(self, x)\u001B[0m\n\u001B[1;32m    165\u001B[0m \u001B[38;5;250m\u001B[39m\u001B[38;5;124;03m\"\"\"Get the converter interface instance for *x*, or None.\"\"\"\u001B[39;00m\n\u001B[1;32m    166\u001B[0m \u001B[38;5;66;03m# Unpack in case of e.g. Pandas or xarray object\u001B[39;00m\n\u001B[0;32m--> 167\u001B[0m x \u001B[38;5;241m=\u001B[39m \u001B[43mcbook\u001B[49m\u001B[38;5;241;43m.\u001B[39;49m\u001B[43m_unpack_to_numpy\u001B[49m\u001B[43m(\u001B[49m\u001B[43mx\u001B[49m\u001B[43m)\u001B[49m\n\u001B[1;32m    169\u001B[0m \u001B[38;5;28;01mif\u001B[39;00m \u001B[38;5;28misinstance\u001B[39m(x, np\u001B[38;5;241m.\u001B[39mndarray):\n\u001B[1;32m    170\u001B[0m     \u001B[38;5;66;03m# In case x in a masked array, access the underlying data (only its\u001B[39;00m\n\u001B[1;32m    171\u001B[0m     \u001B[38;5;66;03m# type matters).  If x is a regular ndarray, getdata() just returns\u001B[39;00m\n\u001B[1;32m    172\u001B[0m     \u001B[38;5;66;03m# the array itself.\u001B[39;00m\n\u001B[1;32m    173\u001B[0m     x \u001B[38;5;241m=\u001B[39m np\u001B[38;5;241m.\u001B[39mma\u001B[38;5;241m.\u001B[39mgetdata(x)\u001B[38;5;241m.\u001B[39mravel()\n",
      "File \u001B[0;32m~/anaconda3/envs/LLM101/lib/python3.12/site-packages/matplotlib/cbook.py:2361\u001B[0m, in \u001B[0;36m_unpack_to_numpy\u001B[0;34m(x)\u001B[0m\n\u001B[1;32m   2355\u001B[0m         \u001B[38;5;28;01mreturn\u001B[39;00m xtmp\n\u001B[1;32m   2356\u001B[0m \u001B[38;5;28;01mif\u001B[39;00m _is_torch_array(x) \u001B[38;5;129;01mor\u001B[39;00m _is_jax_array(x) \u001B[38;5;129;01mor\u001B[39;00m _is_tensorflow_array(x):\n\u001B[1;32m   2357\u001B[0m     \u001B[38;5;66;03m# using np.asarray() instead of explicitly __array__(), as the latter is\u001B[39;00m\n\u001B[1;32m   2358\u001B[0m     \u001B[38;5;66;03m# only _one_ of many methods, and it's the last resort, see also\u001B[39;00m\n\u001B[1;32m   2359\u001B[0m     \u001B[38;5;66;03m# https://numpy.org/devdocs/user/basics.interoperability.html#using-arbitrary-objects-in-numpy\u001B[39;00m\n\u001B[1;32m   2360\u001B[0m     \u001B[38;5;66;03m# therefore, let arrays do better if they can\u001B[39;00m\n\u001B[0;32m-> 2361\u001B[0m     xtmp \u001B[38;5;241m=\u001B[39m \u001B[43mnp\u001B[49m\u001B[38;5;241;43m.\u001B[39;49m\u001B[43masarray\u001B[49m\u001B[43m(\u001B[49m\u001B[43mx\u001B[49m\u001B[43m)\u001B[49m\n\u001B[1;32m   2363\u001B[0m     \u001B[38;5;66;03m# In case np.asarray method does not return a numpy array in future\u001B[39;00m\n\u001B[1;32m   2364\u001B[0m     \u001B[38;5;28;01mif\u001B[39;00m \u001B[38;5;28misinstance\u001B[39m(xtmp, np\u001B[38;5;241m.\u001B[39mndarray):\n",
      "File \u001B[0;32m~/anaconda3/envs/LLM101/lib/python3.12/site-packages/torch/_tensor.py:1194\u001B[0m, in \u001B[0;36mTensor.__array__\u001B[0;34m(self, dtype)\u001B[0m\n\u001B[1;32m   1192\u001B[0m     \u001B[38;5;28;01mreturn\u001B[39;00m handle_torch_function(Tensor\u001B[38;5;241m.\u001B[39m__array__, (\u001B[38;5;28mself\u001B[39m,), \u001B[38;5;28mself\u001B[39m, dtype\u001B[38;5;241m=\u001B[39mdtype)\n\u001B[1;32m   1193\u001B[0m \u001B[38;5;28;01mif\u001B[39;00m dtype \u001B[38;5;129;01mis\u001B[39;00m \u001B[38;5;28;01mNone\u001B[39;00m:\n\u001B[0;32m-> 1194\u001B[0m     \u001B[38;5;28;01mreturn\u001B[39;00m \u001B[38;5;28;43mself\u001B[39;49m\u001B[38;5;241;43m.\u001B[39;49m\u001B[43mnumpy\u001B[49m\u001B[43m(\u001B[49m\u001B[43m)\u001B[49m\n\u001B[1;32m   1195\u001B[0m \u001B[38;5;28;01melse\u001B[39;00m:\n\u001B[1;32m   1196\u001B[0m     \u001B[38;5;28;01mreturn\u001B[39;00m \u001B[38;5;28mself\u001B[39m\u001B[38;5;241m.\u001B[39mnumpy()\u001B[38;5;241m.\u001B[39mastype(dtype, copy\u001B[38;5;241m=\u001B[39m\u001B[38;5;28;01mFalse\u001B[39;00m)\n",
      "\u001B[0;31mTypeError\u001B[0m: can't convert cuda:0 device type tensor to numpy. Use Tensor.cpu() to copy the tensor to host memory first."
     ]
    },
    {
     "data": {
      "text/plain": [
       "<Figure size 1000x1000 with 1 Axes>"
      ],
      "image/png": "[encoded data removed]"
     },
     "metadata": {},
     "output_type": "display_data"
    }
   ],
   "execution_count": 15
  },
  {
   "metadata": {},
   "cell_type": "markdown",
   "source": "## Inference",
   "id": "5d2880695e69f27e"
  },
  {
   "metadata": {
    "ExecuteTime": {
     "end_time": "2025-02-08T05:21:21.082874Z",
     "start_time": "2025-02-08T05:21:21.082784Z"
    }
   },
   "cell_type": "code",
   "source": [
    "def generate_name():\n",
    "    new_name = []\n",
    "    context = [0] * MLPConfig.context_size\n",
    "    \n",
    "    while True:\n",
    "        # forward pass\n",
    "        x = torch.tensor(context).unsqueeze(0).to(MLPConfig.device)\n",
    "        logits = mlp(x)\n",
    "        \n",
    "        # sample\n",
    "        probs = F.softmax(logits, dim=-1)\n",
    "        idx = torch.multinomial(probs, num_samples=1).item()\n",
    "        \n",
    "        # update context\n",
    "        new_name.append(idx2str[idx])\n",
    "        context = context[1:] + [idx]\n",
    "        \n",
    "        # break if \".\"\n",
    "        if idx == 0:\n",
    "            break\n",
    "        \n",
    "    return \"\".join(new_name)"
   ],
   "id": "254cfa9b9167cecd",
   "outputs": [],
   "execution_count": null
  },
  {
   "metadata": {
    "ExecuteTime": {
     "end_time": "2025-02-08T05:21:21.084008Z",
     "start_time": "2025-02-08T05:21:21.083923Z"
    }
   },
   "cell_type": "code",
   "source": [
    "for _ in range(5):\n",
    "    print(generate_name())"
   ],
   "id": "18536bfec99f36ba",
   "outputs": [],
   "execution_count": null
  },
  {
   "metadata": {},
   "cell_type": "markdown",
   "source": [
    "## Extra Credit\n",
    "\n",
    "Change the model configuration and hyperparameters to achieve the following:\n",
    "\n",
    "Get the lowest **validation loss** as possible.\n",
    "\n",
    "Rules:\n",
    "- Do not change the random seed."
   ],
   "id": "5672f33432bc5671"
  }
 ],
 "metadata": {
  "kernelspec": {
   "display_name": "Python 3",
   "language": "python",
   "name": "python3"
  },
  "language_info": {
   "codemirror_mode": {
    "name": "ipython",
    "version": 2
   },
   "file_extension": ".py",
   "mimetype": "text/x-python",
   "name": "python",
   "nbconvert_exporter": "python",
   "pygments_lexer": "ipython2",
   "version": "2.7.6"
  }
 },
 "nbformat": 4,
 "nbformat_minor": 5
}
