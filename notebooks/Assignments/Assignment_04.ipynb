{
 "cells": [
  {
   "metadata": {},
   "cell_type": "markdown",
   "source": [
    "# Assignment 4\n",
    "\n",
    "In this assignment, you will refactor the entire code to PyTorch, making it more modular and efficient."
   ],
   "id": "bbbb1cc93fe3e1c"
  },
  {
   "metadata": {},
   "cell_type": "markdown",
   "source": "## Importing Libraries",
   "id": "fe1e201da9092e12"
  },
  {
   "metadata": {
    "ExecuteTime": {
     "end_time": "2025-02-10T06:00:42.531370Z",
     "start_time": "2025-02-10T06:00:38.060578Z"
    }
   },
   "cell_type": "code",
   "source": [
    "import os\n",
    "from matplotlib import pyplot as plt\n",
    "from dataclasses import dataclass\n",
    "from typing import List, Tuple\n",
    "from sklearn.model_selection import train_test_split\n",
    "from tqdm import tqdm\n",
    "import torch\n",
    "from torch import nn\n",
    "from torch.nn import functional as F\n",
    "from torch.utils.data import Dataset, DataLoader\n",
    "import wandb\n",
    "from src.utils import load_text, set_seed, configure_device"
   ],
   "id": "b9bef55bdd3e6f12",
   "outputs": [],
   "execution_count": 1
  },
  {
   "metadata": {},
   "cell_type": "markdown",
   "source": "## Configuration",
   "id": "366f4a5e31b9d092"
  },
  {
   "metadata": {
    "ExecuteTime": {
     "end_time": "2025-02-10T06:00:42.547159Z",
     "start_time": "2025-02-10T06:00:42.540486Z"
    }
   },
   "cell_type": "code",
   "source": [
    "@dataclass\n",
    "class MLPConfig:\n",
    "    root_dir: str = os.getcwd() + \"/../../\"\n",
    "    dataset_path: str = \"data/names.txt\"\n",
    "    device: torch.device = torch.device('cpu')  # Automatic device configuration\n",
    "\n",
    "    # Tokenizer\n",
    "    vocab_size: int = 0  # Set later\n",
    "    \n",
    "    # Model\n",
    "    context_size: int = 3\n",
    "    d_embed: int = 16\n",
    "    d_hidden: int = 64\n",
    "    \n",
    "    # Training\n",
    "    val_size: float = 0.1\n",
    "    batch_size: int = 32\n",
    "    max_steps: int = 6000  # Max of max_steps = 6421\n",
    "    lr: float = 0.01\n",
    "    val_interval: int = 100\n",
    "    log_interval: int = 100\n",
    "\n",
    "    seed: int = 101"
   ],
   "id": "64a041bfe9980131",
   "outputs": [],
   "execution_count": 2
  },
  {
   "metadata": {},
   "cell_type": "markdown",
   "source": "## Reproducibility",
   "id": "b37b1da5eb884f97"
  },
  {
   "metadata": {
    "ExecuteTime": {
     "end_time": "2025-02-10T06:00:42.681646Z",
     "start_time": "2025-02-10T06:00:42.673172Z"
    }
   },
   "cell_type": "code",
   "source": "set_seed(MLPConfig.seed)",
   "id": "5aac9ba3a2c94cdd",
   "outputs": [
    {
     "name": "stdout",
     "output_type": "stream",
     "text": [
      "Random seed set to 101\n"
     ]
    }
   ],
   "execution_count": 3
  },
  {
   "metadata": {},
   "cell_type": "markdown",
   "source": "## Device",
   "id": "8046aa4cb3a6469f"
  },
  {
   "metadata": {
    "ExecuteTime": {
     "end_time": "2025-02-10T06:00:42.732771Z",
     "start_time": "2025-02-10T06:00:42.706478Z"
    }
   },
   "cell_type": "code",
   "source": "MLPConfig.device = configure_device()",
   "id": "ec9748db8884490e",
   "outputs": [
    {
     "name": "stdout",
     "output_type": "stream",
     "text": [
      "Running on mps\n"
     ]
    }
   ],
   "execution_count": 4
  },
  {
   "metadata": {},
   "cell_type": "markdown",
   "source": "## Tokenizer",
   "id": "db4d6ad274a6fbbb"
  },
  {
   "metadata": {
    "ExecuteTime": {
     "end_time": "2025-02-10T06:00:42.790015Z",
     "start_time": "2025-02-10T06:00:42.784276Z"
    }
   },
   "cell_type": "code",
   "source": [
    "chars = [chr(i) for i in range(97, 123)]  # all alphabet characters\n",
    "chars.insert(0, \".\")  # Add special token\n",
    "MLPConfig.vocab_size = len(chars)\n",
    "str2idx = {char: idx for idx, char in enumerate(chars)}\n",
    "idx2str = {idx: char for char, idx in str2idx.items()}"
   ],
   "id": "e9dbce085edefdc4",
   "outputs": [],
   "execution_count": 5
  },
  {
   "metadata": {},
   "cell_type": "markdown",
   "source": "## Dataset",
   "id": "576b370aea4c1555"
  },
  {
   "metadata": {
    "ExecuteTime": {
     "end_time": "2025-02-10T06:00:42.867860Z",
     "start_time": "2025-02-10T06:00:42.858916Z"
    }
   },
   "cell_type": "code",
   "source": "names = load_text(MLPConfig.root_dir + MLPConfig.dataset_path).splitlines()",
   "id": "8cc4922d3b541a53",
   "outputs": [
    {
     "name": "stdout",
     "output_type": "stream",
     "text": [
      "Loaded text data from /Users/pathfinder/Documents/GitHub/LLM101/notebooks/Assignments/../../data/names.txt (length: 228145 characters).\n"
     ]
    }
   ],
   "execution_count": 6
  },
  {
   "metadata": {},
   "cell_type": "markdown",
   "source": "## Preprocessing",
   "id": "31bf63ac06c3b24c"
  },
  {
   "metadata": {
    "ExecuteTime": {
     "end_time": "2025-02-10T06:00:42.942702Z",
     "start_time": "2025-02-10T06:00:42.929095Z"
    }
   },
   "cell_type": "code",
   "source": [
    "# Train-Val Split\n",
    "train_names, val_names = train_test_split(names, test_size=MLPConfig.val_size, random_state=MLPConfig.seed)"
   ],
   "id": "f91738376b5a8431",
   "outputs": [],
   "execution_count": 7
  },
  {
   "metadata": {
    "ExecuteTime": {
     "end_time": "2025-02-10T06:00:42.988621Z",
     "start_time": "2025-02-10T06:00:42.982749Z"
    }
   },
   "cell_type": "code",
   "source": [
    "print(f\"Train Size: {len(train_names)}\")\n",
    "print(f\"Validation Size: {len(val_names)}\")\n",
    "print(f\"Train Example: {train_names[0]}\")\n",
    "print(f\"Validation Example: {val_names[0]}\")"
   ],
   "id": "9f27ec069c3321f8",
   "outputs": [
    {
     "name": "stdout",
     "output_type": "stream",
     "text": [
      "Train Size: 28829\n",
      "Validation Size: 3204\n",
      "Train Example: keyler\n",
      "Validation Example: jessamae\n"
     ]
    }
   ],
   "execution_count": 8
  },
  {
   "metadata": {
    "ExecuteTime": {
     "end_time": "2025-02-10T06:00:43.032566Z",
     "start_time": "2025-02-10T06:00:43.028218Z"
    }
   },
   "cell_type": "code",
   "source": [
    "def prepare_dataset(_names):\n",
    "    _inputs, _targets = [], []\n",
    "\n",
    "    for name in _names:\n",
    "        context = [0] * MLPConfig.context_size\n",
    "\n",
    "        for char in name + \".\":\n",
    "            idx = str2idx[char]\n",
    "            _inputs.append(context)\n",
    "            _targets.append(idx)\n",
    "            context = context[1:] + [idx]  # Shift the context by 1 character\n",
    "\n",
    "    _inputs = torch.tensor(_inputs)\n",
    "    _targets = torch.tensor(_targets)\n",
    "\n",
    "    return _inputs, _targets"
   ],
   "id": "44931589173ddd84",
   "outputs": [],
   "execution_count": 9
  },
  {
   "metadata": {},
   "cell_type": "markdown",
   "source": [
    "### Task 1: PyTorch DataLoader\n",
    "\n",
    "We have been using plain Python lists to and then converted them to PyTorch tensors. This is not efficient since it is loading the entire dataset into memory.\n",
    "\n",
    "PyTorch provides `Dataset` and `DataLoader` class to load the data in memory on the fly. [PyTorch Documentation](https://pytorch.org/tutorials/beginner/basics/data_tutorial.html)\n",
    "\n",
    "Refactor the `prepare_dataset` function into a PyTorch `Dataset` class and use the `DataLoader` to efficiently load the data in batches."
   ],
   "id": "27772dc3e0015a64"
  },
  {
   "metadata": {
    "ExecuteTime": {
     "end_time": "2025-02-10T06:00:43.074930Z",
     "start_time": "2025-02-10T06:00:43.065950Z"
    }
   },
   "cell_type": "code",
   "source": [
    "# Dataset\n",
    "class NamesDataset(Dataset):\n",
    "    ################################################################################\n",
    "    # TODO:                                                                        #\n",
    "    # PyTorch Dataset requires 3 methods:                                          #\n",
    "    # __init__ method to initialize the dataset                                    #\n",
    "    # __len__ method to return the size of the dataset                             #\n",
    "    # __getitem__ method to return a sample from the dataset                       #\n",
    "    ################################################################################\n",
    "    # *****START OF YOUR CODE (DO NOT DELETE/MODIFY THIS LINE)*****\n",
    "    def __init__(self, _names: List[str], context_size: int):\n",
    "        \"\"\"\n",
    "        Initialize the dataset\n",
    "\n",
    "        Args:\n",
    "            _names (List[str]): List of names\n",
    "            context_size (int): Context size of the model\n",
    "        \"\"\"\n",
    "        self.inputs, self.targets = [], []\n",
    "\n",
    "        for name in _names:\n",
    "            context = [0] * context_size\n",
    "\n",
    "            for char in name + \".\":\n",
    "                idx = str2idx[char]\n",
    "                self.inputs.append(context)\n",
    "                self.targets.append(idx)\n",
    "                context = context[1:] + [idx]  # Shift the context by 1 character\n",
    "        \n",
    "    def __len__(self) -> int:\n",
    "        \"\"\"\n",
    "        Return the number of samples in the dataset\n",
    "\n",
    "        Returns:\n",
    "            (int): Number of samples\n",
    "        \"\"\"\n",
    "        return len(self.inputs)\n",
    "    \n",
    "    def __getitem__(self, idx: int) -> Tuple[torch.Tensor, torch.Tensor]:\n",
    "        \"\"\"\n",
    "        Return a sample from the dataset\n",
    "\n",
    "        Args:\n",
    "            idx (int): Index of the sample\n",
    "\n",
    "        Returns:\n",
    "            Tuple[torch.Tensor, torch.Tensor]: Input and target tensors\n",
    "        \"\"\"\n",
    "        input_ids = torch.tensor(self.inputs[idx])\n",
    "        target_id = torch.tensor(self.targets[idx])\n",
    "        return input_ids, target_id\n",
    "    # *****END OF YOUR CODE (DO NOT DELETE/MODIFY THIS LINE)*****"
   ],
   "id": "b550956d3a003a7e",
   "outputs": [],
   "execution_count": 10
  },
  {
   "metadata": {
    "ExecuteTime": {
     "end_time": "2025-02-10T06:00:43.565809Z",
     "start_time": "2025-02-10T06:00:43.107627Z"
    }
   },
   "cell_type": "code",
   "source": [
    "# Initialize the dataset\n",
    "train_dataset = NamesDataset(train_names, MLPConfig.context_size)\n",
    "val_dataset = NamesDataset(val_names, MLPConfig.context_size)"
   ],
   "id": "352be875ddc0fa7a",
   "outputs": [],
   "execution_count": 11
  },
  {
   "metadata": {
    "ExecuteTime": {
     "end_time": "2025-02-10T06:00:43.751105Z",
     "start_time": "2025-02-10T06:00:43.736515Z"
    }
   },
   "cell_type": "code",
   "source": [
    "print(f\"Number of Train Samples: {len(train_dataset)}\")\n",
    "print(f\"Number of Validation Samples: {len(val_dataset)}\")\n",
    "print(f\"First train (input, target): {train_dataset[0]}\")\n",
    "print(f\"First validation (input, target): {val_dataset[0]}\")\n",
    "print(f\"Second train (input, target): {train_dataset[1]}\")\n",
    "print(f\"Second validation (input, target): {val_dataset[1]}\")"
   ],
   "id": "27812caaf7fd7ea6",
   "outputs": [
    {
     "name": "stdout",
     "output_type": "stream",
     "text": [
      "Number of Train Samples: 205456\n",
      "Number of Validation Samples: 22690\n",
      "First train (input, target): (tensor([0, 0, 0]), tensor(11))\n",
      "First validation (input, target): (tensor([0, 0, 0]), tensor(10))\n",
      "Second train (input, target): (tensor([ 0,  0, 11]), tensor(5))\n",
      "Second validation (input, target): (tensor([ 0,  0, 10]), tensor(5))\n"
     ]
    }
   ],
   "execution_count": 12
  },
  {
   "metadata": {
    "ExecuteTime": {
     "end_time": "2025-02-10T06:00:43.790578Z",
     "start_time": "2025-02-10T06:00:43.787915Z"
    }
   },
   "cell_type": "code",
   "source": [
    "# DataLoader\n",
    "################################################################################\n",
    "# TODO:                                                                        #\n",
    "# Initialize the DataLoader for the training and validation datasets.          #\n",
    "################################################################################\n",
    "# *****START OF YOUR CODE (DO NOT DELETE/MODIFY THIS LINE)*****\n",
    "train_loader = DataLoader(train_dataset, batch_size=MLPConfig.batch_size, shuffle=True)\n",
    "val_loader = DataLoader(val_dataset, batch_size=MLPConfig.batch_size, shuffle=False)\n",
    "# *****END OF YOUR CODE (DO NOT DELETE/MODIFY THIS LINE)*****"
   ],
   "id": "a9e04718940ac55d",
   "outputs": [],
   "execution_count": 13
  },
  {
   "metadata": {
    "ExecuteTime": {
     "end_time": "2025-02-10T06:00:43.833676Z",
     "start_time": "2025-02-10T06:00:43.813972Z"
    }
   },
   "cell_type": "code",
   "source": [
    "# Example batch\n",
    "_x, _y = next(iter(train_loader))\n",
    "print(f\"Input Shape: {_x.shape}\")   # (batch_size, context_size)\n",
    "print(f\"Target Shape: {_y.shape}\")  # (batch_size)\n",
    "print(f\"Input: {_x[0]}\")\n",
    "print(f\"Target: {_y[0]}\")"
   ],
   "id": "13763508cb10bf45",
   "outputs": [
    {
     "name": "stdout",
     "output_type": "stream",
     "text": [
      "Input Shape: torch.Size([32, 3])\n",
      "Target Shape: torch.Size([32])\n",
      "Input: tensor([14,  1, 18])\n",
      "Target: 15\n"
     ]
    }
   ],
   "execution_count": 14
  },
  {
   "metadata": {},
   "cell_type": "markdown",
   "source": "## Model",
   "id": "77b0001776a8667d"
  },
  {
   "metadata": {},
   "cell_type": "markdown",
   "source": [
    "### Task 2: MLP Model\n",
    "\n",
    "Initialize the weights of the model using the `Kaiming` initialization.\n",
    "\n",
    "What are other activation functions that can be used instead of `tanh`? What are the advantages and disadvantages? Use different activation functions and compare the results.\n"
   ],
   "id": "3035259e2763490c"
  },
  {
   "metadata": {
    "ExecuteTime": {
     "end_time": "2025-02-10T06:00:43.860656Z",
     "start_time": "2025-02-10T06:00:43.857226Z"
    }
   },
   "cell_type": "code",
   "source": [
    "class MLP(nn.Module):\n",
    "    ################################################################################\n",
    "    # TODO:                                                                        #\n",
    "    # Define the __init__ and forward methods for the MLP model.                   #\n",
    "    # Use the Kaiming initialization for the weights.                              #\n",
    "    # Use other activation functions instead of tanh and compare the results.      #\n",
    "    ################################################################################\n",
    "    # *****START OF YOUR CODE (DO NOT DELETE/MODIFY THIS LINE)*****\n",
    "    def __init__(self, vocab_size, context_size, d_embed, d_hidden):\n",
    "        super().__init__()\n",
    "        self.embedding = nn.Embedding(vocab_size, d_embed)\n",
    "        self.linear1 = nn.Linear(context_size * d_embed, d_hidden, bias=True)\n",
    "        self.linear2 = nn.Linear(d_hidden, vocab_size, bias=True)\n",
    "        \n",
    "    def forward(self, x):  # x: (batch_size, context_size)\n",
    "        x_embed = self.embedding(x)  # (batch_size, context_size, d_embed)\n",
    "        x_embed = x_embed.view(x_embed.size(0), -1)  # (batch_size, context_size * d_embed)\n",
    "        x = F.relu(self.linear1(x_embed))  # (batch_size, d_hidden)\n",
    "        x = self.linear2(x)  # (batch_size, vocab_size)\n",
    "        return x\n",
    "    # *****END OF YOUR CODE (DO NOT DELETE/MODIFY THIS LINE)*****"
   ],
   "id": "3fbb0e90bc505757",
   "outputs": [],
   "execution_count": 15
  },
  {
   "metadata": {
    "ExecuteTime": {
     "end_time": "2025-02-10T06:00:43.899116Z",
     "start_time": "2025-02-10T06:00:43.877154Z"
    }
   },
   "cell_type": "code",
   "source": [
    "# Initialize the model\n",
    "mlp = MLP(MLPConfig.vocab_size, MLPConfig.context_size, MLPConfig.d_embed, MLPConfig.d_hidden)\n",
    "mlp.to(MLPConfig.device) # Move the model to the device\n",
    "print(mlp)\n",
    "print(\"Number of parameters:\", sum(p.numel() for p in mlp.parameters()))"
   ],
   "id": "78374911f6424dbe",
   "outputs": [
    {
     "name": "stdout",
     "output_type": "stream",
     "text": [
      "MLP(\n",
      "  (embedding): Embedding(27, 16)\n",
      "  (linear1): Linear(in_features=48, out_features=64, bias=True)\n",
      "  (linear2): Linear(in_features=64, out_features=27, bias=True)\n",
      ")\n",
      "Number of parameters: 5323\n"
     ]
    }
   ],
   "execution_count": 16
  },
  {
   "metadata": {},
   "cell_type": "markdown",
   "source": "## Training",
   "id": "62d6bd917a11788c"
  },
  {
   "metadata": {},
   "cell_type": "markdown",
   "source": [
    "### Task 3: Wandb Integration\n",
    "\n",
    "[Weights and Biases](https://wandb.ai/site) is a platform to track your machine learning experiments. It is very useful to log the hyperparameters, metrics, and weights of the model. (We can't use matplotlib every time to visualize the results)\n",
    "\n",
    "Create a free account on Wandb. Initialize the wandb run and log the hyperparameters and metrics.\n",
    "\n",
    "**How to set up WANDB API KEY**\n",
    "- Create an account on Wandb\n",
    "- Go to `wandb.ai` -> `Settings` -> `API Keys` -> `Copy API Key`\n",
    "- Set the API key as an environment variable `WANDB_API_KEY`\n",
    "    - What is an environment variable? How to set it? Google `.env`\n",
    "\n",
    "Note: Do not hardcode the API key in the script. Use environment variables.\n",
    "\n"
   ],
   "id": "4357b5eacdb2bb5a"
  },
  {
   "metadata": {
    "ExecuteTime": {
     "end_time": "2025-02-10T06:00:45.681485Z",
     "start_time": "2025-02-10T06:00:43.910359Z"
    }
   },
   "cell_type": "code",
   "source": [
    "wandb.login(key=os.environ.get(\"WANDB_API_KEY\"))\n",
    "wandb_run = wandb.init(\n",
    "        project=\"assignment-04\",\n",
    "        config={\n",
    "            \"d_embed\": MLPConfig.d_embed,\n",
    "            \"d_hidden\": MLPConfig.d_hidden,\n",
    "            \"lr\": MLPConfig.lr,\n",
    "        },\n",
    "        dir=MLPConfig.root_dir\n",
    "    )\n",
    "print(f\"Wandb run initialized: {wandb_run.id}\")"
   ],
   "id": "4c5c45d3303decfb",
   "outputs": [
    {
     "name": "stderr",
     "output_type": "stream",
     "text": [
      "\u001B[34m\u001B[1mwandb\u001B[0m: Currently logged in as: \u001B[33mpathfinderkr\u001B[0m to \u001B[32mhttps://api.wandb.ai\u001B[0m. Use \u001B[1m`wandb login --relogin`\u001B[0m to force relogin\n",
      "\u001B[34m\u001B[1mwandb\u001B[0m: Using wandb-core as the SDK backend.  Please refer to https://wandb.me/wandb-core for more information.\n"
     ]
    },
    {
     "data": {
      "text/plain": [
       "<IPython.core.display.HTML object>"
      ],
      "text/html": [
       "Tracking run with wandb version 0.19.6"
      ]
     },
     "metadata": {},
     "output_type": "display_data"
    },
    {
     "data": {
      "text/plain": [
       "<IPython.core.display.HTML object>"
      ],
      "text/html": [
       "Run data is saved locally in <code>/Users/pathfinder/Documents/GitHub/LLM101/notebooks/Assignments/../../wandb/run-20250210_150044-mbywneze</code>"
      ]
     },
     "metadata": {},
     "output_type": "display_data"
    },
    {
     "data": {
      "text/plain": [
       "<IPython.core.display.HTML object>"
      ],
      "text/html": [
       "Syncing run <strong><a href='https://wandb.ai/pathfinderkr/assignment-04/runs/mbywneze' target=\"_blank\">fresh-frog-1</a></strong> to <a href='https://wandb.ai/pathfinderkr/assignment-04' target=\"_blank\">Weights & Biases</a> (<a href='https://wandb.me/developer-guide' target=\"_blank\">docs</a>)<br>"
      ]
     },
     "metadata": {},
     "output_type": "display_data"
    },
    {
     "data": {
      "text/plain": [
       "<IPython.core.display.HTML object>"
      ],
      "text/html": [
       " View project at <a href='https://wandb.ai/pathfinderkr/assignment-04' target=\"_blank\">https://wandb.ai/pathfinderkr/assignment-04</a>"
      ]
     },
     "metadata": {},
     "output_type": "display_data"
    },
    {
     "data": {
      "text/plain": [
       "<IPython.core.display.HTML object>"
      ],
      "text/html": [
       " View run at <a href='https://wandb.ai/pathfinderkr/assignment-04/runs/mbywneze' target=\"_blank\">https://wandb.ai/pathfinderkr/assignment-04/runs/mbywneze</a>"
      ]
     },
     "metadata": {},
     "output_type": "display_data"
    },
    {
     "name": "stdout",
     "output_type": "stream",
     "text": [
      "Wandb run initialized: mbywneze\n"
     ]
    }
   ],
   "execution_count": 17
  },
  {
   "metadata": {},
   "cell_type": "markdown",
   "source": [
    "### Task 4: Training\n",
    "\n",
    "Train the model. Change the hyperparameters and configurations. Log the results and analyze it."
   ],
   "id": "25a58f16a9e13134"
  },
  {
   "metadata": {
    "ExecuteTime": {
     "end_time": "2025-02-10T06:00:45.698438Z",
     "start_time": "2025-02-10T06:00:45.691138Z"
    }
   },
   "cell_type": "code",
   "source": [
    "def train(\n",
    "        model: nn.Module,\n",
    "        train_loader: DataLoader,\n",
    "        val_loader: DataLoader,\n",
    "        max_steps: int,\n",
    "        lr: float,\n",
    "        val_interval: int,\n",
    "        log_interval: int,\n",
    "        device: torch.device,\n",
    "        wandb_run: wandb.sdk.wandb_run.Run\n",
    "):\n",
    "    \"\"\"\n",
    "    Train the model for a fixed number of steps.\n",
    "\n",
    "    Args:\n",
    "        model (nn.Module): The model to train.\n",
    "        train_loader (DataLoader): DataLoader for the training data.\n",
    "        val_loader (DataLoader): DataLoader for the validation data.\n",
    "        max_steps (int): Maximum number of steps to train.\n",
    "        lr (float): Learning rate.\n",
    "        val_interval (int): Interval for validation.\n",
    "        log_interval (int): Interval for logging.\n",
    "        device (torch.device): Device to run the model on.\n",
    "        wandb_run (wandb.sdk.wandb_run.Run): Wandb run for logging.\n",
    "    \"\"\"\n",
    "    # Set up the optimizer\n",
    "    optimizer = torch.optim.Adam(model.parameters(), lr=lr)\n",
    "\n",
    "    running_loss = 0.0\n",
    "    step = 1\n",
    "    progress_bar = tqdm(enumerate(train_loader), total=max_steps, desc=\"Training\")\n",
    "\n",
    "    while step <= max_steps:\n",
    "        model.train()\n",
    "        for batch_idx, (train_inputs, train_targets) in progress_bar:\n",
    "            train_inputs, train_targets = train_inputs.to(device), train_targets.to(device)\n",
    "            optimizer.zero_grad()\n",
    "            logits = model(train_inputs)\n",
    "            loss = F.cross_entropy(logits, train_targets)\n",
    "            loss.backward()\n",
    "            optimizer.step()\n",
    "            running_loss += loss.item()\n",
    "            progress_bar.set_postfix(loss=f\"{running_loss / step:.4f}\")\n",
    "\n",
    "            if step % val_interval == 0:\n",
    "                model.eval()\n",
    "                val_loss = 0.0\n",
    "                total_samples = 0\n",
    "                with torch.no_grad():\n",
    "                    for val_inputs, val_targets in val_loader:\n",
    "                        val_inputs, val_targets = val_inputs.to(device), val_targets.to(device)\n",
    "                        val_logits = model(val_inputs)\n",
    "                        batch_loss = F.cross_entropy(val_logits, val_targets)\n",
    "                        val_loss += batch_loss.item() * val_inputs.size(0)\n",
    "                        total_samples += val_inputs.size(0)\n",
    "\n",
    "                #print(f\"Step {step}: Train Loss = {running_loss / step:.4f}, Val Loss = {val_loss / total_samples:.4f}\")\n",
    "                if wandb_run is not None:\n",
    "                    wandb.log({\"Val Loss\": val_loss / total_samples})\n",
    "\n",
    "            if step % log_interval == 0:\n",
    "                if wandb_run is not None:\n",
    "                    wandb.log({\"Train Loss\": running_loss / step})\n",
    "\n",
    "            step += 1\n",
    "\n",
    "    progress_bar.close()\n",
    "    if wandb_run is not None:\n",
    "        wandb_run.finish()"
   ],
   "id": "c0dd7f1c2c2b366f",
   "outputs": [],
   "execution_count": 18
  },
  {
   "metadata": {},
   "cell_type": "markdown",
   "source": "Note: Unfortunatley PyTorch does not support infinite DataLoader. The train will stop when it reaches the end of the DataLoader. (max_steps=6421)",
   "id": "1fd22ec935ba3f10"
  },
  {
   "metadata": {
    "ExecuteTime": {
     "end_time": "2025-02-10T06:02:54.327029Z",
     "start_time": "2025-02-10T06:00:45.715105Z"
    }
   },
   "cell_type": "code",
   "source": [
    "train(\n",
    "    model=mlp,\n",
    "    train_loader=train_loader,\n",
    "    val_loader=val_loader,\n",
    "    max_steps=MLPConfig.max_steps,\n",
    "    lr=MLPConfig.lr,\n",
    "    val_interval=MLPConfig.val_interval,\n",
    "    log_interval=MLPConfig.log_interval,\n",
    "    device=MLPConfig.device,\n",
    "    wandb_run=wandb_run\n",
    ")"
   ],
   "id": "efed6ca46233328d",
   "outputs": [
    {
     "name": "stderr",
     "output_type": "stream",
     "text": [
      "Training: 6421it [02:05, 51.15it/s, loss=2.3076]                           \n"
     ]
    },
    {
     "data": {
      "text/plain": [
       "<IPython.core.display.HTML object>"
      ],
      "text/html": []
     },
     "metadata": {},
     "output_type": "display_data"
    },
    {
     "data": {
      "text/plain": [
       "<IPython.core.display.HTML object>"
      ],
      "text/html": [
       "<br>    <style><br>        .wandb-row {<br>            display: flex;<br>            flex-direction: row;<br>            flex-wrap: wrap;<br>            justify-content: flex-start;<br>            width: 100%;<br>        }<br>        .wandb-col {<br>            display: flex;<br>            flex-direction: column;<br>            flex-basis: 100%;<br>            flex: 1;<br>            padding: 10px;<br>        }<br>    </style><br><div class=\"wandb-row\"><div class=\"wandb-col\"><h3>Run history:</h3><br/><table class=\"wandb\"><tr><td>Train Loss</td><td>█▇▅▅▅▄▄▄▃▃▃▃▂▂▂▂▂▂▂▂▂▂▂▂▂▁▁▁▁▁▁▁▁▁▁▁▁▁▁▁</td></tr><tr><td>Val Loss</td><td>█▅▅▅▄▄▃▄▃▃▂▃▂▂▃▃▂▂▂▂▂▂▂▂▂▁▂▁▂▁▂▂▁▁▂▁▂▂▁▂</td></tr></table><br/></div><div class=\"wandb-col\"><h3>Run summary:</h3><br/><table class=\"wandb\"><tr><td>Train Loss</td><td>2.30775</td></tr><tr><td>Val Loss</td><td>2.27987</td></tr></table><br/></div></div>"
      ]
     },
     "metadata": {},
     "output_type": "display_data"
    },
    {
     "data": {
      "text/plain": [
       "<IPython.core.display.HTML object>"
      ],
      "text/html": [
       " View run <strong style=\"color:#cdcd00\">fresh-frog-1</strong> at: <a href='https://wandb.ai/pathfinderkr/assignment-04/runs/mbywneze' target=\"_blank\">https://wandb.ai/pathfinderkr/assignment-04/runs/mbywneze</a><br> View project at: <a href='https://wandb.ai/pathfinderkr/assignment-04' target=\"_blank\">https://wandb.ai/pathfinderkr/assignment-04</a><br>Synced 5 W&B file(s), 0 media file(s), 0 artifact file(s) and 0 other file(s)"
      ]
     },
     "metadata": {},
     "output_type": "display_data"
    },
    {
     "data": {
      "text/plain": [
       "<IPython.core.display.HTML object>"
      ],
      "text/html": [
       "Find logs at: <code>./../../wandb/run-20250210_150044-mbywneze/logs</code>"
      ]
     },
     "metadata": {},
     "output_type": "display_data"
    }
   ],
   "execution_count": 19
  },
  {
   "metadata": {
    "ExecuteTime": {
     "end_time": "2025-02-10T06:02:54.855886Z",
     "start_time": "2025-02-10T06:02:54.845674Z"
    }
   },
   "cell_type": "code",
   "source": [
    "################################################################################\n",
    "# TODO:                                                                        #\n",
    "# Analyze the results                                                          #\n",
    "# What hyperparameters worked well? What activation did you use? etc.          #\n",
    "################################################################################\n",
    "# *****START OF YOUR CODE (DO NOT DELETE/MODIFY THIS LINE)*****\n",
    "#\n",
    "# *****END OF YOUR CODE (DO NOT DELETE/MODIFY THIS LINE)*****"
   ],
   "id": "73b18f523de26ce3",
   "outputs": [],
   "execution_count": 20
  },
  {
   "metadata": {},
   "cell_type": "markdown",
   "source": "## Inference",
   "id": "af0c069cfb0e2b6f"
  },
  {
   "metadata": {
    "ExecuteTime": {
     "end_time": "2025-02-10T06:02:54.922936Z",
     "start_time": "2025-02-10T06:02:54.917729Z"
    }
   },
   "cell_type": "code",
   "source": [
    "def generate_name(model: nn.Module, context_size: int, decoder: dict, end_id: int, device: torch.device) -> str:\n",
    "    \"\"\"\n",
    "    Generate a name using the model.\n",
    "\n",
    "    Args:\n",
    "        model (nn.Module): Model to generate the name.\n",
    "        context_size (int): Context size of the model.\n",
    "        decoder (dict): Decoder dictionary to convert indices to characters.\n",
    "        end_id (int): End token id.\n",
    "        device (torch.device): Device to run the model on\n",
    "\n",
    "    Returns:\n",
    "        (str): Generated name\n",
    "    \"\"\"\n",
    "    new_name = []\n",
    "    context = [end_id] * context_size\n",
    "\n",
    "    while True:\n",
    "        x = torch.tensor(context).unsqueeze(0).to(device)\n",
    "        logits = model(x)\n",
    "        probs = F.softmax(logits, dim=-1)\n",
    "        idx = torch.multinomial(probs, num_samples=1).item()\n",
    "        new_name.append(decoder[idx])\n",
    "        context = context[1:] + [idx]\n",
    "        if idx == end_id:\n",
    "            break\n",
    "\n",
    "    return \"\".join(new_name)"
   ],
   "id": "18b3ab05935f1d51",
   "outputs": [],
   "execution_count": 21
  },
  {
   "metadata": {
    "ExecuteTime": {
     "end_time": "2025-02-10T06:02:55.306560Z",
     "start_time": "2025-02-10T06:02:54.947772Z"
    }
   },
   "cell_type": "code",
   "source": [
    "for _ in range(5):\n",
    "    print(generate_name(\n",
    "        model=mlp,\n",
    "        context_size=MLPConfig.context_size,\n",
    "        decoder=idx2str,\n",
    "        end_id=str2idx[\".\"],\n",
    "        device=MLPConfig.device\n",
    "    ))"
   ],
   "id": "d77d393036879fe2",
   "outputs": [
    {
     "name": "stdout",
     "output_type": "stream",
     "text": [
      "adezliancrodianny.\n",
      "zrace.\n",
      "laanais.\n",
      "yulsin.\n",
      "kaseon.\n"
     ]
    }
   ],
   "execution_count": 22
  }
 ],
 "metadata": {
  "kernelspec": {
   "display_name": "Python 3",
   "language": "python",
   "name": "python3"
  },
  "language_info": {
   "codemirror_mode": {
    "name": "ipython",
    "version": 2
   },
   "file_extension": ".py",
   "mimetype": "text/x-python",
   "name": "python",
   "nbconvert_exporter": "python",
   "pygments_lexer": "ipython2",
   "version": "2.7.6"
  }
 },
 "nbformat": 4,
 "nbformat_minor": 5
}
