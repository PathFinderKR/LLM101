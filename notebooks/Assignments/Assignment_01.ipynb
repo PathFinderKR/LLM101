{
 "cells": [
  {
   "metadata": {},
   "cell_type": "markdown",
   "source": [
    "# Assignment 1\n",
    "\n",
    "In this assignment, you will investigate the precision issues in computing the gradient. You will also implement a simple linear regression model using the custom autograd engine."
   ],
   "id": "1c58786e7d26ad61"
  },
  {
   "metadata": {},
   "cell_type": "markdown",
   "source": "## Task 1: Precision issues",
   "id": "abb3e4038597e341"
  },
  {
   "metadata": {
    "ExecuteTime": {
     "end_time": "2025-02-09T10:50:21.545359Z",
     "start_time": "2025-02-09T10:50:21.540654Z"
    }
   },
   "cell_type": "code",
   "source": [
    "def f(x):\n",
    "    return 3 * x ** 2 - 4 * x + 5\n",
    "\n",
    "def gradient(f, x, h=0.0001):\n",
    "    return (f(x + h) - f(x)) / h\n",
    "\n",
    "gradient(f, 2)"
   ],
   "id": "9d637ecc07f917b6",
   "outputs": [
    {
     "data": {
      "text/plain": [
       "8.000300000023941"
      ]
     },
     "execution_count": 1,
     "metadata": {},
     "output_type": "execute_result"
    }
   ],
   "execution_count": 1
  },
  {
   "metadata": {
    "collapsed": true,
    "ExecuteTime": {
     "end_time": "2025-02-09T10:50:21.561068Z",
     "start_time": "2025-02-09T10:50:21.557662Z"
    }
   },
   "cell_type": "code",
   "source": [
    "# What happens if we keep decreasing h?\n",
    "gradient(f, 2, h=0.0000000000000001)\n",
    "\n",
    "################################################################################\n",
    "# TODO:                                                                        #\n",
    "# Why is the gradient 0?                                                       #\n",
    "# If you don't know, google it!                                                #\n",
    "################################################################################\n",
    "# *****START OF YOUR CODE (DO NOT DELETE/MODIFY THIS LINE)*****\n",
    "# ANSWER:\n",
    "\n",
    "# *****END OF YOUR CODE (DO NOT DELETE/MODIFY THIS LINE)*****"
   ],
   "id": "initial_id",
   "outputs": [
    {
     "data": {
      "text/plain": [
       "0.0"
      ]
     },
     "execution_count": 2,
     "metadata": {},
     "output_type": "execute_result"
    }
   ],
   "execution_count": 2
  },
  {
   "metadata": {},
   "cell_type": "markdown",
   "source": [
    "## Task 2: Linear Regression\n",
    "\n",
    "Let's review the training loop of a simple linear regression model."
   ],
   "id": "7f38cac6fc0e388d"
  },
  {
   "metadata": {},
   "cell_type": "markdown",
   "source": "### Importing Libraries",
   "id": "5bca901c841e73c5"
  },
  {
   "metadata": {
    "ExecuteTime": {
     "end_time": "2025-02-09T10:50:21.567404Z",
     "start_time": "2025-02-09T10:50:21.562229Z"
    }
   },
   "cell_type": "code",
   "source": [
    "import math\n",
    "import random"
   ],
   "id": "3085115ded6fe281",
   "outputs": [],
   "execution_count": 3
  },
  {
   "metadata": {
    "ExecuteTime": {
     "end_time": "2025-02-09T10:50:21.575174Z",
     "start_time": "2025-02-09T10:50:21.568296Z"
    }
   },
   "cell_type": "code",
   "source": [
    "class Tensor:\n",
    "    def __init__(self, data, _children=(), _operation=''):\n",
    "        self.data = data\n",
    "        self._prev = set(_children)\n",
    "        self.gradient = 0\n",
    "        self._backward = lambda: None\n",
    "\n",
    "    def __repr__(self):\n",
    "        return f\"tensor=({self.data})\"\n",
    "\n",
    "    def __add__(self, other):  # self + other\n",
    "        output = Tensor(self.data + other.data, (self, other), '+')\n",
    "        def _backward():\n",
    "            self.gradient = 1 * output.gradient\n",
    "            other.gradient = 1 * output.gradient\n",
    "        output._backward = _backward\n",
    "        return output\n",
    "\n",
    "    def __mul__(self, other):  # self * other\n",
    "        output = Tensor(self.data * other.data, (self, other), '*')\n",
    "        def _backward():\n",
    "            self.gradient = other.data * output.gradient\n",
    "            other.gradient = self.data * output.gradient\n",
    "        output._backward = _backward\n",
    "        return output\n",
    "\n",
    "    def tanh(self):  # tanh(self)\n",
    "        output = Tensor(math.tanh(self.data), (self,), 'tanh')\n",
    "        def _backward():\n",
    "            self.gradient = (1.0 - math.tanh(self.data) ** 2) * output.gradient\n",
    "        output._backward = _backward\n",
    "        return output\n",
    "\n",
    "    def __pow__(self, power):  # self ** power\n",
    "        assert isinstance(power, (int, float)), \"Power must be an int or a float\"\n",
    "        output = Tensor(self.data ** power, (self,), f'**{power}')\n",
    "        def _backward():\n",
    "            self.gradient = power * (self.data ** (power - 1)) * output.gradient\n",
    "        output._backward = _backward\n",
    "        return output\n",
    "\n",
    "    def backward(self):\n",
    "        topo = []\n",
    "        visited = set()\n",
    "        def build_topo(v):\n",
    "            if v not in visited:\n",
    "                visited.add(v)\n",
    "                for child in v._prev:\n",
    "                    build_topo(child)\n",
    "                topo.append(v)\n",
    "        build_topo(self)\n",
    "        self.gradient = 1\n",
    "        for node in reversed(topo):\n",
    "            node._backward()\n",
    "\n",
    "    def __neg__(self): # -self\n",
    "        return self * Tensor(-1.0)\n",
    "\n",
    "    def __sub__(self, other): # self - other\n",
    "        return self + (-other)"
   ],
   "id": "54917eb18f15a26a",
   "outputs": [],
   "execution_count": 4
  },
  {
   "metadata": {},
   "cell_type": "markdown",
   "source": [
    "### Data\n",
    "\n",
    "**GOAL: Find the best line that fits the following data.**\n",
    "\n",
    "![Data](../../assets/linear.png)\n",
    "\n",
    "(Image credit: MIT 18.06)\n",
    "\n",
    "(1, 1), (2, 2), (3, 2)"
   ],
   "id": "8c6a0bf8bbd6a560"
  },
  {
   "metadata": {
    "ExecuteTime": {
     "end_time": "2025-02-09T10:50:21.583794Z",
     "start_time": "2025-02-09T10:50:21.576304Z"
    }
   },
   "cell_type": "code",
   "source": [
    "# Input, Target data\n",
    "input = [Tensor(1), Tensor(2), Tensor(3)]\n",
    "target = [Tensor(1), Tensor(2), Tensor(2)]"
   ],
   "id": "76e76d698b2bd862",
   "outputs": [],
   "execution_count": 5
  },
  {
   "metadata": {},
   "cell_type": "markdown",
   "source": "### Model",
   "id": "26e07078367a6cf2"
  },
  {
   "metadata": {
    "ExecuteTime": {
     "end_time": "2025-02-09T10:50:21.591998Z",
     "start_time": "2025-02-09T10:50:21.584825Z"
    }
   },
   "cell_type": "code",
   "source": [
    "# Linear regression model\n",
    "class Linear:\n",
    "    def __init__(self):\n",
    "        self.a = Tensor(random.uniform(-1, 1))\n",
    "        self.b = Tensor(random.uniform(-1, 1))\n",
    "\n",
    "    def __call__(self, x):\n",
    "        y = self.a * x + self.b\n",
    "        return y\n",
    "\n",
    "    def parameters(self):\n",
    "        return self.a, self.b"
   ],
   "id": "eb6d8bd7ee689ba5",
   "outputs": [],
   "execution_count": 6
  },
  {
   "metadata": {
    "ExecuteTime": {
     "end_time": "2025-02-09T10:50:21.599152Z",
     "start_time": "2025-02-09T10:50:21.592939Z"
    }
   },
   "cell_type": "code",
   "source": [
    "# Initialize the model\n",
    "model = Linear()\n",
    "\n",
    "# Example forward pass\n",
    "print(f\"Output: {model(input[0])}\")"
   ],
   "id": "115e33323215ad51",
   "outputs": [
    {
     "name": "stdout",
     "output_type": "stream",
     "text": [
      "Output: tensor=(0.22733096899791416)\n"
     ]
    }
   ],
   "execution_count": 7
  },
  {
   "metadata": {},
   "cell_type": "markdown",
   "source": [
    "### Training\n",
    "\n",
    "Implement the training loop for the linear regression model.\n",
    "\n",
    "Choose an appropriate learning rate."
   ],
   "id": "ef292ec8ddb33418"
  },
  {
   "metadata": {
    "ExecuteTime": {
     "end_time": "2025-02-09T10:50:21.607240Z",
     "start_time": "2025-02-09T10:50:21.600100Z"
    }
   },
   "cell_type": "code",
   "source": [
    "lr = 2e-4  # learning rate\n",
    "\n",
    "# Training loop\n",
    "for step in range(10):\n",
    "    total_loss = Tensor(0)\n",
    "    \n",
    "    # Forward pass\n",
    "    for x, y in zip(input, target):\n",
    "        ################################################################################\n",
    "        # TODO:                                                                        #\n",
    "        # Implement the forward pass.                                                  #\n",
    "        ################################################################################\n",
    "        # *****START OF YOUR CODE (DO NOT DELETE/MODIFY THIS LINE)*****\n",
    "        output = model(x)\n",
    "        loss = (output - y) ** 2\n",
    "        # *****END OF YOUR CODE (DO NOT DELETE/MODIFY THIS LINE)*****\n",
    "        total_loss += loss\n",
    "\n",
    "    # Backward pass\n",
    "    ################################################################################\n",
    "    # TODO:                                                                        #\n",
    "    # Implement the backward pass.                                                 #\n",
    "    ################################################################################\n",
    "    # *****START OF YOUR CODE (DO NOT DELETE/MODIFY THIS LINE)*****\n",
    "    for param in model.parameters():\n",
    "        param.gradient = 0  # Zero the gradients\n",
    "    total_loss.backward()\n",
    "    # *****END OF YOUR CODE (DO NOT DELETE/MODIFY THIS LINE)*****\n",
    "\n",
    "    # Update weights\n",
    "    ################################################################################\n",
    "    # TODO:                                                                        #\n",
    "    # Update the weights of the model using the gradients.                         #\n",
    "    ################################################################################\n",
    "    # *****START OF YOUR CODE (DO NOT DELETE/MODIFY THIS LINE)*****\n",
    "    for param in model.parameters():\n",
    "        param.data -= lr * param.gradient\n",
    "    # *****END OF YOUR CODE (DO NOT DELETE/MODIFY THIS LINE)*****\n",
    "            \n",
    "    print(f\"Step: {step}, Loss: {total_loss.data}\")"
   ],
   "id": "a593eadd7f471de7",
   "outputs": [
    {
     "name": "stdout",
     "output_type": "stream",
     "text": [
      "Step: 0, Loss: 16.33067535836016\n",
      "Step: 1, Loss: 16.202474062396277\n",
      "Step: 2, Loss: 16.189403308206472\n",
      "Step: 3, Loss: 16.062329089423407\n",
      "Step: 4, Loss: 15.992264835023185\n",
      "Step: 5, Loss: 15.979425218971588\n",
      "Step: 6, Loss: 15.966601216663147\n",
      "Step: 7, Loss: 15.953792807062998\n",
      "Step: 8, Loss: 15.828593781774558\n",
      "Step: 9, Loss: 15.704395084630537\n"
     ]
    }
   ],
   "execution_count": 8
  },
  {
   "metadata": {
    "ExecuteTime": {
     "end_time": "2025-02-09T10:50:21.617567Z",
     "start_time": "2025-02-09T10:50:21.608147Z"
    }
   },
   "cell_type": "code",
   "source": [
    "# Print the final weights of the model\n",
    "print(f\"y = {model.a.data}*x + {model.b.data}\")"
   ],
   "id": "9bf143c6ea52981f",
   "outputs": [
    {
     "name": "stdout",
     "output_type": "stream",
     "text": [
      "y = -0.6528137309198347*x + 0.9102107917654529\n"
     ]
    }
   ],
   "execution_count": 9
  },
  {
   "metadata": {},
   "cell_type": "markdown",
   "source": [
    "## Extra Credit\n",
    "\n",
    "Linear regression is the simplest form of neural networks. It actually does not require gradient descent to solve for the weights.\n",
    "\n",
    "**Find a way to get the weights of the linear regression model without using gradient descent.**"
   ],
   "id": "f780baeabe64ada1"
  },
  {
   "metadata": {
    "ExecuteTime": {
     "end_time": "2025-02-09T10:50:21.632116Z",
     "start_time": "2025-02-09T10:50:21.619026Z"
    }
   },
   "cell_type": "code",
   "source": [
    "################################################################################\n",
    "# TODO:                                                                        #\n",
    "# y = ax + b                                                                   #\n",
    "# x, y = (1, 1), (2, 2), (3, 2)                                                #\n",
    "# Find the values of a and b without using gradient descent.                   #\n",
    "################################################################################\n",
    "# *****START OF YOUR CODE (DO NOT DELETE/MODIFY THIS LINE)*****\n",
    "# a = ??\n",
    "# b = ??\n",
    "# *****END OF YOUR CODE (DO NOT DELETE/MODIFY THIS LINE)*****"
   ],
   "id": "969d8988286f10fc",
   "outputs": [],
   "execution_count": 10
  }
 ],
 "metadata": {
  "kernelspec": {
   "display_name": "Python 3",
   "language": "python",
   "name": "python3"
  },
  "language_info": {
   "codemirror_mode": {
    "name": "ipython",
    "version": 2
   },
   "file_extension": ".py",
   "mimetype": "text/x-python",
   "name": "python",
   "nbconvert_exporter": "python",
   "pygments_lexer": "ipython2",
   "version": "2.7.6"
  }
 },
 "nbformat": 4,
 "nbformat_minor": 5
}
