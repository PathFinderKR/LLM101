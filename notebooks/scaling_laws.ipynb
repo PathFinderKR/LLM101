{
 "cells": [
  {
   "metadata": {},
   "cell_type": "markdown",
   "source": "## Importing libraries",
   "id": "13bf067a48b90762"
  },
  {
   "metadata": {},
   "cell_type": "code",
   "source": [
    "import numpy as np\n",
    "import matplotlib.pyplot as plt"
   ],
   "id": "6087b942c629f52f",
   "outputs": [],
   "execution_count": null
  },
  {
   "metadata": {},
   "cell_type": "code",
   "source": [
    "# Lipschitz function\n",
    "def f(x):\n",
    "    y = np.sin(2 * np.pi * x) + 0.5 * np.cos(4 * np.pi * x)\n",
    "    return y"
   ],
   "id": "b2dce92d79c19d42",
   "outputs": [],
   "execution_count": null
  },
  {
   "metadata": {},
   "cell_type": "code",
   "source": [
    "# Piecewise constant approximation\n",
    "def piecewise_constant(func, x, N):\n",
    "    s = N ** (-1)\n",
    "    bins = np.floor(x / s) * s\n",
    "    return func(bins)\n",
    "\n",
    "# Piecewise linear approximation\n",
    "def piecewise_linear(func, x, N):\n",
    "    s = N ** (-1)\n",
    "    bins = np.floor(x / s) * s\n",
    "    next_bins = bins + s\n",
    "    weights = (x - bins) / s\n",
    "    return (1 - weights) * func(bins) + weights * func(next_bins)\n",
    "\n",
    "# MSE loss\n",
    "def mse_loss(f_true, f_approx):\n",
    "    return np.mean((f_true - f_approx) ** 2)"
   ],
   "id": "5d9c6cacc919003a",
   "outputs": [],
   "execution_count": null
  },
  {
   "metadata": {},
   "cell_type": "code",
   "source": [
    "# Plot function approximations\n",
    "def plot_approximations(func, x, f_true, N_values):\n",
    "    plt.figure(figsize=(10, 5))\n",
    "    plt.plot(x, f_true, label=\"True Function\", color='black')\n",
    "\n",
    "    # Use one representative N for demonstration, e.g. the 4th entry\n",
    "    N_demo = int(N_values[3])\n",
    "    f_const_demo = piecewise_constant(func, x, N_demo)\n",
    "    f_lin_demo = piecewise_linear(func, x, N_demo)\n",
    "\n",
    "    plt.plot(x, f_const_demo, label=f\"Piecewise Constant (N={N_demo})\", linestyle=\"dashed\")\n",
    "    plt.plot(x, f_lin_demo, label=f\"Piecewise Linear (N={N_demo})\", linestyle=\"dotted\")\n",
    "    plt.legend()\n",
    "    plt.title(\"Function Approximations\")\n",
    "    plt.xlabel(\"x\")\n",
    "    plt.ylabel(\"y\")\n",
    "    plt.show()\n",
    "\n",
    "# Plot loss scaling\n",
    "def plot_loss_scaling(N_values, mse_constant_vals, mse_linear_vals):\n",
    "    plt.figure(figsize=(10, 5))\n",
    "    # Empirical scalings\n",
    "    plt.loglog(N_values, mse_constant_vals, 'o-', label=\"Piecewise Constant Loss\")\n",
    "    plt.loglog(N_values, mse_linear_vals, 's-', label=\"Piecewise Linear Loss\")\n",
    "\n",
    "    # Theoretical scalings\n",
    "    plt.loglog(N_values, 1 / (N_values ** 2), '--', label=\"Theoretical O(N^-2) for constant\")\n",
    "    plt.loglog(N_values, 1 / (N_values ** 4), '--', label=\"Theoretical O(N^-4) for linear\")\n",
    "\n",
    "    plt.legend()\n",
    "    plt.title(\"Loss Scaling with N\")\n",
    "    plt.xlabel(\"N\")\n",
    "    plt.ylabel(\"MSE Loss\")\n",
    "    plt.show()"
   ],
   "id": "1c982430b466f4b9",
   "outputs": [],
   "execution_count": null
  },
  {
   "metadata": {},
   "cell_type": "code",
   "source": [
    "x = np.linspace(0, 1, 10)\n",
    "f_true = f(x)\n",
    "\n",
    "N_values = np.logspace(1, 3, 10, dtype=int)\n",
    "mse_constant_vals = []\n",
    "mse_linear_vals = []\n",
    "\n",
    "for N in N_values:\n",
    "    f_const = piecewise_constant(f, x, N)\n",
    "    f_lin = piecewise_linear(f, x, N)\n",
    "\n",
    "    mse_constant_vals.append(mse_loss(f_true, f_const))\n",
    "    mse_linear_vals.append(mse_loss(f_true, f_lin))\n",
    "\n",
    "# Plot one example of approximations\n",
    "plot_approximations(f, x, f_true, N_values)\n",
    "\n",
    "# Plot MSE scaling with N\n",
    "plot_loss_scaling(N_values, mse_constant_vals, mse_linear_vals)"
   ],
   "id": "cb654f3fa0c07ef2",
   "outputs": [],
   "execution_count": null
  }
 ],
 "metadata": {
  "kernelspec": {
   "display_name": "Python 3",
   "language": "python",
   "name": "python3"
  },
  "language_info": {
   "codemirror_mode": {
    "name": "ipython",
    "version": 2
   },
   "file_extension": ".py",
   "mimetype": "text/x-python",
   "name": "python",
   "nbconvert_exporter": "python",
   "pygments_lexer": "ipython2",
   "version": "2.7.6"
  }
 },
 "nbformat": 4,
 "nbformat_minor": 5
}
