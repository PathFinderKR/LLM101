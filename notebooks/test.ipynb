{
 "cells": [
  {
   "cell_type": "code",
   "id": "initial_id",
   "metadata": {
    "collapsed": true,
    "ExecuteTime": {
     "end_time": "2025-02-17T05:44:48.116677Z",
     "start_time": "2025-02-17T05:44:46.744001Z"
    }
   },
   "source": [
    "import torch\n",
    "import torch.nn as nn\n",
    "import torch.nn.functional as F"
   ],
   "outputs": [],
   "execution_count": 1
  },
  {
   "metadata": {
    "ExecuteTime": {
     "end_time": "2025-02-05T08:14:48.606568Z",
     "start_time": "2025-02-05T08:14:48.604703Z"
    }
   },
   "cell_type": "code",
   "source": [
    "context_size = 5\n",
    "d_embed = 16"
   ],
   "id": "90327a157cff24fe",
   "outputs": [],
   "execution_count": 2
  },
  {
   "metadata": {
    "ExecuteTime": {
     "end_time": "2025-02-05T08:14:48.663625Z",
     "start_time": "2025-02-05T08:14:48.657182Z"
    }
   },
   "cell_type": "code",
   "source": [
    "tril = torch.tril(torch.ones(context_size, context_size))\n",
    "mask = torch.zeros(context_size, context_size)\n",
    "mask = mask.masked_fill(tril == 0, float('-inf'))\n",
    "mask = F.softmax(mask, dim=-1)\n",
    "mask"
   ],
   "id": "375eccc9a96488e",
   "outputs": [
    {
     "data": {
      "text/plain": [
       "tensor([[1.0000, 0.0000, 0.0000, 0.0000, 0.0000],\n",
       "        [0.5000, 0.5000, 0.0000, 0.0000, 0.0000],\n",
       "        [0.3333, 0.3333, 0.3333, 0.0000, 0.0000],\n",
       "        [0.2500, 0.2500, 0.2500, 0.2500, 0.0000],\n",
       "        [0.2000, 0.2000, 0.2000, 0.2000, 0.2000]])"
      ]
     },
     "execution_count": 3,
     "metadata": {},
     "output_type": "execute_result"
    }
   ],
   "execution_count": 3
  },
  {
   "metadata": {
    "ExecuteTime": {
     "end_time": "2025-02-05T08:14:49.087842Z",
     "start_time": "2025-02-05T08:14:49.083820Z"
    }
   },
   "cell_type": "code",
   "source": [
    "value = torch.randn(context_size, d_embed)\n",
    "value"
   ],
   "id": "602da5131859f41b",
   "outputs": [
    {
     "data": {
      "text/plain": [
       "tensor([[-0.7482, -1.0120, -0.0785, -0.5177,  1.1935, -0.0689, -0.7837,  0.7090,\n",
       "          0.9079, -0.0320,  0.5597,  0.9166,  0.4053,  2.3993, -0.5944,  0.8245],\n",
       "        [-1.3647, -0.4895, -1.9848, -1.0756, -0.3199,  0.0399,  0.0874, -1.1726,\n",
       "          1.1920, -0.6296,  0.1530,  2.0978, -2.0740,  1.9029,  0.2107, -1.0366],\n",
       "        [ 0.3438, -0.8635,  0.5719, -0.0806,  1.1393, -0.6948,  0.1543, -1.6219,\n",
       "          0.4630, -0.3029,  0.9259, -0.2390, -0.0881,  1.0604, -1.4539,  0.1952],\n",
       "        [ 0.4775, -1.0906, -0.3581, -0.1567, -0.9973, -0.2457,  0.3069,  1.1748,\n",
       "         -0.3095, -0.2139, -0.1392,  2.0191,  0.7314, -0.3383,  0.9137, -0.8571],\n",
       "        [-0.0603, -0.6378,  0.6487,  0.9391,  0.9546,  0.1582, -0.2857, -0.9937,\n",
       "         -0.6400, -0.0252,  1.4679,  1.1117,  0.0677, -0.2794,  0.8476, -0.0346]])"
      ]
     },
     "execution_count": 4,
     "metadata": {},
     "output_type": "execute_result"
    }
   ],
   "execution_count": 4
  },
  {
   "metadata": {
    "ExecuteTime": {
     "end_time": "2025-02-05T08:14:50.189749Z",
     "start_time": "2025-02-05T08:14:50.185615Z"
    }
   },
   "cell_type": "code",
   "source": [
    "out = torch.matmul(mask, value)\n",
    "out"
   ],
   "id": "20e13958d877282e",
   "outputs": [
    {
     "data": {
      "text/plain": [
       "tensor([[-0.7482, -1.0120, -0.0785, -0.5177,  1.1935, -0.0689, -0.7837,  0.7090,\n",
       "          0.9079, -0.0320,  0.5597,  0.9166,  0.4053,  2.3993, -0.5944,  0.8245],\n",
       "        [-1.0565, -0.7508, -1.0316, -0.7967,  0.4368, -0.0145, -0.3482, -0.2318,\n",
       "          1.0499, -0.3308,  0.3563,  1.5072, -0.8344,  2.1511, -0.1919, -0.1061],\n",
       "        [-0.5897, -0.7884, -0.4971, -0.5580,  0.6710, -0.2413, -0.1807, -0.6952,\n",
       "          0.8543, -0.3215,  0.5462,  0.9251, -0.5856,  1.7875, -0.6126, -0.0056],\n",
       "        [-0.3229, -0.8639, -0.4624, -0.4576,  0.2539, -0.2424, -0.0588, -0.2277,\n",
       "          0.5633, -0.2946,  0.3748,  1.1986, -0.2563,  1.2561, -0.2310, -0.2185],\n",
       "        [-0.2704, -0.8187, -0.2402, -0.1783,  0.3940, -0.1623, -0.1042, -0.3809,\n",
       "          0.3227, -0.2407,  0.5935,  1.1812, -0.1915,  0.9490, -0.0153, -0.1817]])"
      ]
     },
     "execution_count": 5,
     "metadata": {},
     "output_type": "execute_result"
    }
   ],
   "execution_count": 5
  },
  {
   "metadata": {},
   "cell_type": "markdown",
   "source": [
    "# Why query, key, value?\n",
    "\n",
    "The model needs a communication step: matmul, concat, linear whatever it is, pass two tokens\n",
    "\n",
    "concat, linear -> for every step, number of vectors are powered by 2 -> the model size gets enormously big\n",
    "\n",
    "So it leads to the goal: Input tensor shape and Output tensor shape must be the same.\n",
    "1. get value vector: it will remain its size\n",
    "2. do a weighted sum between the value vectors\n",
    "3. to do weighted sum, we need to know the importance of each value vector: get it by query, key"
   ],
   "id": "28097003fce715f"
  },
  {
   "metadata": {
    "ExecuteTime": {
     "end_time": "2025-02-17T05:44:48.159937Z",
     "start_time": "2025-02-17T05:44:48.125003Z"
    }
   },
   "cell_type": "code",
   "source": "torch.log(torch.tensor(1/10))",
   "id": "d16c154061437d16",
   "outputs": [
    {
     "data": {
      "text/plain": [
       "tensor(-2.3026)"
      ]
     },
     "execution_count": 2,
     "metadata": {},
     "output_type": "execute_result"
    }
   ],
   "execution_count": 2
  },
  {
   "metadata": {},
   "cell_type": "code",
   "outputs": [],
   "execution_count": null,
   "source": "",
   "id": "a7a480d6168d9218"
  }
 ],
 "metadata": {
  "kernelspec": {
   "display_name": "Python 3",
   "language": "python",
   "name": "python3"
  },
  "language_info": {
   "codemirror_mode": {
    "name": "ipython",
    "version": 2
   },
   "file_extension": ".py",
   "mimetype": "text/x-python",
   "name": "python",
   "nbconvert_exporter": "python",
   "pygments_lexer": "ipython2",
   "version": "2.7.6"
  }
 },
 "nbformat": 4,
 "nbformat_minor": 5
}
