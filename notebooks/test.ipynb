{
 "cells": [
  {
   "cell_type": "code",
   "id": "initial_id",
   "metadata": {
    "collapsed": true,
    "ExecuteTime": {
     "end_time": "2025-02-04T08:52:29.849839Z",
     "start_time": "2025-02-04T08:52:28.774537Z"
    }
   },
   "source": "import torch",
   "outputs": [],
   "execution_count": 1
  },
  {
   "metadata": {
    "ExecuteTime": {
     "end_time": "2025-02-04T09:04:44.940088Z",
     "start_time": "2025-02-04T09:04:44.933927Z"
    }
   },
   "cell_type": "code",
   "source": [
    "bytes = torch.tensor([[1, 2, 3, 4, 5, 6, 7, 8, 9, 10],\n",
    "                      [11, 12, 13, 14, 15, 16, 17, 18, 19, 20]])\n",
    "print(bytes)\n",
    "print(bytes.shape)\n",
    "print(bytes.shape[0])\n",
    "print(bytes[:, :-2])\n",
    "print()\n",
    "\n",
    "new_bytes = bytes.new(bytes.shape[0], 2)\n",
    "print(new_bytes)\n",
    "print(new_bytes.shape)\n",
    "print()\n",
    "\n",
    "print(torch.cat((bytes[:, :-2], new_bytes), dim=1))"
   ],
   "id": "3fbddb7fc3a47039",
   "outputs": [
    {
     "name": "stdout",
     "output_type": "stream",
     "text": [
      "tensor([[ 1,  2,  3,  4,  5,  6,  7,  8,  9, 10],\n",
      "        [11, 12, 13, 14, 15, 16, 17, 18, 19, 20]])\n",
      "torch.Size([2, 10])\n",
      "2\n",
      "tensor([[ 1,  2,  3,  4,  5,  6,  7,  8],\n",
      "        [11, 12, 13, 14, 15, 16, 17, 18]])\n",
      "\n",
      "tensor([[0, 0],\n",
      "        [0, 0]])\n",
      "torch.Size([2, 2])\n",
      "\n",
      "tensor([[ 1,  2,  3,  4,  5,  6,  7,  8,  0,  0],\n",
      "        [11, 12, 13, 14, 15, 16, 17, 18,  0,  0]])\n"
     ]
    }
   ],
   "execution_count": 15
  },
  {
   "metadata": {},
   "cell_type": "code",
   "outputs": [],
   "execution_count": null,
   "source": "",
   "id": "375eccc9a96488e"
  }
 ],
 "metadata": {
  "kernelspec": {
   "display_name": "Python 3",
   "language": "python",
   "name": "python3"
  },
  "language_info": {
   "codemirror_mode": {
    "name": "ipython",
    "version": 2
   },
   "file_extension": ".py",
   "mimetype": "text/x-python",
   "name": "python",
   "nbconvert_exporter": "python",
   "pygments_lexer": "ipython2",
   "version": "2.7.6"
  }
 },
 "nbformat": 4,
 "nbformat_minor": 5
}
